{
 "cells": [
  {
   "cell_type": "markdown",
   "metadata": {},
   "source": [
    "## What is Model Context Protocol\n",
    "\n",
    "Model Context Protocol (MCP) allows users to easily plug-and-play 3rd party resources into AI systems with an interface that's easy to understand and use by LLMs.\n",
    "\n",
    "- **Tip** You can find a list of more popular Model Context Protocol (MCP) resources at [punkpeye/awesome-mcp-servers](https://github.com/punkpeye/)\n",
    "\n",
    "In this example we'll be focusing only on integrating MCP Tools into the [BAML](https://www.boundaryml.com/) structured generation framework."
   ]
  },
  {
   "cell_type": "markdown",
   "metadata": {},
   "source": [
    "## Let's pick an MCP tool: Calculator\n",
    "\n",
    "Let's start by using [githejie/mcp-server-calculator](https://github.com/githejie/mcp-server-calculator) with BAML.\n",
    "\n",
    "The instructions show how can we \"import\" the MCP Server (which contains the calculator tool) into our application:\n",
    "```json\n",
    "\"mcpServers\": {\n",
    "  \"calculator\": {\n",
    "    \"command\": \"python\",\n",
    "    \"args\": [\"-m\", \"mcp_server_calculator\"]\n",
    "  }\n",
    "}\n",
    "```\n",
    "\n",
    "Let's import the MCP Server into our BAML application:"
   ]
  },
  {
   "cell_type": "code",
   "execution_count": 1,
   "metadata": {},
   "outputs": [],
   "source": [
    "from pydantic_ai.mcp import MCPServerStdio\n",
    "\n",
    "server_with_calculator_tool = MCPServerStdio(\n",
    "    command=\"python\",\n",
    "    args=[\"-m\", \"mcp_server_calculator\"],\n",
    ")"
   ]
  },
  {
   "cell_type": "markdown",
   "metadata": {},
   "source": [
    "Let's check out the available tools. Note, that the server is automatically started using `async with`."
   ]
  },
  {
   "cell_type": "code",
   "execution_count": 2,
   "metadata": {},
   "outputs": [
    {
     "name": "stdout",
     "output_type": "stream",
     "text": [
      "[ToolDefinition(name='calculate',\n",
      "                description='Calculates/evaluates the given expression.',\n",
      "                parameters_json_schema={'properties': {'expression': {'title': 'Expression',\n",
      "                                                                      'type': 'string'}},\n",
      "                                        'required': ['expression'],\n",
      "                                        'title': 'calculateArguments',\n",
      "                                        'type': 'object'},\n",
      "                outer_typed_dict_key=None,\n",
      "                strict=None)]\n"
     ]
    }
   ],
   "source": [
    "from pprint import pprint\n",
    "\n",
    "# Server is not running\n",
    "async with server_with_calculator_tool as server:\n",
    "    # Server is now started, we can access the list of tools and run them\n",
    "    tools = await server.list_tools()\n",
    "# Server is now stopped again\n",
    "\n",
    "pprint(tools)"
   ]
  },
  {
   "cell_type": "markdown",
   "metadata": {},
   "source": [
    "Let's try to use the calculator tool manually and verify the resul:"
   ]
  },
  {
   "cell_type": "code",
   "execution_count": 15,
   "metadata": {},
   "outputs": [
    {
     "name": "stdout",
     "output_type": "stream",
     "text": [
      "CallToolResult(meta=None, content=[TextContent(type='text', text='24024', annotations=None)], isError=False)\n"
     ]
    }
   ],
   "source": [
    "tool_name = \"calculate\"\n",
    "arguments = {\"expression\": \"11 * 12 * 13 * 14\"}\n",
    "\n",
    "async with server_with_calculator_tool as server:\n",
    "    result = await server.call_tool(\"calculate\", arguments)\n",
    "\n",
    "pprint(result)"
   ]
  },
  {
   "cell_type": "code",
   "execution_count": null,
   "metadata": {},
   "outputs": [
    {
     "data": {
      "text/plain": [
       "24024"
      ]
     },
     "metadata": {},
     "output_type": "display_data"
    }
   ],
   "source": [
    "11 * 12 * 13 * 14"
   ]
  },
  {
   "cell_type": "markdown",
   "metadata": {},
   "source": [
    "# Manually provide the LLM with the calculator tool"
   ]
  },
  {
   "cell_type": "markdown",
   "metadata": {},
   "source": [
    "Let's create the BAML file:"
   ]
  },
  {
   "cell_type": "code",
   "execution_count": 4,
   "metadata": {},
   "outputs": [
    {
     "name": "stdout",
     "output_type": "stream",
     "text": [
      "class CalculatorToolArguments {\n",
      "    expression string\n",
      "}\n",
      "\n",
      "class UseCalculatorToolOutput {\n",
      "    tool_name \"calculate\"\n",
      "    arguments CalculatorToolArguments\n",
      "}\n",
      "\n",
      "function UseCalculatorTool(goal: string) -> UseCalculatorToolOutput {\n",
      "    client Default\n",
      "    prompt #\"\n",
      "        Use the calculator to solve: {{ goal }}\n",
      "\n",
      "        {{ ctx.output_format }}\n",
      "    \"#\n",
      "}\n",
      "\n",
      "test usage_example {\n",
      "    functions [UseCalculatorTool]\n",
      "    args {\n",
      "        goal \"Multiply all numbers between 10 and 15\"\n",
      "    }\n",
      "}"
     ]
    }
   ],
   "source": [
    "%cat baml_src/01_use_calculator_tool.baml"
   ]
  },
  {
   "cell_type": "markdown",
   "metadata": {},
   "source": [
    "Let's test it:"
   ]
  },
  {
   "cell_type": "code",
   "execution_count": 5,
   "metadata": {},
   "outputs": [
    {
     "data": {
      "text/plain": [
       "UseCalculatorToolOutput(tool_name='calculate', arguments=CalculatorToolArguments(expression='11 * 12 * 13 * 14'))"
      ]
     },
     "execution_count": 5,
     "metadata": {},
     "output_type": "execute_result"
    }
   ],
   "source": [
    "from baml_client.async_client import b\n",
    "\n",
    "inputs = await b.UseCalculator(\"Multiply all numbers between 10 and 15\")"
   ]
  },
  {
   "cell_type": "code",
   "execution_count": 13,
   "metadata": {},
   "outputs": [
    {
     "name": "stdout",
     "output_type": "stream",
     "text": [
      "meta=None content=[TextContent(type='text', text='24024', annotations=None)] isError=False\n"
     ]
    }
   ],
   "source": [
    "async with server_with_calculator_tool as server:\n",
    "    result = await server.call_tool(tool_name=inputs.tool_name, arguments={\"expression\": inputs.arguments.expression})\n",
    "print(result)"
   ]
  },
  {
   "cell_type": "markdown",
   "metadata": {},
   "source": [
    "Works great! However, it's tedious to write all this BAML code. Let's automate it."
   ]
  },
  {
   "cell_type": "markdown",
   "metadata": {},
   "source": [
    "# Automatically provide the LLM with the calculator tool"
   ]
  },
  {
   "cell_type": "markdown",
   "metadata": {},
   "source": []
  }
 ],
 "metadata": {
  "kernelspec": {
   "display_name": ".venv",
   "language": "python",
   "name": "python3"
  },
  "language_info": {
   "codemirror_mode": {
    "name": "ipython",
    "version": 3
   },
   "file_extension": ".py",
   "mimetype": "text/x-python",
   "name": "python",
   "nbconvert_exporter": "python",
   "pygments_lexer": "ipython3",
   "version": "3.13.0"
  }
 },
 "nbformat": 4,
 "nbformat_minor": 2
}
