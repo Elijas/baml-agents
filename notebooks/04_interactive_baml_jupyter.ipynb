{
  "cells": [
    {
      "cell_type": "code",
      "execution_count": 1,
      "metadata": {},
      "outputs": [],
      "source": [
        "import stackprinter  # type: ignore\n",
        "import jupyter_black  # type: ignore\n",
        "from dotenv import load_dotenv  # type: ignore\n",
        "import time\n",
        "\n",
        "from baml_agents import init_logging, with_model\n",
        "from baml_client.async_client import b\n",
        "\n",
        "init_logging()\n",
        "stackprinter.set_excepthook()\n",
        "load_dotenv()\n",
        "jupyter_black.load()\n",
        "\n",
        "b = with_model(b, \"gpt-4.1-nano\")"
      ]
    },
    {
      "cell_type": "markdown",
      "metadata": {},
      "source": [
        "# Using BAML in Jupyter notebokos\n",
        "\n",
        "## 1. Streaming outputs\n",
        "\n",
        "BAML offers a great developer experience, and I used some utilities to recreate some of the magic in Jupyter notebooks."
      ]
    },
    {
      "cell_type": "code",
      "execution_count": 2,
      "metadata": {},
      "outputs": [
        {
          "data": {
            "text/html": [
              "<pre id=\"stream-d09de3a5-30ef-4c9c-8b8b-f72677774459\">abcdefghijklmnopqrstuvwxyzabcdefghijklmnopqrstuvwxyzabcdefghijklmnopqrstuvwxyz</pre>"
            ]
          },
          "metadata": {},
          "output_type": "display_data"
        }
      ],
      "source": [
        "from baml_agents.jupyter import JupyterOutputBox\n",
        "\n",
        "with JupyterOutputBox(clear_after_finish=False) as output_box:\n",
        "    s = \"\"\n",
        "    for c in \"abcdefghijklmnopqrstuvwxyz\" * 3:\n",
        "        s += c\n",
        "        output_box.update(s)\n",
        "        time.sleep(0.008)\n",
        "\n",
        "# The letters are generated and displayed as they are being generated."
      ]
    },
    {
      "cell_type": "code",
      "execution_count": 3,
      "metadata": {},
      "outputs": [
        {
          "data": {
            "text/html": [
              "<pre id=\"stream-7b8ba591-b972-4cbf-8d7f-429d5d3274c9\">{\n",
              "    \"genre\": \"Fantasy\",\n",
              "    \"characters\": [\n",
              "        {\n",
              "            \"name\": \"Lina\",\n",
              "            \"age\": 12,\n",
              "            \"occupation\": \"Apprentice Mage\"\n",
              "        },\n",
              "        {\n",
              "            \"name\": \"Eldon\",\n",
              "            \"age\": 45,\n",
              "            \"occupation\": \"Wizard\"\n",
              "        },\n",
              "        {\n",
              "            \"name\": \"Norik\",\n",
              "            \"age\": 17,\n",
              "            \"occupation\": \"Forest Ranger\"\n",
              "        }\n",
              "    ],\n",
              "    \"story_summary\": \"Lina seeks Eldon's help to unlock her magic potential; together, they face enchanted challenges in the Whispering Woods, discovering courage and friendship along the way.\"\n",
              "}</pre>"
            ]
          },
          "metadata": {},
          "output_type": "display_data"
        }
      ],
      "source": [
        "from baml_agents.jupyter import JupyterBamlCollector\n",
        "\n",
        "with JupyterOutputBox(clear_after_finish=False) as s:\n",
        "    c = JupyterBamlCollector(b, stream_callback=s.display(formatter=\"json\"))\n",
        "    await c.b.InteractiveBamlJupyter_WriteShortStory()"
      ]
    },
    {
      "cell_type": "markdown",
      "metadata": {},
      "source": [
        "![Image](https://github.com/user-attachments/assets/ca21b62a-48b7-4a16-99fa-20bbe61f68b2)"
      ]
    },
    {
      "cell_type": "markdown",
      "metadata": {},
      "source": [
        "## 2. Inspecting prompts and completions"
      ]
    },
    {
      "cell_type": "code",
      "execution_count": 4,
      "metadata": {},
      "outputs": [
        {
          "data": {
            "text/html": [
              "\n",
              "            <button type=\"button\" onclick=\"toggle_text_BVnMOvixvS()\">Prompt | messages=1 | 0.06$/1k | 0.01s | gpt-4.1-nano</button>\n",
              "            <div id=\"collapsible_text_BVnMOvixvS\" style=\"display:none;\">\n",
              "                <p><pre id=\"jsonOutput\">[system]</br>Write a short story about anything  Answer in JSON using this schema:</br>{</br>  genre: string,</br>  // at least three characters</br>  characters: [</br>    {</br>      name: string,</br>      age: int,</br>      occupation: string,</br>    }</br>  ],</br>  // Short story excerpt about anything, 30 words</br>  story_summary: string,</br>}</pre></p>\n",
              "            </div>\n",
              "\n",
              "            <script>\n",
              "            function toggle_text_BVnMOvixvS() {\n",
              "                var collapsible_text = document.getElementById(\"collapsible_text_BVnMOvixvS\");\n",
              "                if (collapsible_text.style.display === \"none\") {\n",
              "                    collapsible_text.style.display = \"block\";\n",
              "                } else {\n",
              "                    collapsible_text.style.display = \"none\";\n",
              "                }\n",
              "            }\n",
              "            </script>"
            ],
            "text/plain": [
              "<IPython.core.display.HTML object>"
            ]
          },
          "metadata": {},
          "output_type": "display_data"
        },
        {
          "data": {
            "text/html": [
              "\n",
              "            <button type=\"button\" onclick=\"toggle_text_FrEQyCvxvc()\">Completion | 0.06$/1k | 0.01s | gpt-4.1-nano</button>\n",
              "            <div id=\"collapsible_text_FrEQyCvxvc\" style=\"display:none;\">\n",
              "                <p><pre id=\"jsonOutput\">{</br>  &quot;genre&quot;: &quot;Fantasy&quot;,</br>  &quot;characters&quot;: [</br>    {</br>      &quot;name&quot;: &quot;Lina&quot;,</br>      &quot;age&quot;: 12,</br>      &quot;occupation&quot;: &quot;Apprentice Mage&quot;</br>    },</br>    {</br>      &quot;name&quot;: &quot;Eldon&quot;,</br>      &quot;age&quot;: 45,</br>      &quot;occupation&quot;: &quot;Wizard&quot;</br>    },</br>    {</br>      &quot;name&quot;: &quot;Norik&quot;,</br>      &quot;age&quot;: 17,</br>      &quot;occupation&quot;: &quot;Forest Ranger&quot;</br>    }</br>  ],</br>  &quot;story_summary&quot;: &quot;Lina seeks Eldon&#x27;s help to unlock her magic potential; together, they face enchanted challenges in the Whispering Woods, discovering courage and friendship along the way.&quot;</br>}</pre></p>\n",
              "            </div>\n",
              "\n",
              "            <script>\n",
              "            function toggle_text_FrEQyCvxvc() {\n",
              "                var collapsible_text = document.getElementById(\"collapsible_text_FrEQyCvxvc\");\n",
              "                if (collapsible_text.style.display === \"none\") {\n",
              "                    collapsible_text.style.display = \"block\";\n",
              "                } else {\n",
              "                    collapsible_text.style.display = \"none\";\n",
              "                }\n",
              "            }\n",
              "            </script>"
            ],
            "text/plain": [
              "<IPython.core.display.HTML object>"
            ]
          },
          "metadata": {},
          "output_type": "display_data"
        }
      ],
      "source": [
        "await c.display_calls()"
      ]
    },
    {
      "cell_type": "markdown",
      "metadata": {},
      "source": [
        "![Image](https://github.com/user-attachments/assets/59ed3cf3-84df-45a3-bf18-44dfbc457e4e)"
      ]
    },
    {
      "cell_type": "markdown",
      "metadata": {},
      "source": [
        "You can also group prompts and completions by LLM call and by LLM call session:"
      ]
    },
    {
      "cell_type": "code",
      "execution_count": 5,
      "metadata": {},
      "outputs": [
        {
          "data": {
            "text/html": [
              "\n",
              "            <button type=\"button\" onclick=\"toggle_text_nbofJrMmJm()\">Story generation session | Cost: 0.12$/1k | 0.01s | gpt-4.1-nano</button>\n",
              "            <div id=\"collapsible_text_nbofJrMmJm\" style=\"display:none;\">\n",
              "                \n",
              "                        <div style=\"margin-left: 20px;\">\n",
              "                            <button type=\"button\" onclick=\"toggle_text_sUcHdhXaFX()\">1 | Prompt | messages=1 | 0.06$/1k | 0.01s | gpt-4.1-nano</button>\n",
              "                            <div id=\"collapsible_text_sUcHdhXaFX\" style=\"display:none;\">\n",
              "                                <p><pre id=\"jsonOutput\">[system]</br>Write a short story about anything  Answer in JSON using this schema:</br>{</br>  genre: string,</br>  // at least three characters</br>  characters: [</br>    {</br>      name: string,</br>      age: int,</br>      occupation: string,</br>    }</br>  ],</br>  // Short story excerpt about anything, 30 words</br>  story_summary: string,</br>}</pre></p>\n",
              "                            </div>\n",
              "                        </div>\n",
              "                        <script>\n",
              "                        function toggle_text_sUcHdhXaFX() {\n",
              "                            var collapsible_text = document.getElementById(\"collapsible_text_sUcHdhXaFX\");\n",
              "                            if (collapsible_text.style.display === \"none\") {\n",
              "                                collapsible_text.style.display = \"block\";\n",
              "                            } else {\n",
              "                                collapsible_text.style.display = \"none\";\n",
              "                            }\n",
              "                        }\n",
              "                        </script>\n",
              "                    \n",
              "                        <div style=\"margin-left: 20px;\">\n",
              "                            <button type=\"button\" onclick=\"toggle_text_HBhiZAGOjD()\">1 | Completion | 0.06$/1k | 0.01s | gpt-4.1-nano</button>\n",
              "                            <div id=\"collapsible_text_HBhiZAGOjD\" style=\"display:none;\">\n",
              "                                <p><pre id=\"jsonOutput\">{</br>  &quot;genre&quot;: &quot;Fantasy&quot;,</br>  &quot;characters&quot;: [</br>    {</br>      &quot;name&quot;: &quot;Liora&quot;,</br>      &quot;age&quot;: 17,</br>      &quot;occupation&quot;: &quot;Young Mage&quot;</br>    },</br>    {</br>      &quot;name&quot;: &quot;Eldric&quot;,</br>      &quot;age&quot;: 45,</br>      &quot;occupation&quot;: &quot;Forest Guardian&quot;</br>    },</br>    {</br>      &quot;name&quot;: &quot;Tom&quot;,</br>      &quot;age&quot;: 12,</br>      &quot;occupation&quot;: &quot;Apprentice&quot;</br>    }</br>  ],</br>  &quot;story_summary&quot;: &quot;Liora discovers a magical amulet in the enchanted forest, teaming up with Eldric and Tom to unlock its secrets and save their land from impending darkness.&quot;</br>}</pre></p>\n",
              "                            </div>\n",
              "                        </div>\n",
              "                        <script>\n",
              "                        function toggle_text_HBhiZAGOjD() {\n",
              "                            var collapsible_text = document.getElementById(\"collapsible_text_HBhiZAGOjD\");\n",
              "                            if (collapsible_text.style.display === \"none\") {\n",
              "                                collapsible_text.style.display = \"block\";\n",
              "                            } else {\n",
              "                                collapsible_text.style.display = \"none\";\n",
              "                            }\n",
              "                        }\n",
              "                        </script>\n",
              "                    \n",
              "                        <div style=\"margin-left: 20px;\">\n",
              "                            <button type=\"button\" onclick=\"toggle_text_uABiuiSZBx()\">2 | Prompt | messages=1 | 0.06$/1k | 0.01s | gpt-4.1-nano</button>\n",
              "                            <div id=\"collapsible_text_uABiuiSZBx\" style=\"display:none;\">\n",
              "                                <p><pre id=\"jsonOutput\">[system]</br>Write a short story about anything  Answer in JSON using this schema:</br>{</br>  genre: string,</br>  // at least three characters</br>  characters: [</br>    {</br>      name: string,</br>      age: int,</br>      occupation: string,</br>    }</br>  ],</br>  // Short story excerpt about anything, 30 words</br>  story_summary: string,</br>}</pre></p>\n",
              "                            </div>\n",
              "                        </div>\n",
              "                        <script>\n",
              "                        function toggle_text_uABiuiSZBx() {\n",
              "                            var collapsible_text = document.getElementById(\"collapsible_text_uABiuiSZBx\");\n",
              "                            if (collapsible_text.style.display === \"none\") {\n",
              "                                collapsible_text.style.display = \"block\";\n",
              "                            } else {\n",
              "                                collapsible_text.style.display = \"none\";\n",
              "                            }\n",
              "                        }\n",
              "                        </script>\n",
              "                    \n",
              "                        <div style=\"margin-left: 20px;\">\n",
              "                            <button type=\"button\" onclick=\"toggle_text_IjqfTMLRbL()\">2 | Completion | 0.06$/1k | 0.01s | gpt-4.1-nano</button>\n",
              "                            <div id=\"collapsible_text_IjqfTMLRbL\" style=\"display:none;\">\n",
              "                                <p><pre id=\"jsonOutput\">{</br>  &quot;genre&quot;: &quot;Fantasy&quot;,</br>  &quot;characters&quot;: [</br>    {</br>      &quot;name&quot;: &quot;Liora&quot;,</br>      &quot;age&quot;: 17,</br>      &quot;occupation&quot;: &quot;Young Mage&quot;</br>    },</br>    {</br>      &quot;name&quot;: &quot;Eldric&quot;,</br>      &quot;age&quot;: 45,</br>      &quot;occupation&quot;: &quot;Forest Guardian&quot;</br>    },</br>    {</br>      &quot;name&quot;: &quot;Tom&quot;,</br>      &quot;age&quot;: 12,</br>      &quot;occupation&quot;: &quot;Apprentice&quot;</br>    }</br>  ],</br>  &quot;story_summary&quot;: &quot;Liora discovers a magical amulet in the enchanted forest, teaming up with Eldric and Tom to unlock its secrets and save their land from impending darkness.&quot;</br>}</pre></p>\n",
              "                            </div>\n",
              "                        </div>\n",
              "                        <script>\n",
              "                        function toggle_text_IjqfTMLRbL() {\n",
              "                            var collapsible_text = document.getElementById(\"collapsible_text_IjqfTMLRbL\");\n",
              "                            if (collapsible_text.style.display === \"none\") {\n",
              "                                collapsible_text.style.display = \"block\";\n",
              "                            } else {\n",
              "                                collapsible_text.style.display = \"none\";\n",
              "                            }\n",
              "                        }\n",
              "                        </script>\n",
              "                    \n",
              "            </div>\n",
              "\n",
              "            <script>\n",
              "            function toggle_text_nbofJrMmJm() {\n",
              "                var collapsible_text = document.getElementById(\"collapsible_text_nbofJrMmJm\");\n",
              "                if (collapsible_text.style.display === \"none\") {\n",
              "                    collapsible_text.style.display = \"block\";\n",
              "                } else {\n",
              "                    collapsible_text.style.display = \"none\";\n",
              "                }\n",
              "            }\n",
              "            </script>"
            ],
            "text/plain": [
              "<IPython.core.display.HTML object>"
            ]
          },
          "metadata": {},
          "output_type": "display_data"
        }
      ],
      "source": [
        "# Generate some calls\n",
        "c = JupyterBamlCollector(b)\n",
        "await c.b.InteractiveBamlJupyter_WriteShortStory()\n",
        "await c.b.InteractiveBamlJupyter_WriteShortStory()\n",
        "\n",
        "# Display the calls as a single session\n",
        "await c.display_session(\"Story generation session\")"
      ]
    },
    {
      "cell_type": "markdown",
      "metadata": {},
      "source": [
        "![Image](https://github.com/user-attachments/assets/7bed8f67-efe9-48c7-918a-5d0853dded95)"
      ]
    },
    {
      "cell_type": "markdown",
      "metadata": {},
      "source": [
        "## 3. Convenience class"
      ]
    },
    {
      "cell_type": "markdown",
      "metadata": {},
      "source": [
        "The `JupyterOutputBox` and `JupyterBamlCollector` are available as a single convenience class:"
      ]
    },
    {
      "cell_type": "code",
      "execution_count": 6,
      "metadata": {},
      "outputs": [
        {
          "data": {
            "text/html": [
              "<pre id=\"stream-8c1d5a3e-5935-4c61-a487-cd116b50a4de\">{'genre': 'Fantasy',\n",
              " 'characters': [{'name': 'Lina', 'age': 12, 'occupation': 'Apprentice Mage'}, {'name': 'Eldon', 'age': 45, 'occupation': 'Wizard'}, {'name': 'Norik', 'age': 17, 'occupation': 'Forest Ranger'}],\n",
              " 'story_summary': \"Lina seeks Eldon's help to unlock her magic potential; together, they face enchanted challenges in the Whispering Woods, discovering courage and friendship along the way.\"}</pre>"
            ]
          },
          "metadata": {},
          "output_type": "display_data"
        },
        {
          "data": {
            "application/javascript": "\n            (function(){\n              var el = document.getElementById(\"stream-8c1d5a3e-5935-4c61-a487-cd116b50a4de\");\n              if (el) el.remove();\n            })();\n            ",
            "text/plain": [
              "<IPython.core.display.Javascript object>"
            ]
          },
          "metadata": {},
          "output_type": "display_data"
        },
        {
          "data": {
            "text/html": [
              "\n",
              "            <button type=\"button\" onclick=\"toggle_text_YgJWOycEJP()\">Prompt | messages=1 | 0.06$/1k | 0.01s | gpt-4.1-nano</button>\n",
              "            <div id=\"collapsible_text_YgJWOycEJP\" style=\"display:none;\">\n",
              "                <p><pre id=\"jsonOutput\">[system]</br>Write a short story about anything  Answer in JSON using this schema:</br>{</br>  genre: string,</br>  // at least three characters</br>  characters: [</br>    {</br>      name: string,</br>      age: int,</br>      occupation: string,</br>    }</br>  ],</br>  // Short story excerpt about anything, 30 words</br>  story_summary: string,</br>}</pre></p>\n",
              "            </div>\n",
              "\n",
              "            <script>\n",
              "            function toggle_text_YgJWOycEJP() {\n",
              "                var collapsible_text = document.getElementById(\"collapsible_text_YgJWOycEJP\");\n",
              "                if (collapsible_text.style.display === \"none\") {\n",
              "                    collapsible_text.style.display = \"block\";\n",
              "                } else {\n",
              "                    collapsible_text.style.display = \"none\";\n",
              "                }\n",
              "            }\n",
              "            </script>"
            ],
            "text/plain": [
              "<IPython.core.display.HTML object>"
            ]
          },
          "metadata": {},
          "output_type": "display_data"
        },
        {
          "data": {
            "text/html": [
              "\n",
              "            <button type=\"button\" onclick=\"toggle_text_gZhxPEFVzY()\">Completion | 0.06$/1k | 0.01s | gpt-4.1-nano</button>\n",
              "            <div id=\"collapsible_text_gZhxPEFVzY\" style=\"display:none;\">\n",
              "                <p><pre id=\"jsonOutput\">{</br>  &quot;genre&quot;: &quot;Fantasy&quot;,</br>  &quot;characters&quot;: [</br>    {</br>      &quot;name&quot;: &quot;Lina&quot;,</br>      &quot;age&quot;: 12,</br>      &quot;occupation&quot;: &quot;Apprentice Mage&quot;</br>    },</br>    {</br>      &quot;name&quot;: &quot;Eldon&quot;,</br>      &quot;age&quot;: 45,</br>      &quot;occupation&quot;: &quot;Wizard&quot;</br>    },</br>    {</br>      &quot;name&quot;: &quot;Norik&quot;,</br>      &quot;age&quot;: 17,</br>      &quot;occupation&quot;: &quot;Forest Ranger&quot;</br>    }</br>  ],</br>  &quot;story_summary&quot;: &quot;Lina seeks Eldon&#x27;s help to unlock her magic potential; together, they face enchanted challenges in the Whispering Woods, discovering courage and friendship along the way.&quot;</br>}</pre></p>\n",
              "            </div>\n",
              "\n",
              "            <script>\n",
              "            function toggle_text_gZhxPEFVzY() {\n",
              "                var collapsible_text = document.getElementById(\"collapsible_text_gZhxPEFVzY\");\n",
              "                if (collapsible_text.style.display === \"none\") {\n",
              "                    collapsible_text.style.display = \"block\";\n",
              "                } else {\n",
              "                    collapsible_text.style.display = \"none\";\n",
              "                }\n",
              "            }\n",
              "            </script>"
            ],
            "text/plain": [
              "<IPython.core.display.HTML object>"
            ]
          },
          "metadata": {},
          "output_type": "display_data"
        }
      ],
      "source": [
        "from baml_agents.jupyter import JupyterBamlMonitor\n",
        "\n",
        "with JupyterBamlMonitor(b) as m:\n",
        "    # Output is displayed in real time in the notebook\n",
        "    await m.b.InteractiveBamlJupyter_WriteShortStory()\n",
        "    # Outout is hidden from the notebook\n",
        "\n",
        "# Buttons with prompt and completino are displayed in the notebook\n",
        "await m.display_calls()"
      ]
    },
    {
      "cell_type": "markdown",
      "metadata": {},
      "source": [
        "## 4. Interactive chat"
      ]
    },
    {
      "cell_type": "markdown",
      "metadata": {},
      "source": [
        "Chat with your BAML Agent right in the notebook:"
      ]
    },
    {
      "cell_type": "code",
      "execution_count": 7,
      "metadata": {},
      "outputs": [
        {
          "data": {
            "text/html": [
              "\n",
              "        <link rel=\"stylesheet\"\n",
              "              href=\"https://cdn.jsdelivr.net/npm/bootstrap@4.5.3/dist/css/bootstrap.min.css\"\n",
              "              integrity=\"sha384-TX8t27EcRE3e/ihU7zmQxVncDAy5uIKz4rEkgIXeMed4M0jlfIDPvg6uqKI2xXr2\"\n",
              "              crossorigin=\"anonymous\">\n",
              "        <style>\n",
              "            body{margin-top:20px;}\n",
              "\n",
              "            .chat-message-left,\n",
              "            .chat-message-right {\n",
              "                display: flex;\n",
              "                flex-shrink: 0\n",
              "            }\n",
              "\n",
              "            .chat-message-left {\n",
              "                margin-right: auto\n",
              "            }\n",
              "\n",
              "            .chat-message-right {\n",
              "                flex-direction: row-reverse;\n",
              "                margin-left: auto\n",
              "            }\n",
              "\n",
              "            .time-stamp {\n",
              "                margin-left: 10px;\n",
              "                margin-right: 10px;\n",
              "                align-self: flex-end;\n",
              "            }\n",
              "\n",
              "            /* Make the textarea more responsive to copy/paste */\n",
              "            .jupyter-widgets textarea {\n",
              "                font-family: inherit;\n",
              "                line-height: normal;\n",
              "                resize: none;\n",
              "                padding: 8px;\n",
              "            }\n",
              "        </style>\n",
              "        "
            ],
            "text/plain": [
              "<IPython.core.display.HTML object>"
            ]
          },
          "metadata": {},
          "output_type": "display_data"
        },
        {
          "data": {
            "text/html": [
              "\n",
              "        <script>\n",
              "        \n",
              "        function captureEnter(event) {\n",
              "            if (event.key === 'Enter' && !event.shiftKey) {\n",
              "                event.preventDefault();\n",
              "                document.getElementById('send-button').click();\n",
              "                return false;\n",
              "            }\n",
              "            return true;\n",
              "        }\n",
              "\n",
              "        setTimeout(function() {\n",
              "            var textareas = document.getElementsByClassName('jupyter-widgets-output-area')[0]\n",
              "                            .getElementsByTagName('textarea');\n",
              "            if (textareas.length > 0) {\n",
              "                var textarea = textareas[textareas.length-1];\n",
              "                textarea.addEventListener('keydown', captureEnter);\n",
              "            }\n",
              "        }, 1000);\n",
              "        \n",
              "        </script>\n",
              "        "
            ],
            "text/plain": [
              "<IPython.core.display.HTML object>"
            ]
          },
          "metadata": {},
          "output_type": "display_data"
        },
        {
          "data": {
            "application/vnd.jupyter.widget-view+json": {
              "model_id": "a3e4af361e9740209105dfd34810f3bf",
              "version_major": 2,
              "version_minor": 0
            },
            "text/plain": [
              "HBox(children=(Output(),), layout=Layout(display='inline-flex', flex_flow='column-reverse', max_height='500px'…"
            ]
          },
          "metadata": {},
          "output_type": "display_data"
        },
        {
          "data": {
            "application/vnd.jupyter.widget-view+json": {
              "model_id": "e011be2694ce46fe93886aeaddb75c4e",
              "version_major": 2,
              "version_minor": 0
            },
            "text/plain": [
              "Box(children=(HTML(value='Loading...', layout=Layout(display='none')), Textarea(value='', continuous_update=Fa…"
            ]
          },
          "metadata": {},
          "output_type": "display_data"
        },
        {
          "data": {
            "text/html": [
              "\n",
              "        <script>\n",
              "        document.querySelector(\".jupyter-button:last-child\").id = \"send-button\";\n",
              "        </script>\n",
              "        "
            ],
            "text/plain": [
              "<IPython.core.display.HTML object>"
            ]
          },
          "metadata": {},
          "output_type": "display_data"
        }
      ],
      "source": [
        "from baml_agents.jupyter import ChatMessage, JupyterChatWidget\n",
        "\n",
        "\n",
        "async def callback(chat_history):\n",
        "    msg = ChatMessage(\n",
        "        content=f\"I'm seeing {len(chat_history)} messages\",\n",
        "        role=\"assistant\",\n",
        "    )\n",
        "    return [msg]\n",
        "\n",
        "\n",
        "JupyterChatWidget(callback).display()"
      ]
    },
    {
      "cell_type": "markdown",
      "metadata": {},
      "source": [
        "![Image](https://github.com/user-attachments/assets/df46af62-97e5-42d6-8def-91762a46e432)"
      ]
    },
    {
      "cell_type": "markdown",
      "metadata": {},
      "source": [
        "You can also pre-fill chat:"
      ]
    },
    {
      "cell_type": "code",
      "execution_count": 8,
      "metadata": {},
      "outputs": [
        {
          "data": {
            "text/html": [
              "\n",
              "        <link rel=\"stylesheet\"\n",
              "              href=\"https://cdn.jsdelivr.net/npm/bootstrap@4.5.3/dist/css/bootstrap.min.css\"\n",
              "              integrity=\"sha384-TX8t27EcRE3e/ihU7zmQxVncDAy5uIKz4rEkgIXeMed4M0jlfIDPvg6uqKI2xXr2\"\n",
              "              crossorigin=\"anonymous\">\n",
              "        <style>\n",
              "            body{margin-top:20px;}\n",
              "\n",
              "            .chat-message-left,\n",
              "            .chat-message-right {\n",
              "                display: flex;\n",
              "                flex-shrink: 0\n",
              "            }\n",
              "\n",
              "            .chat-message-left {\n",
              "                margin-right: auto\n",
              "            }\n",
              "\n",
              "            .chat-message-right {\n",
              "                flex-direction: row-reverse;\n",
              "                margin-left: auto\n",
              "            }\n",
              "\n",
              "            .time-stamp {\n",
              "                margin-left: 10px;\n",
              "                margin-right: 10px;\n",
              "                align-self: flex-end;\n",
              "            }\n",
              "\n",
              "            /* Make the textarea more responsive to copy/paste */\n",
              "            .jupyter-widgets textarea {\n",
              "                font-family: inherit;\n",
              "                line-height: normal;\n",
              "                resize: none;\n",
              "                padding: 8px;\n",
              "            }\n",
              "        </style>\n",
              "        "
            ],
            "text/plain": [
              "<IPython.core.display.HTML object>"
            ]
          },
          "metadata": {},
          "output_type": "display_data"
        },
        {
          "data": {
            "text/html": [
              "\n",
              "        <script>\n",
              "        \n",
              "        function captureEnter(event) {\n",
              "            if (event.key === 'Enter' && !event.shiftKey) {\n",
              "                event.preventDefault();\n",
              "                document.getElementById('send-button').click();\n",
              "                return false;\n",
              "            }\n",
              "            return true;\n",
              "        }\n",
              "\n",
              "        setTimeout(function() {\n",
              "            var textareas = document.getElementsByClassName('jupyter-widgets-output-area')[0]\n",
              "                            .getElementsByTagName('textarea');\n",
              "            if (textareas.length > 0) {\n",
              "                var textarea = textareas[textareas.length-1];\n",
              "                textarea.addEventListener('keydown', captureEnter);\n",
              "            }\n",
              "        }, 1000);\n",
              "        \n",
              "        </script>\n",
              "        "
            ],
            "text/plain": [
              "<IPython.core.display.HTML object>"
            ]
          },
          "metadata": {},
          "output_type": "display_data"
        },
        {
          "data": {
            "application/vnd.jupyter.widget-view+json": {
              "model_id": "0db671e549ef4b8da9a757c7fbe42b7c",
              "version_major": 2,
              "version_minor": 0
            },
            "text/plain": [
              "HBox(children=(Output(outputs=({'output_type': 'display_data', 'data': {'text/plain': '<IPython.core.display.H…"
            ]
          },
          "metadata": {},
          "output_type": "display_data"
        },
        {
          "data": {
            "application/vnd.jupyter.widget-view+json": {
              "model_id": "6f28680a36434180b4c3602b2d31e0fb",
              "version_major": 2,
              "version_minor": 0
            },
            "text/plain": [
              "Box(children=(HTML(value='Loading...', layout=Layout(display='none')), Textarea(value='', continuous_update=Fa…"
            ]
          },
          "metadata": {},
          "output_type": "display_data"
        },
        {
          "data": {
            "text/html": [
              "\n",
              "        <script>\n",
              "        document.querySelector(\".jupyter-button:last-child\").id = \"send-button\";\n",
              "        </script>\n",
              "        "
            ],
            "text/plain": [
              "<IPython.core.display.HTML object>"
            ]
          },
          "metadata": {},
          "output_type": "display_data"
        }
      ],
      "source": [
        "chat_history = [\n",
        "    ChatMessage(\n",
        "        content=\"Hey\",\n",
        "        role=\"user\",\n",
        "    ),\n",
        "    ChatMessage(\n",
        "        content=\"Hello\",\n",
        "        role=\"assistant\",\n",
        "    ),\n",
        "]\n",
        "\n",
        "JupyterChatWidget(callback, chat_history=chat_history).display()"
      ]
    },
    {
      "cell_type": "markdown",
      "metadata": {},
      "source": [
        "You can also invoke the callback automatically:"
      ]
    },
    {
      "cell_type": "code",
      "execution_count": 9,
      "metadata": {},
      "outputs": [
        {
          "data": {
            "text/html": [
              "\n",
              "        <link rel=\"stylesheet\"\n",
              "              href=\"https://cdn.jsdelivr.net/npm/bootstrap@4.5.3/dist/css/bootstrap.min.css\"\n",
              "              integrity=\"sha384-TX8t27EcRE3e/ihU7zmQxVncDAy5uIKz4rEkgIXeMed4M0jlfIDPvg6uqKI2xXr2\"\n",
              "              crossorigin=\"anonymous\">\n",
              "        <style>\n",
              "            body{margin-top:20px;}\n",
              "\n",
              "            .chat-message-left,\n",
              "            .chat-message-right {\n",
              "                display: flex;\n",
              "                flex-shrink: 0\n",
              "            }\n",
              "\n",
              "            .chat-message-left {\n",
              "                margin-right: auto\n",
              "            }\n",
              "\n",
              "            .chat-message-right {\n",
              "                flex-direction: row-reverse;\n",
              "                margin-left: auto\n",
              "            }\n",
              "\n",
              "            .time-stamp {\n",
              "                margin-left: 10px;\n",
              "                margin-right: 10px;\n",
              "                align-self: flex-end;\n",
              "            }\n",
              "\n",
              "            /* Make the textarea more responsive to copy/paste */\n",
              "            .jupyter-widgets textarea {\n",
              "                font-family: inherit;\n",
              "                line-height: normal;\n",
              "                resize: none;\n",
              "                padding: 8px;\n",
              "            }\n",
              "        </style>\n",
              "        "
            ],
            "text/plain": [
              "<IPython.core.display.HTML object>"
            ]
          },
          "metadata": {},
          "output_type": "display_data"
        },
        {
          "data": {
            "text/html": [
              "\n",
              "        <script>\n",
              "        \n",
              "        function captureEnter(event) {\n",
              "            if (event.key === 'Enter' && !event.shiftKey) {\n",
              "                event.preventDefault();\n",
              "                document.getElementById('send-button').click();\n",
              "                return false;\n",
              "            }\n",
              "            return true;\n",
              "        }\n",
              "\n",
              "        setTimeout(function() {\n",
              "            var textareas = document.getElementsByClassName('jupyter-widgets-output-area')[0]\n",
              "                            .getElementsByTagName('textarea');\n",
              "            if (textareas.length > 0) {\n",
              "                var textarea = textareas[textareas.length-1];\n",
              "                textarea.addEventListener('keydown', captureEnter);\n",
              "            }\n",
              "        }, 1000);\n",
              "        \n",
              "        </script>\n",
              "        "
            ],
            "text/plain": [
              "<IPython.core.display.HTML object>"
            ]
          },
          "metadata": {},
          "output_type": "display_data"
        },
        {
          "data": {
            "application/vnd.jupyter.widget-view+json": {
              "model_id": "509d7a73188248ad8cf2c76c501a70e8",
              "version_major": 2,
              "version_minor": 0
            },
            "text/plain": [
              "HBox(children=(Output(),), layout=Layout(display='inline-flex', flex_flow='column-reverse', max_height='500px'…"
            ]
          },
          "metadata": {},
          "output_type": "display_data"
        },
        {
          "data": {
            "application/vnd.jupyter.widget-view+json": {
              "model_id": "46d7d449927a415fb221f0cbdd8287b3",
              "version_major": 2,
              "version_minor": 0
            },
            "text/plain": [
              "Box(children=(HTML(value='Loading...', layout=Layout(display='none')), Textarea(value='', continuous_update=Fa…"
            ]
          },
          "metadata": {},
          "output_type": "display_data"
        },
        {
          "data": {
            "text/html": [
              "\n",
              "        <script>\n",
              "        document.querySelector(\".jupyter-button:last-child\").id = \"send-button\";\n",
              "        </script>\n",
              "        "
            ],
            "text/plain": [
              "<IPython.core.display.HTML object>"
            ]
          },
          "metadata": {},
          "output_type": "display_data"
        },
        {
          "data": {
            "text/html": [
              "\n",
              "        <script>\n",
              "        document.querySelector(\".jupyter-widgets textarea:last-of-type\").focus();\n",
              "        </script>\n",
              "        "
            ],
            "text/plain": [
              "<IPython.core.display.HTML object>"
            ]
          },
          "metadata": {},
          "output_type": "display_data"
        }
      ],
      "source": [
        "chat = JupyterChatWidget(callback)\n",
        "await chat.run(\"It's a beautiful day\")\n",
        "# Callback is being run automatically on startup to respond to the \"It's a beautiful day\" message"
      ]
    },
    {
      "cell_type": "code",
      "execution_count": null,
      "metadata": {},
      "outputs": [],
      "source": []
    }
  ],
  "metadata": {
    "kernelspec": {
      "display_name": ".venv",
      "language": "python",
      "name": "python3"
    },
    "language_info": {
      "codemirror_mode": {
        "name": "ipython",
        "version": 3
      },
      "file_extension": ".py",
      "mimetype": "text/x-python",
      "name": "python",
      "nbconvert_exporter": "python",
      "pygments_lexer": "ipython3",
      "version": "3.13.0"
    }
  },
  "nbformat": 4,
  "nbformat_minor": 2
}
