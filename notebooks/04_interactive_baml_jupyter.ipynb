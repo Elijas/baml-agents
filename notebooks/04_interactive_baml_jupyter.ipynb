{
  "cells": [
    {
      "cell_type": "code",
      "execution_count": 1,
      "metadata": {},
      "outputs": [],
      "source": [
        "import stackprinter  # type: ignore\n",
        "import jupyter_black  # type: ignore\n",
        "from dotenv import load_dotenv  # type: ignore\n",
        "import time\n",
        "\n",
        "from baml_agents import init_logging, with_model\n",
        "from baml_client.async_client import b\n",
        "\n",
        "init_logging()\n",
        "stackprinter.set_excepthook()\n",
        "load_dotenv()\n",
        "jupyter_black.load()\n",
        "\n",
        "b = with_model(b, \"gpt-4.1-nano\")"
      ]
    },
    {
      "cell_type": "markdown",
      "metadata": {},
      "source": [
        "# Using BAML in Jupyter notebokos\n",
        "\n",
        "## 1. Streaming outputs\n",
        "\n",
        "BAML offers a great developer experience, and I used some utilities to recreate some of the magic in Jupyter notebooks."
      ]
    },
    {
      "cell_type": "code",
      "execution_count": 2,
      "metadata": {},
      "outputs": [
        {
          "data": {
            "text/html": [
              "<pre id=\"stream-4bf2a6e5-1ac6-4a4f-99a5-eaf9a1921e0e\">abcdefghijklmnopqrstuvwxyzabcdefghijklmnopqrstuvwxyzabcdefghijklmnopqrstuvwxyz</pre>"
            ]
          },
          "metadata": {},
          "output_type": "display_data"
        }
      ],
      "source": [
        "from baml_agents.jupyter import JupyterOutputBox\n",
        "\n",
        "with JupyterOutputBox(clear_after_finish=False) as output_box:\n",
        "    s = \"\"\n",
        "    for c in \"abcdefghijklmnopqrstuvwxyz\" * 3:\n",
        "        s += c\n",
        "        output_box.update(s)\n",
        "        time.sleep(0.008)\n",
        "\n",
        "# The letters are generated and displayed as they are being generated."
      ]
    },
    {
      "cell_type": "code",
      "execution_count": 3,
      "metadata": {},
      "outputs": [
        {
          "data": {
            "text/html": [
              "<pre id=\"stream-6519fc23-a683-4a97-813c-f56cfa40fec9\">{\n",
              "    \"genre\": \"adventure\",\n",
              "    \"characters\": [\n",
              "        {\n",
              "            \"name\": \"Luna\",\n",
              "            \"age\": 12,\n",
              "            \"occupation\": \"explorer\"\n",
              "        },\n",
              "        {\n",
              "            \"name\": \"Max\",\n",
              "            \"age\": 14,\n",
              "            \"occupation\": \"navigator\"\n",
              "        },\n",
              "        {\n",
              "            \"name\": \"Professor Willow\",\n",
              "            \"age\": 50,\n",
              "            \"occupation\": \"archaeologist\"\n",
              "        }\n",
              "    ],\n",
              "    \"story_summary\": \"Luna and Max discover an ancient map leading to hidden treasure. Guided by Professor Willow, they face challenges, unlocking secrets buried beneath a mysterious island jungle, discovering adventure and friendship.\"\n",
              "}</pre>"
            ]
          },
          "metadata": {},
          "output_type": "display_data"
        }
      ],
      "source": [
        "from baml_agents.jupyter import JupyterBamlCollector\n",
        "\n",
        "with JupyterOutputBox(clear_after_finish=False) as s:\n",
        "    c = JupyterBamlCollector(b, stream_callback=s.display(formatter=\"json\"))\n",
        "    await c.b.InteractiveBamlJupyter_WriteShortStory()"
      ]
    },
    {
      "cell_type": "markdown",
      "metadata": {},
      "source": [
        "![Image](https://github.com/user-attachments/assets/ca21b62a-48b7-4a16-99fa-20bbe61f68b2)"
      ]
    },
    {
      "cell_type": "markdown",
      "metadata": {},
      "source": [
        "## 2. Inspecting prompts and completions"
      ]
    },
    {
      "cell_type": "code",
      "execution_count": 4,
      "metadata": {},
      "outputs": [
        {
          "data": {
            "text/html": [
              "\n",
              "            <button type=\"button\" onclick=\"toggle_text_XtCenbcNjX()\">Prompt | messages=1 | 0.06$/1k | 1.66s | gpt-4.1-nano</button>\n",
              "            <div id=\"collapsible_text_XtCenbcNjX\" style=\"display:none;\">\n",
              "                <p><pre id=\"jsonOutput\">[system]</br>Write a short story about anything  Answer in JSON using this schema:</br>{</br>  genre: string,</br>  // at least three characters</br>  characters: [</br>    {</br>      name: string,</br>      age: int,</br>      occupation: string,</br>    }</br>  ],</br>  // Short story excerpt about anything, 30 words</br>  story_summary: string,</br>}</pre></p>\n",
              "            </div>\n",
              "\n",
              "            <script>\n",
              "            function toggle_text_XtCenbcNjX() {\n",
              "                var collapsible_text = document.getElementById(\"collapsible_text_XtCenbcNjX\");\n",
              "                if (collapsible_text.style.display === \"none\") {\n",
              "                    collapsible_text.style.display = \"block\";\n",
              "                } else {\n",
              "                    collapsible_text.style.display = \"none\";\n",
              "                }\n",
              "            }\n",
              "            </script>"
            ],
            "text/plain": [
              "<IPython.core.display.HTML object>"
            ]
          },
          "metadata": {},
          "output_type": "display_data"
        },
        {
          "data": {
            "text/html": [
              "\n",
              "            <button type=\"button\" onclick=\"toggle_text_mQkWDQNRdV()\">Completion | 0.06$/1k | 1.66s | gpt-4.1-nano</button>\n",
              "            <div id=\"collapsible_text_mQkWDQNRdV\" style=\"display:none;\">\n",
              "                <p><pre id=\"jsonOutput\">{</br>  &quot;genre&quot;: &quot;adventure&quot;,</br>  &quot;characters&quot;: [</br>    {</br>      &quot;name&quot;: &quot;Luna&quot;,</br>      &quot;age&quot;: 12,</br>      &quot;occupation&quot;: &quot;explorer&quot;</br>    },</br>    {</br>      &quot;name&quot;: &quot;Max&quot;,</br>      &quot;age&quot;: 14,</br>      &quot;occupation&quot;: &quot;navigator&quot;</br>    },</br>    {</br>      &quot;name&quot;: &quot;Professor Willow&quot;,</br>      &quot;age&quot;: 50,</br>      &quot;occupation&quot;: &quot;archaeologist&quot;</br>    }</br>  ],</br>  &quot;story_summary&quot;: &quot;Luna and Max discover an ancient map leading to hidden treasure. Guided by Professor Willow, they face challenges, unlocking secrets buried beneath a mysterious island jungle, discovering adventure and friendship.&quot;</br>}</pre></p>\n",
              "            </div>\n",
              "\n",
              "            <script>\n",
              "            function toggle_text_mQkWDQNRdV() {\n",
              "                var collapsible_text = document.getElementById(\"collapsible_text_mQkWDQNRdV\");\n",
              "                if (collapsible_text.style.display === \"none\") {\n",
              "                    collapsible_text.style.display = \"block\";\n",
              "                } else {\n",
              "                    collapsible_text.style.display = \"none\";\n",
              "                }\n",
              "            }\n",
              "            </script>"
            ],
            "text/plain": [
              "<IPython.core.display.HTML object>"
            ]
          },
          "metadata": {},
          "output_type": "display_data"
        }
      ],
      "source": [
        "await c.display_calls()"
      ]
    },
    {
      "cell_type": "markdown",
      "metadata": {},
      "source": [
        "![Image](https://github.com/user-attachments/assets/59ed3cf3-84df-45a3-bf18-44dfbc457e4e)"
      ]
    },
    {
      "cell_type": "markdown",
      "metadata": {},
      "source": [
        "You can also group prompts and completions by LLM call and by LLM call session:"
      ]
    },
    {
      "cell_type": "code",
      "execution_count": 5,
      "metadata": {},
      "outputs": [
        {
          "data": {
            "text/html": [
              "\n",
              "            <button type=\"button\" onclick=\"toggle_text_lyBOyIQvAF()\">Story generation session | Cost: 0.13$/1k | 3.56s | gpt-4.1-nano</button>\n",
              "            <div id=\"collapsible_text_lyBOyIQvAF\" style=\"display:none;\">\n",
              "                \n",
              "                        <div style=\"margin-left: 20px;\">\n",
              "                            <button type=\"button\" onclick=\"toggle_text_okgbSgBnFQ()\">1 | Prompt | messages=1 | 0.06$/1k | 3.56s | gpt-4.1-nano</button>\n",
              "                            <div id=\"collapsible_text_okgbSgBnFQ\" style=\"display:none;\">\n",
              "                                <p><pre id=\"jsonOutput\">[system]</br>Write a short story about anything  Answer in JSON using this schema:</br>{</br>  genre: string,</br>  // at least three characters</br>  characters: [</br>    {</br>      name: string,</br>      age: int,</br>      occupation: string,</br>    }</br>  ],</br>  // Short story excerpt about anything, 30 words</br>  story_summary: string,</br>}</pre></p>\n",
              "                            </div>\n",
              "                        </div>\n",
              "                        <script>\n",
              "                        function toggle_text_okgbSgBnFQ() {\n",
              "                            var collapsible_text = document.getElementById(\"collapsible_text_okgbSgBnFQ\");\n",
              "                            if (collapsible_text.style.display === \"none\") {\n",
              "                                collapsible_text.style.display = \"block\";\n",
              "                            } else {\n",
              "                                collapsible_text.style.display = \"none\";\n",
              "                            }\n",
              "                        }\n",
              "                        </script>\n",
              "                    \n",
              "                        <div style=\"margin-left: 20px;\">\n",
              "                            <button type=\"button\" onclick=\"toggle_text_jQkSYOdYLA()\">1 | Completion | 0.06$/1k | 3.56s | gpt-4.1-nano</button>\n",
              "                            <div id=\"collapsible_text_jQkSYOdYLA\" style=\"display:none;\">\n",
              "                                <p><pre id=\"jsonOutput\">{</br>  &quot;genre&quot;: &quot;Fantasy&quot;,</br>  &quot;characters&quot;: [</br>    {</br>      &quot;name&quot;: &quot;Lina&quot;,</br>      &quot;age&quot;: 16,</br>      &quot;occupation&quot;: &quot;Apprentice Mage&quot;</br>    },</br>    {</br>      &quot;name&quot;: &quot;Eldon&quot;,</br>      &quot;age&quot;: 45,</br>      &quot;occupation&quot;: &quot;Ancient Wizard&quot;</br>    },</br>    {</br>      &quot;name&quot;: &quot;Thorn&quot;,</br>      &quot;age&quot;: 30,</br>      &quot;occupation&quot;: &quot;Forest Guardian&quot;</br>    }</br>  ],</br>  &quot;story_summary&quot;: &quot;Lina seeks Eldon&#x27;s help to unlock her powers. Together, they face Thorn, who guards a secret that could save or doom their land.&quot; </br>}</pre></p>\n",
              "                            </div>\n",
              "                        </div>\n",
              "                        <script>\n",
              "                        function toggle_text_jQkSYOdYLA() {\n",
              "                            var collapsible_text = document.getElementById(\"collapsible_text_jQkSYOdYLA\");\n",
              "                            if (collapsible_text.style.display === \"none\") {\n",
              "                                collapsible_text.style.display = \"block\";\n",
              "                            } else {\n",
              "                                collapsible_text.style.display = \"none\";\n",
              "                            }\n",
              "                        }\n",
              "                        </script>\n",
              "                    \n",
              "                        <div style=\"margin-left: 20px;\">\n",
              "                            <button type=\"button\" onclick=\"toggle_text_KVaFrPIGzg()\">2 | Prompt | messages=1 | 0.06$/1k | 0.01s | gpt-4.1-nano</button>\n",
              "                            <div id=\"collapsible_text_KVaFrPIGzg\" style=\"display:none;\">\n",
              "                                <p><pre id=\"jsonOutput\">[system]</br>Write a short story about anything  Answer in JSON using this schema:</br>{</br>  genre: string,</br>  // at least three characters</br>  characters: [</br>    {</br>      name: string,</br>      age: int,</br>      occupation: string,</br>    }</br>  ],</br>  // Short story excerpt about anything, 30 words</br>  story_summary: string,</br>}</pre></p>\n",
              "                            </div>\n",
              "                        </div>\n",
              "                        <script>\n",
              "                        function toggle_text_KVaFrPIGzg() {\n",
              "                            var collapsible_text = document.getElementById(\"collapsible_text_KVaFrPIGzg\");\n",
              "                            if (collapsible_text.style.display === \"none\") {\n",
              "                                collapsible_text.style.display = \"block\";\n",
              "                            } else {\n",
              "                                collapsible_text.style.display = \"none\";\n",
              "                            }\n",
              "                        }\n",
              "                        </script>\n",
              "                    \n",
              "                        <div style=\"margin-left: 20px;\">\n",
              "                            <button type=\"button\" onclick=\"toggle_text_hVTuRVDyJW()\">2 | Completion | 0.06$/1k | 0.01s | gpt-4.1-nano</button>\n",
              "                            <div id=\"collapsible_text_hVTuRVDyJW\" style=\"display:none;\">\n",
              "                                <p><pre id=\"jsonOutput\">{</br>  &quot;genre&quot;: &quot;Fantasy&quot;,</br>  &quot;characters&quot;: [</br>    {</br>      &quot;name&quot;: &quot;Lina&quot;,</br>      &quot;age&quot;: 16,</br>      &quot;occupation&quot;: &quot;Apprentice Mage&quot;</br>    },</br>    {</br>      &quot;name&quot;: &quot;Eldon&quot;,</br>      &quot;age&quot;: 45,</br>      &quot;occupation&quot;: &quot;Ancient Wizard&quot;</br>    },</br>    {</br>      &quot;name&quot;: &quot;Thorn&quot;,</br>      &quot;age&quot;: 30,</br>      &quot;occupation&quot;: &quot;Forest Guardian&quot;</br>    }</br>  ],</br>  &quot;story_summary&quot;: &quot;Lina seeks Eldon&#x27;s help to unlock her powers. Together, they face Thorn, who guards a secret that could save or doom their land.&quot; </br>}</pre></p>\n",
              "                            </div>\n",
              "                        </div>\n",
              "                        <script>\n",
              "                        function toggle_text_hVTuRVDyJW() {\n",
              "                            var collapsible_text = document.getElementById(\"collapsible_text_hVTuRVDyJW\");\n",
              "                            if (collapsible_text.style.display === \"none\") {\n",
              "                                collapsible_text.style.display = \"block\";\n",
              "                            } else {\n",
              "                                collapsible_text.style.display = \"none\";\n",
              "                            }\n",
              "                        }\n",
              "                        </script>\n",
              "                    \n",
              "            </div>\n",
              "\n",
              "            <script>\n",
              "            function toggle_text_lyBOyIQvAF() {\n",
              "                var collapsible_text = document.getElementById(\"collapsible_text_lyBOyIQvAF\");\n",
              "                if (collapsible_text.style.display === \"none\") {\n",
              "                    collapsible_text.style.display = \"block\";\n",
              "                } else {\n",
              "                    collapsible_text.style.display = \"none\";\n",
              "                }\n",
              "            }\n",
              "            </script>"
            ],
            "text/plain": [
              "<IPython.core.display.HTML object>"
            ]
          },
          "metadata": {},
          "output_type": "display_data"
        }
      ],
      "source": [
        "# Generate some calls\n",
        "c = JupyterBamlCollector(b)\n",
        "await c.b.InteractiveBamlJupyter_WriteShortStory()\n",
        "await c.b.InteractiveBamlJupyter_WriteShortStory()\n",
        "\n",
        "# Display the calls as a single session\n",
        "await c.display_session(\"Story generation session\")"
      ]
    },
    {
      "cell_type": "markdown",
      "metadata": {},
      "source": [
        "![Image](https://github.com/user-attachments/assets/7bed8f67-efe9-48c7-918a-5d0853dded95)"
      ]
    },
    {
      "cell_type": "markdown",
      "metadata": {},
      "source": [
        "## 3. Convenience class"
      ]
    },
    {
      "cell_type": "markdown",
      "metadata": {},
      "source": [
        "The `JupyterOutputBox` and `JupyterBamlCollector` are available as a single convenience class:"
      ]
    },
    {
      "cell_type": "code",
      "execution_count": 6,
      "metadata": {},
      "outputs": [
        {
          "data": {
            "text/html": [
              "<pre id=\"stream-6beda041-6f46-4f77-b671-8de3987359d7\">{'genre': 'adventure',\n",
              " 'characters': [{'name': 'Luna', 'age': 12, 'occupation': 'explorer'}, {'name': 'Max', 'age': 14, 'occupation': 'navigator'}, {'name': 'Professor Willow', 'age': 50, 'occupation': 'archaeologist'}],\n",
              " 'story_summary': 'Luna and Max discover an ancient map leading to hidden treasure. Guided by Professor Willow, they face challenges, unlocking secrets buried beneath a mysterious island jungle, '\n",
              "                  'discovering adventure and friendship.'}</pre>"
            ]
          },
          "metadata": {},
          "output_type": "display_data"
        },
        {
          "data": {
            "application/javascript": "\n            (function(){\n              var el = document.getElementById(\"stream-6beda041-6f46-4f77-b671-8de3987359d7\");\n              if (el) el.remove();\n            })();\n            ",
            "text/plain": [
              "<IPython.core.display.Javascript object>"
            ]
          },
          "metadata": {},
          "output_type": "display_data"
        },
        {
          "data": {
            "text/html": [
              "\n",
              "            <button type=\"button\" onclick=\"toggle_text_dReuGlCjcg()\">Prompt | messages=1 | 0.06$/1k | 0.02s | gpt-4.1-nano</button>\n",
              "            <div id=\"collapsible_text_dReuGlCjcg\" style=\"display:none;\">\n",
              "                <p><pre id=\"jsonOutput\">[system]</br>Write a short story about anything  Answer in JSON using this schema:</br>{</br>  genre: string,</br>  // at least three characters</br>  characters: [</br>    {</br>      name: string,</br>      age: int,</br>      occupation: string,</br>    }</br>  ],</br>  // Short story excerpt about anything, 30 words</br>  story_summary: string,</br>}</pre></p>\n",
              "            </div>\n",
              "\n",
              "            <script>\n",
              "            function toggle_text_dReuGlCjcg() {\n",
              "                var collapsible_text = document.getElementById(\"collapsible_text_dReuGlCjcg\");\n",
              "                if (collapsible_text.style.display === \"none\") {\n",
              "                    collapsible_text.style.display = \"block\";\n",
              "                } else {\n",
              "                    collapsible_text.style.display = \"none\";\n",
              "                }\n",
              "            }\n",
              "            </script>"
            ],
            "text/plain": [
              "<IPython.core.display.HTML object>"
            ]
          },
          "metadata": {},
          "output_type": "display_data"
        },
        {
          "data": {
            "text/html": [
              "\n",
              "            <button type=\"button\" onclick=\"toggle_text_tqpoEuuxAT()\">Completion | 0.06$/1k | 0.02s | gpt-4.1-nano</button>\n",
              "            <div id=\"collapsible_text_tqpoEuuxAT\" style=\"display:none;\">\n",
              "                <p><pre id=\"jsonOutput\">{</br>  &quot;genre&quot;: &quot;adventure&quot;,</br>  &quot;characters&quot;: [</br>    {</br>      &quot;name&quot;: &quot;Luna&quot;,</br>      &quot;age&quot;: 12,</br>      &quot;occupation&quot;: &quot;explorer&quot;</br>    },</br>    {</br>      &quot;name&quot;: &quot;Max&quot;,</br>      &quot;age&quot;: 14,</br>      &quot;occupation&quot;: &quot;navigator&quot;</br>    },</br>    {</br>      &quot;name&quot;: &quot;Professor Willow&quot;,</br>      &quot;age&quot;: 50,</br>      &quot;occupation&quot;: &quot;archaeologist&quot;</br>    }</br>  ],</br>  &quot;story_summary&quot;: &quot;Luna and Max discover an ancient map leading to hidden treasure. Guided by Professor Willow, they face challenges, unlocking secrets buried beneath a mysterious island jungle, discovering adventure and friendship.&quot;</br>}</pre></p>\n",
              "            </div>\n",
              "\n",
              "            <script>\n",
              "            function toggle_text_tqpoEuuxAT() {\n",
              "                var collapsible_text = document.getElementById(\"collapsible_text_tqpoEuuxAT\");\n",
              "                if (collapsible_text.style.display === \"none\") {\n",
              "                    collapsible_text.style.display = \"block\";\n",
              "                } else {\n",
              "                    collapsible_text.style.display = \"none\";\n",
              "                }\n",
              "            }\n",
              "            </script>"
            ],
            "text/plain": [
              "<IPython.core.display.HTML object>"
            ]
          },
          "metadata": {},
          "output_type": "display_data"
        }
      ],
      "source": [
        "from baml_agents.jupyter import JupyterBamlMonitor\n",
        "\n",
        "with JupyterBamlMonitor(b) as m:\n",
        "    # Output is displayed in real time in the notebook\n",
        "    await m.b.InteractiveBamlJupyter_WriteShortStory()\n",
        "    # Outout is hidden from the notebook\n",
        "\n",
        "# Buttons with prompt and completino are displayed in the notebook\n",
        "await m.display_calls()"
      ]
    },
    {
      "cell_type": "markdown",
      "metadata": {},
      "source": [
        "## 4. Interactive chat"
      ]
    },
    {
      "cell_type": "markdown",
      "metadata": {},
      "source": [
        "Chat with your BAML Agent right in the notebook:"
      ]
    },
    {
      "cell_type": "code",
      "execution_count": 7,
      "metadata": {},
      "outputs": [
        {
          "data": {
            "text/html": [
              "\n",
              "        <link rel=\"stylesheet\"\n",
              "              href=\"https://cdn.jsdelivr.net/npm/bootstrap@4.5.3/dist/css/bootstrap.min.css\"\n",
              "              integrity=\"sha384-TX8t27EcRE3e/ihU7zmQxVncDAy5uIKz4rEkgIXeMed4M0jlfIDPvg6uqKI2xXr2\"\n",
              "              crossorigin=\"anonymous\">\n",
              "        <style>\n",
              "            body{margin-top:20px;}\n",
              "\n",
              "            .chat-message-left,\n",
              "            .chat-message-right {\n",
              "                display: flex;\n",
              "                flex-shrink: 0\n",
              "            }\n",
              "\n",
              "            .chat-message-left {\n",
              "                margin-right: auto\n",
              "            }\n",
              "\n",
              "            .chat-message-right {\n",
              "                flex-direction: row-reverse;\n",
              "                margin-left: auto\n",
              "            }\n",
              "\n",
              "            .time-stamp {\n",
              "                margin-left: 10px;\n",
              "                margin-right: 10px;\n",
              "                align-self: flex-end;\n",
              "            }\n",
              "\n",
              "            /* Make the textarea more responsive to copy/paste */\n",
              "            .jupyter-widgets textarea {\n",
              "                font-family: inherit;\n",
              "                line-height: normal;\n",
              "                resize: none;\n",
              "                padding: 8px;\n",
              "            }\n",
              "        </style>\n",
              "        "
            ],
            "text/plain": [
              "<IPython.core.display.HTML object>"
            ]
          },
          "metadata": {},
          "output_type": "display_data"
        },
        {
          "data": {
            "text/html": [
              "\n",
              "        <script>\n",
              "        \n",
              "        function captureEnter(event) {\n",
              "            if (event.key === 'Enter' && !event.shiftKey) {\n",
              "                event.preventDefault();\n",
              "                document.getElementById('send-button').click();\n",
              "                return false;\n",
              "            }\n",
              "            return true;\n",
              "        }\n",
              "\n",
              "        setTimeout(function() {\n",
              "            var textareas = document.getElementsByClassName('jupyter-widgets-output-area')[0]\n",
              "                            .getElementsByTagName('textarea');\n",
              "            if (textareas.length > 0) {\n",
              "                var textarea = textareas[textareas.length-1];\n",
              "                textarea.addEventListener('keydown', captureEnter);\n",
              "            }\n",
              "        }, 1000);\n",
              "        \n",
              "        </script>\n",
              "        "
            ],
            "text/plain": [
              "<IPython.core.display.HTML object>"
            ]
          },
          "metadata": {},
          "output_type": "display_data"
        },
        {
          "data": {
            "application/vnd.jupyter.widget-view+json": {
              "model_id": "84134b7ad7fc43eda2ac6500a3e555a7",
              "version_major": 2,
              "version_minor": 0
            },
            "text/plain": [
              "HBox(children=(Output(),), layout=Layout(display='inline-flex', flex_flow='column-reverse', max_height='500px'…"
            ]
          },
          "metadata": {},
          "output_type": "display_data"
        },
        {
          "data": {
            "application/vnd.jupyter.widget-view+json": {
              "model_id": "8563b102164b4dedbae0bfe22577caab",
              "version_major": 2,
              "version_minor": 0
            },
            "text/plain": [
              "Box(children=(HTML(value='Loading...', layout=Layout(display='none')), Textarea(value='', continuous_update=Fa…"
            ]
          },
          "metadata": {},
          "output_type": "display_data"
        },
        {
          "data": {
            "text/html": [
              "\n",
              "        <script>\n",
              "        document.querySelector(\".jupyter-button:last-child\").id = \"send-button\";\n",
              "        </script>\n",
              "        "
            ],
            "text/plain": [
              "<IPython.core.display.HTML object>"
            ]
          },
          "metadata": {},
          "output_type": "display_data"
        }
      ],
      "source": [
        "from baml_agents.jupyter import ChatMessage, JupyterChatWidget\n",
        "\n",
        "\n",
        "async def callback(chat_history):\n",
        "    msg = ChatMessage(\n",
        "        content=f\"I'm seeing {len(chat_history)} messages\",\n",
        "        role=\"assistant\",\n",
        "    )\n",
        "    return [msg]\n",
        "\n",
        "\n",
        "JupyterChatWidget(callback).display()"
      ]
    },
    {
      "cell_type": "markdown",
      "metadata": {},
      "source": [
        "![Image](https://github.com/user-attachments/assets/df46af62-97e5-42d6-8def-91762a46e432)"
      ]
    },
    {
      "cell_type": "markdown",
      "metadata": {},
      "source": [
        "You can also pre-fill chat:"
      ]
    },
    {
      "cell_type": "code",
      "execution_count": 8,
      "metadata": {},
      "outputs": [
        {
          "data": {
            "text/html": [
              "\n",
              "        <link rel=\"stylesheet\"\n",
              "              href=\"https://cdn.jsdelivr.net/npm/bootstrap@4.5.3/dist/css/bootstrap.min.css\"\n",
              "              integrity=\"sha384-TX8t27EcRE3e/ihU7zmQxVncDAy5uIKz4rEkgIXeMed4M0jlfIDPvg6uqKI2xXr2\"\n",
              "              crossorigin=\"anonymous\">\n",
              "        <style>\n",
              "            body{margin-top:20px;}\n",
              "\n",
              "            .chat-message-left,\n",
              "            .chat-message-right {\n",
              "                display: flex;\n",
              "                flex-shrink: 0\n",
              "            }\n",
              "\n",
              "            .chat-message-left {\n",
              "                margin-right: auto\n",
              "            }\n",
              "\n",
              "            .chat-message-right {\n",
              "                flex-direction: row-reverse;\n",
              "                margin-left: auto\n",
              "            }\n",
              "\n",
              "            .time-stamp {\n",
              "                margin-left: 10px;\n",
              "                margin-right: 10px;\n",
              "                align-self: flex-end;\n",
              "            }\n",
              "\n",
              "            /* Make the textarea more responsive to copy/paste */\n",
              "            .jupyter-widgets textarea {\n",
              "                font-family: inherit;\n",
              "                line-height: normal;\n",
              "                resize: none;\n",
              "                padding: 8px;\n",
              "            }\n",
              "        </style>\n",
              "        "
            ],
            "text/plain": [
              "<IPython.core.display.HTML object>"
            ]
          },
          "metadata": {},
          "output_type": "display_data"
        },
        {
          "data": {
            "text/html": [
              "\n",
              "        <script>\n",
              "        \n",
              "        function captureEnter(event) {\n",
              "            if (event.key === 'Enter' && !event.shiftKey) {\n",
              "                event.preventDefault();\n",
              "                document.getElementById('send-button').click();\n",
              "                return false;\n",
              "            }\n",
              "            return true;\n",
              "        }\n",
              "\n",
              "        setTimeout(function() {\n",
              "            var textareas = document.getElementsByClassName('jupyter-widgets-output-area')[0]\n",
              "                            .getElementsByTagName('textarea');\n",
              "            if (textareas.length > 0) {\n",
              "                var textarea = textareas[textareas.length-1];\n",
              "                textarea.addEventListener('keydown', captureEnter);\n",
              "            }\n",
              "        }, 1000);\n",
              "        \n",
              "        </script>\n",
              "        "
            ],
            "text/plain": [
              "<IPython.core.display.HTML object>"
            ]
          },
          "metadata": {},
          "output_type": "display_data"
        },
        {
          "data": {
            "application/vnd.jupyter.widget-view+json": {
              "model_id": "4726c8facfe3404fae077df6637ce75a",
              "version_major": 2,
              "version_minor": 0
            },
            "text/plain": [
              "HBox(children=(Output(outputs=({'output_type': 'display_data', 'data': {'text/plain': '<IPython.core.display.H…"
            ]
          },
          "metadata": {},
          "output_type": "display_data"
        },
        {
          "data": {
            "application/vnd.jupyter.widget-view+json": {
              "model_id": "a1e72503aabf4aa1b13df7689de53173",
              "version_major": 2,
              "version_minor": 0
            },
            "text/plain": [
              "Box(children=(HTML(value='Loading...', layout=Layout(display='none')), Textarea(value='', continuous_update=Fa…"
            ]
          },
          "metadata": {},
          "output_type": "display_data"
        },
        {
          "data": {
            "text/html": [
              "\n",
              "        <script>\n",
              "        document.querySelector(\".jupyter-button:last-child\").id = \"send-button\";\n",
              "        </script>\n",
              "        "
            ],
            "text/plain": [
              "<IPython.core.display.HTML object>"
            ]
          },
          "metadata": {},
          "output_type": "display_data"
        }
      ],
      "source": [
        "chat_history = [\n",
        "    ChatMessage(\n",
        "        content=\"Hey\",\n",
        "        role=\"user\",\n",
        "    ),\n",
        "    ChatMessage(\n",
        "        content=\"Hello\",\n",
        "        role=\"assistant\",\n",
        "    ),\n",
        "]\n",
        "\n",
        "JupyterChatWidget(callback, chat_history=chat_history).display()"
      ]
    },
    {
      "cell_type": "markdown",
      "metadata": {},
      "source": [
        "You can also invoke the callback automatically:"
      ]
    },
    {
      "cell_type": "code",
      "execution_count": 9,
      "metadata": {},
      "outputs": [
        {
          "data": {
            "text/html": [
              "\n",
              "        <link rel=\"stylesheet\"\n",
              "              href=\"https://cdn.jsdelivr.net/npm/bootstrap@4.5.3/dist/css/bootstrap.min.css\"\n",
              "              integrity=\"sha384-TX8t27EcRE3e/ihU7zmQxVncDAy5uIKz4rEkgIXeMed4M0jlfIDPvg6uqKI2xXr2\"\n",
              "              crossorigin=\"anonymous\">\n",
              "        <style>\n",
              "            body{margin-top:20px;}\n",
              "\n",
              "            .chat-message-left,\n",
              "            .chat-message-right {\n",
              "                display: flex;\n",
              "                flex-shrink: 0\n",
              "            }\n",
              "\n",
              "            .chat-message-left {\n",
              "                margin-right: auto\n",
              "            }\n",
              "\n",
              "            .chat-message-right {\n",
              "                flex-direction: row-reverse;\n",
              "                margin-left: auto\n",
              "            }\n",
              "\n",
              "            .time-stamp {\n",
              "                margin-left: 10px;\n",
              "                margin-right: 10px;\n",
              "                align-self: flex-end;\n",
              "            }\n",
              "\n",
              "            /* Make the textarea more responsive to copy/paste */\n",
              "            .jupyter-widgets textarea {\n",
              "                font-family: inherit;\n",
              "                line-height: normal;\n",
              "                resize: none;\n",
              "                padding: 8px;\n",
              "            }\n",
              "        </style>\n",
              "        "
            ],
            "text/plain": [
              "<IPython.core.display.HTML object>"
            ]
          },
          "metadata": {},
          "output_type": "display_data"
        },
        {
          "data": {
            "text/html": [
              "\n",
              "        <script>\n",
              "        \n",
              "        function captureEnter(event) {\n",
              "            if (event.key === 'Enter' && !event.shiftKey) {\n",
              "                event.preventDefault();\n",
              "                document.getElementById('send-button').click();\n",
              "                return false;\n",
              "            }\n",
              "            return true;\n",
              "        }\n",
              "\n",
              "        setTimeout(function() {\n",
              "            var textareas = document.getElementsByClassName('jupyter-widgets-output-area')[0]\n",
              "                            .getElementsByTagName('textarea');\n",
              "            if (textareas.length > 0) {\n",
              "                var textarea = textareas[textareas.length-1];\n",
              "                textarea.addEventListener('keydown', captureEnter);\n",
              "            }\n",
              "        }, 1000);\n",
              "        \n",
              "        </script>\n",
              "        "
            ],
            "text/plain": [
              "<IPython.core.display.HTML object>"
            ]
          },
          "metadata": {},
          "output_type": "display_data"
        },
        {
          "data": {
            "application/vnd.jupyter.widget-view+json": {
              "model_id": "71dea43075df4e8e8a39eacd6b6c4eab",
              "version_major": 2,
              "version_minor": 0
            },
            "text/plain": [
              "HBox(children=(Output(),), layout=Layout(display='inline-flex', flex_flow='column-reverse', max_height='500px'…"
            ]
          },
          "metadata": {},
          "output_type": "display_data"
        },
        {
          "data": {
            "application/vnd.jupyter.widget-view+json": {
              "model_id": "ff7d28fb83e047b59133da4225d82829",
              "version_major": 2,
              "version_minor": 0
            },
            "text/plain": [
              "Box(children=(HTML(value='Loading...', layout=Layout(display='none')), Textarea(value='', continuous_update=Fa…"
            ]
          },
          "metadata": {},
          "output_type": "display_data"
        },
        {
          "data": {
            "text/html": [
              "\n",
              "        <script>\n",
              "        document.querySelector(\".jupyter-button:last-child\").id = \"send-button\";\n",
              "        </script>\n",
              "        "
            ],
            "text/plain": [
              "<IPython.core.display.HTML object>"
            ]
          },
          "metadata": {},
          "output_type": "display_data"
        },
        {
          "data": {
            "text/html": [
              "\n",
              "        <script>\n",
              "        document.querySelector(\".jupyter-widgets textarea:last-of-type\").focus();\n",
              "        </script>\n",
              "        "
            ],
            "text/plain": [
              "<IPython.core.display.HTML object>"
            ]
          },
          "metadata": {},
          "output_type": "display_data"
        }
      ],
      "source": [
        "chat = JupyterChatWidget(callback)\n",
        "await chat.run(\"It's a beautiful day\")\n",
        "# Callback is being run automatically on startup to respond to the \"It's a beautiful day\" message"
      ]
    }
  ],
  "metadata": {
    "kernelspec": {
      "display_name": ".venv",
      "language": "python",
      "name": "python3"
    },
    "language_info": {
      "codemirror_mode": {
        "name": "ipython",
        "version": 3
      },
      "file_extension": ".py",
      "mimetype": "text/x-python",
      "name": "python",
      "nbconvert_exporter": "python",
      "pygments_lexer": "ipython3",
      "version": "3.13.0"
    }
  },
  "nbformat": 4,
  "nbformat_minor": 2
}
