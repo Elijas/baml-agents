{
  "cells": [
    {
      "cell_type": "code",
      "execution_count": 1,
      "metadata": {},
      "outputs": [],
      "source": [
        "import stackprinter  # type: ignore\n",
        "import jupyter_black  # type: ignore\n",
        "from dotenv import load_dotenv  # type: ignore\n",
        "import time\n",
        "\n",
        "from baml_agents import init_logging, with_model\n",
        "from baml_client.async_client import b\n",
        "\n",
        "init_logging()\n",
        "stackprinter.set_excepthook()\n",
        "load_dotenv()\n",
        "jupyter_black.load()\n",
        "\n",
        "b = with_model(b, \"gpt-4.1-nano\")"
      ]
    },
    {
      "cell_type": "markdown",
      "metadata": {},
      "source": [
        "# Using BAML in Jupyter notebokos\n",
        "\n",
        "## 1. Streaming outputs\n",
        "\n",
        "BAML offers a great developer experience, and I used some utilities to recreate some of the magic in Jupyter notebooks."
      ]
    },
    {
      "cell_type": "code",
      "execution_count": 2,
      "metadata": {},
      "outputs": [
        {
          "data": {
            "text/html": [
              "<pre id=\"stream-8aeef9ce-849d-4bac-9f51-97581008a8ca\">abcdefghijklmnopqrstuvwxyzabcdefghijklmnopqrstuvwxyzabcdefghijklmnopqrstuvwxyz</pre>"
            ]
          },
          "metadata": {},
          "output_type": "display_data"
        }
      ],
      "source": [
        "from baml_agents import JupyterOutputBox\n",
        "\n",
        "with JupyterOutputBox(clear_after_finish=False) as output_box:\n",
        "    s = \"\"\n",
        "    for c in \"abcdefghijklmnopqrstuvwxyz\" * 3:\n",
        "        s += c\n",
        "        output_box.update(s)\n",
        "        time.sleep(0.008)\n",
        "\n",
        "# The letters are generated and displayed as they are being generated."
      ]
    },
    {
      "cell_type": "code",
      "execution_count": 3,
      "metadata": {},
      "outputs": [
        {
          "data": {
            "text/html": [
              "<pre id=\"stream-b2f3e3d3-9447-4dce-b427-581f7137a726\">{\n",
              "    \"genre\": \"Adventure\",\n",
              "    \"characters\": [\n",
              "        {\n",
              "            \"name\": \"Lila\",\n",
              "            \"age\": 17,\n",
              "            \"occupation\": \"Explorer\"\n",
              "        },\n",
              "        {\n",
              "            \"name\": \"Max\",\n",
              "            \"age\": 18,\n",
              "            \"occupation\": \"Guide\"\n",
              "        },\n",
              "        {\n",
              "            \"name\": \"Sable\",\n",
              "            \"age\": 5,\n",
              "            \"occupation\": \"Pet fox\"\n",
              "        }\n",
              "    ],\n",
              "    \"story_summary\": \"Lila and Max discover a hidden cave filled with ancient symbols. Sable prowls ahead, guiding them to treasure and secrets long buried beneath the mountain's shadow.\"\n",
              "}</pre>"
            ]
          },
          "metadata": {},
          "output_type": "display_data"
        }
      ],
      "source": [
        "from baml_agents import JupyterBamlCollector\n",
        "\n",
        "with JupyterOutputBox(clear_after_finish=False) as s:\n",
        "    c = JupyterBamlCollector(b, stream_callback=s.display(formatter=\"json\"))\n",
        "    await c.b.InteractiveBamlJupyter_WriteShortStory()"
      ]
    },
    {
      "cell_type": "markdown",
      "metadata": {},
      "source": [
        "![Image](https://github.com/user-attachments/assets/ca21b62a-48b7-4a16-99fa-20bbe61f68b2)"
      ]
    },
    {
      "cell_type": "markdown",
      "metadata": {},
      "source": [
        "## 2. Inspecting prompts and completions"
      ]
    },
    {
      "cell_type": "code",
      "execution_count": 4,
      "metadata": {},
      "outputs": [
        {
          "data": {
            "text/html": [
              "\n",
              "            <button type=\"button\" onclick=\"toggle_text_nEJyAjSWDo()\">Prompt | messages=1 | 0.06$/1k | 1.22s | gpt-4.1-nano</button>\n",
              "            <div id=\"collapsible_text_nEJyAjSWDo\" style=\"display:none;\">\n",
              "                <p><pre id=\"jsonOutput\">[system]</br>Write a short story about anything  Answer in JSON using this schema:</br>{</br>  genre: string,</br>  // at least three characters</br>  characters: [</br>    {</br>      name: string,</br>      age: int,</br>      occupation: string,</br>    }</br>  ],</br>  // Short story excerpt about anything, 30 words</br>  story_summary: string,</br>}</pre></p>\n",
              "            </div>\n",
              "\n",
              "            <script>\n",
              "            function toggle_text_nEJyAjSWDo() {\n",
              "                var collapsible_text = document.getElementById(\"collapsible_text_nEJyAjSWDo\");\n",
              "                if (collapsible_text.style.display === \"none\") {\n",
              "                    collapsible_text.style.display = \"block\";\n",
              "                } else {\n",
              "                    collapsible_text.style.display = \"none\";\n",
              "                }\n",
              "            }\n",
              "            </script>"
            ],
            "text/plain": [
              "<IPython.core.display.HTML object>"
            ]
          },
          "metadata": {},
          "output_type": "display_data"
        },
        {
          "data": {
            "text/html": [
              "\n",
              "            <button type=\"button\" onclick=\"toggle_text_vknXIqZBiy()\">Completion | 0.06$/1k | 1.22s | gpt-4.1-nano</button>\n",
              "            <div id=\"collapsible_text_vknXIqZBiy\" style=\"display:none;\">\n",
              "                <p><pre id=\"jsonOutput\">{</br>  &quot;genre&quot;: &quot;Adventure&quot;,</br>  &quot;characters&quot;: [</br>    {</br>      &quot;name&quot;: &quot;Lila&quot;,</br>      &quot;age&quot;: 17,</br>      &quot;occupation&quot;: &quot;Explorer&quot;</br>    },</br>    {</br>      &quot;name&quot;: &quot;Max&quot;,</br>      &quot;age&quot;: 18,</br>      &quot;occupation&quot;: &quot;Guide&quot;</br>    },</br>    {</br>      &quot;name&quot;: &quot;Sable&quot;,</br>      &quot;age&quot;: 5,</br>      &quot;occupation&quot;: &quot;Pet fox&quot;</br>    }</br>  ],</br>  &quot;story_summary&quot;: &quot;Lila and Max discover a hidden cave filled with ancient symbols. Sable prowls ahead, guiding them to treasure and secrets long buried beneath the mountain&#x27;s shadow.&quot;</br>}</pre></p>\n",
              "            </div>\n",
              "\n",
              "            <script>\n",
              "            function toggle_text_vknXIqZBiy() {\n",
              "                var collapsible_text = document.getElementById(\"collapsible_text_vknXIqZBiy\");\n",
              "                if (collapsible_text.style.display === \"none\") {\n",
              "                    collapsible_text.style.display = \"block\";\n",
              "                } else {\n",
              "                    collapsible_text.style.display = \"none\";\n",
              "                }\n",
              "            }\n",
              "            </script>"
            ],
            "text/plain": [
              "<IPython.core.display.HTML object>"
            ]
          },
          "metadata": {},
          "output_type": "display_data"
        }
      ],
      "source": [
        "await c.display_calls()"
      ]
    },
    {
      "cell_type": "markdown",
      "metadata": {},
      "source": [
        "![Image](https://github.com/user-attachments/assets/59ed3cf3-84df-45a3-bf18-44dfbc457e4e)"
      ]
    },
    {
      "cell_type": "markdown",
      "metadata": {},
      "source": [
        "You can also group prompts and completions by LLM call and by LLM call session:"
      ]
    },
    {
      "cell_type": "code",
      "execution_count": 5,
      "metadata": {},
      "outputs": [
        {
          "data": {
            "text/html": [
              "\n",
              "            <button type=\"button\" onclick=\"toggle_text_eBxqyRJAsY()\">Story generation session, Cost: 0.13$/1k | 2.14s | gpt-4.1-nano</button>\n",
              "            <div id=\"collapsible_text_eBxqyRJAsY\" style=\"display:none;\">\n",
              "                \n",
              "                        <div style=\"margin-left: 20px;\">\n",
              "                            <button type=\"button\" onclick=\"toggle_text_KFwVPfjcIG()\">1 | Prompt | messages=1 | 0.06$/1k | 1.06s | gpt-4.1-nano</button>\n",
              "                            <div id=\"collapsible_text_KFwVPfjcIG\" style=\"display:none;\">\n",
              "                                <p><pre id=\"jsonOutput\">[system]</br>Write a short story about anything  Answer in JSON using this schema:</br>{</br>  genre: string,</br>  // at least three characters</br>  characters: [</br>    {</br>      name: string,</br>      age: int,</br>      occupation: string,</br>    }</br>  ],</br>  // Short story excerpt about anything, 30 words</br>  story_summary: string,</br>}</pre></p>\n",
              "                            </div>\n",
              "                        </div>\n",
              "                        <script>\n",
              "                        function toggle_text_KFwVPfjcIG() {\n",
              "                            var collapsible_text = document.getElementById(\"collapsible_text_KFwVPfjcIG\");\n",
              "                            if (collapsible_text.style.display === \"none\") {\n",
              "                                collapsible_text.style.display = \"block\";\n",
              "                            } else {\n",
              "                                collapsible_text.style.display = \"none\";\n",
              "                            }\n",
              "                        }\n",
              "                        </script>\n",
              "                    \n",
              "                        <div style=\"margin-left: 20px;\">\n",
              "                            <button type=\"button\" onclick=\"toggle_text_SaXnGCurBE()\">1 | Completion</button>\n",
              "                            <div id=\"collapsible_text_SaXnGCurBE\" style=\"display:none;\">\n",
              "                                <p><pre id=\"jsonOutput\">{</br>  &quot;genre&quot;: &quot;Fantasy&quot;,</br>  &quot;characters&quot;: [</br>    {</br>      &quot;name&quot;: &quot;Luna&quot;,</br>      &quot;age&quot;: 16,</br>      &quot;occupation&quot;: &quot;Apprentice Mage&quot;</br>    },</br>    {</br>      &quot;name&quot;: &quot;Eldon&quot;,</br>      &quot;age&quot;: 45,</br>      &quot;occupation&quot;: &quot;Village Blacksmith&quot;</br>    },</br>    {</br>      &quot;name&quot;: &quot;Mira&quot;,</br>      &quot;age&quot;: 12,</br>      &quot;occupation&quot;: &quot;Messenger&quot;</br>    }</br>  ],</br>  &quot;story_summary&quot;: &quot;Luna discovers a mysterious map leading to a hidden realm. With Mira and Eldon, she embarks on a quest, facing riddles and shadows to find magical treasure.&quot;</br>}</pre></p>\n",
              "                            </div>\n",
              "                        </div>\n",
              "                        <script>\n",
              "                        function toggle_text_SaXnGCurBE() {\n",
              "                            var collapsible_text = document.getElementById(\"collapsible_text_SaXnGCurBE\");\n",
              "                            if (collapsible_text.style.display === \"none\") {\n",
              "                                collapsible_text.style.display = \"block\";\n",
              "                            } else {\n",
              "                                collapsible_text.style.display = \"none\";\n",
              "                            }\n",
              "                        }\n",
              "                        </script>\n",
              "                    \n",
              "                        <div style=\"margin-left: 20px;\">\n",
              "                            <button type=\"button\" onclick=\"toggle_text_HvDGuoYXMl()\">2 | Prompt | messages=1 | 0.06$/1k | 1.08s | gpt-4.1-nano</button>\n",
              "                            <div id=\"collapsible_text_HvDGuoYXMl\" style=\"display:none;\">\n",
              "                                <p><pre id=\"jsonOutput\">[system]</br>Write a short story about anything  Answer in JSON using this schema:</br>{</br>  genre: string,</br>  // at least three characters</br>  characters: [</br>    {</br>      name: string,</br>      age: int,</br>      occupation: string,</br>    }</br>  ],</br>  // Short story excerpt about anything, 30 words</br>  story_summary: string,</br>}</pre></p>\n",
              "                            </div>\n",
              "                        </div>\n",
              "                        <script>\n",
              "                        function toggle_text_HvDGuoYXMl() {\n",
              "                            var collapsible_text = document.getElementById(\"collapsible_text_HvDGuoYXMl\");\n",
              "                            if (collapsible_text.style.display === \"none\") {\n",
              "                                collapsible_text.style.display = \"block\";\n",
              "                            } else {\n",
              "                                collapsible_text.style.display = \"none\";\n",
              "                            }\n",
              "                        }\n",
              "                        </script>\n",
              "                    \n",
              "                        <div style=\"margin-left: 20px;\">\n",
              "                            <button type=\"button\" onclick=\"toggle_text_izzTHaFmSJ()\">2 | Completion</button>\n",
              "                            <div id=\"collapsible_text_izzTHaFmSJ\" style=\"display:none;\">\n",
              "                                <p><pre id=\"jsonOutput\">{</br>  &quot;genre&quot;: &quot;Fantasy&quot;,</br>  &quot;characters&quot;: [</br>    {</br>      &quot;name&quot;: &quot;Luna&quot;,</br>      &quot;age&quot;: 17,</br>      &quot;occupation&quot;: &quot;Apprentice Mage&quot;</br>    },</br>    {</br>      &quot;name&quot;: &quot;Elder Thorne&quot;,</br>      &quot;age&quot;: 65,</br>      &quot;occupation&quot;: &quot;Wise Wizard&quot;</br>    },</br>    {</br>      &quot;name&quot;: &quot;Sylvia&quot;,</br>      &quot;age&quot;: 16,</br>      &quot;occupation&quot;: &quot;Forest Scout&quot;</br>    }</br>  ],</br>  &quot;story_summary&quot;: &quot;Luna discovers a hidden portal in the woods, guided by Elder Thorne&#x27;s secret map, embarking on a quest to unlock her magical potential and save her village from darkness.&quot;</br>}</pre></p>\n",
              "                            </div>\n",
              "                        </div>\n",
              "                        <script>\n",
              "                        function toggle_text_izzTHaFmSJ() {\n",
              "                            var collapsible_text = document.getElementById(\"collapsible_text_izzTHaFmSJ\");\n",
              "                            if (collapsible_text.style.display === \"none\") {\n",
              "                                collapsible_text.style.display = \"block\";\n",
              "                            } else {\n",
              "                                collapsible_text.style.display = \"none\";\n",
              "                            }\n",
              "                        }\n",
              "                        </script>\n",
              "                    \n",
              "            </div>\n",
              "\n",
              "            <script>\n",
              "            function toggle_text_eBxqyRJAsY() {\n",
              "                var collapsible_text = document.getElementById(\"collapsible_text_eBxqyRJAsY\");\n",
              "                if (collapsible_text.style.display === \"none\") {\n",
              "                    collapsible_text.style.display = \"block\";\n",
              "                } else {\n",
              "                    collapsible_text.style.display = \"none\";\n",
              "                }\n",
              "            }\n",
              "            </script>"
            ],
            "text/plain": [
              "<IPython.core.display.HTML object>"
            ]
          },
          "metadata": {},
          "output_type": "display_data"
        }
      ],
      "source": [
        "# Generate some calls\n",
        "c = JupyterBamlCollector(b)\n",
        "await c.b.InteractiveBamlJupyter_WriteShortStory()\n",
        "await c.b.InteractiveBamlJupyter_WriteShortStory()\n",
        "\n",
        "# Display the calls as a single session\n",
        "await c.display_session(\"Story generation session\")"
      ]
    },
    {
      "cell_type": "markdown",
      "metadata": {},
      "source": [
        "![Image](https://github.com/user-attachments/assets/7bed8f67-efe9-48c7-918a-5d0853dded95)"
      ]
    },
    {
      "cell_type": "markdown",
      "metadata": {},
      "source": [
        "## 3. Convenience class"
      ]
    },
    {
      "cell_type": "markdown",
      "metadata": {},
      "source": [
        "The `JupyterOutputBox` and `JupyterBamlCollector` are available as a single convenience class:"
      ]
    },
    {
      "cell_type": "code",
      "execution_count": 6,
      "metadata": {},
      "outputs": [
        {
          "data": {
            "text/html": [
              "<pre id=\"stream-36700afa-ff9f-4154-96d0-4c3d248cae3c\">{'genre': 'Fantasy',\n",
              " 'characters': [{'name': 'Luna', 'age': 16, 'occupation': 'Apprentice mage'},\n",
              "                {'name': 'Elder Thorne', 'age': 70, 'occupation': 'Village elder'},\n",
              "                {'name': 'Finn', 'age': 18, 'occupation': 'Blacksmith apprentice'}],\n",
              " 'story_summary': 'Luna discovers a hidden portal in the woods, leading to a mystical realm. With Elder Thorne’s guidance, she embarks on a quest to restore balance between worlds.'}</pre>"
            ]
          },
          "metadata": {},
          "output_type": "display_data"
        },
        {
          "data": {
            "application/javascript": "\n            (function(){\n              var el = document.getElementById(\"stream-36700afa-ff9f-4154-96d0-4c3d248cae3c\");\n              if (el) el.remove();\n            })();\n            ",
            "text/plain": [
              "<IPython.core.display.Javascript object>"
            ]
          },
          "metadata": {},
          "output_type": "display_data"
        },
        {
          "data": {
            "text/html": [
              "\n",
              "            <button type=\"button\" onclick=\"toggle_text_FNyaBzLpTL()\">Prompt | messages=1 | 0.06$/1k | 3.61s | gpt-4.1-nano</button>\n",
              "            <div id=\"collapsible_text_FNyaBzLpTL\" style=\"display:none;\">\n",
              "                <p><pre id=\"jsonOutput\">[system]</br>Write a short story about anything  Answer in JSON using this schema:</br>{</br>  genre: string,</br>  // at least three characters</br>  characters: [</br>    {</br>      name: string,</br>      age: int,</br>      occupation: string,</br>    }</br>  ],</br>  // Short story excerpt about anything, 30 words</br>  story_summary: string,</br>}</pre></p>\n",
              "            </div>\n",
              "\n",
              "            <script>\n",
              "            function toggle_text_FNyaBzLpTL() {\n",
              "                var collapsible_text = document.getElementById(\"collapsible_text_FNyaBzLpTL\");\n",
              "                if (collapsible_text.style.display === \"none\") {\n",
              "                    collapsible_text.style.display = \"block\";\n",
              "                } else {\n",
              "                    collapsible_text.style.display = \"none\";\n",
              "                }\n",
              "            }\n",
              "            </script>"
            ],
            "text/plain": [
              "<IPython.core.display.HTML object>"
            ]
          },
          "metadata": {},
          "output_type": "display_data"
        },
        {
          "data": {
            "text/html": [
              "\n",
              "            <button type=\"button\" onclick=\"toggle_text_crtfUbjqSV()\">Completion | 0.06$/1k | 3.61s | gpt-4.1-nano</button>\n",
              "            <div id=\"collapsible_text_crtfUbjqSV\" style=\"display:none;\">\n",
              "                <p><pre id=\"jsonOutput\">{</br>  &quot;genre&quot;: &quot;Fantasy&quot;,</br>  &quot;characters&quot;: [</br>    {</br>      &quot;name&quot;: &quot;Luna&quot;,</br>      &quot;age&quot;: 16,</br>      &quot;occupation&quot;: &quot;Apprentice mage&quot;</br>    },</br>    {</br>      &quot;name&quot;: &quot;Elder Thorne&quot;,</br>      &quot;age&quot;: 70,</br>      &quot;occupation&quot;: &quot;Village elder&quot;</br>    },</br>    {</br>      &quot;name&quot;: &quot;Finn&quot;,</br>      &quot;age&quot;: 18,</br>      &quot;occupation&quot;: &quot;Blacksmith apprentice&quot;</br>    }</br>  ],</br>  &quot;story_summary&quot;: &quot;Luna discovers a hidden portal in the woods, leading to a mystical realm. With Elder Thorne’s guidance, she embarks on a quest to restore balance between worlds.&quot;</br>}</pre></p>\n",
              "            </div>\n",
              "\n",
              "            <script>\n",
              "            function toggle_text_crtfUbjqSV() {\n",
              "                var collapsible_text = document.getElementById(\"collapsible_text_crtfUbjqSV\");\n",
              "                if (collapsible_text.style.display === \"none\") {\n",
              "                    collapsible_text.style.display = \"block\";\n",
              "                } else {\n",
              "                    collapsible_text.style.display = \"none\";\n",
              "                }\n",
              "            }\n",
              "            </script>"
            ],
            "text/plain": [
              "<IPython.core.display.HTML object>"
            ]
          },
          "metadata": {},
          "output_type": "display_data"
        }
      ],
      "source": [
        "from baml_agents import JupyterBamlMonitor\n",
        "\n",
        "with JupyterBamlMonitor(b) as m:\n",
        "    # Output is displayed in real time in the notebook\n",
        "    await m.b.InteractiveBamlJupyter_WriteShortStory()\n",
        "    # Outout is hidden from the notebook\n",
        "\n",
        "# Buttons with prompt and completino are displayed in the notebook\n",
        "await m.display_calls()"
      ]
    },
    {
      "cell_type": "markdown",
      "metadata": {},
      "source": [
        "## 4. Interactive chat"
      ]
    },
    {
      "cell_type": "markdown",
      "metadata": {},
      "source": [
        "Chat with your BAML Agent right in the notebook:"
      ]
    },
    {
      "cell_type": "code",
      "execution_count": 7,
      "metadata": {},
      "outputs": [
        {
          "data": {
            "text/html": [
              "\n",
              "        <link rel=\"stylesheet\" \n",
              "              href=\"https://cdn.jsdelivr.net/npm/bootstrap@4.5.3/dist/css/bootstrap.min.css\" \n",
              "              integrity=\"sha384-TX8t27EcRE3e/ihU7zmQxVncDAy5uIKz4rEkgIXeMed4M0jlfIDPvg6uqKI2xXr2\" \n",
              "              crossorigin=\"anonymous\">\n",
              "        <style>\n",
              "            body{margin-top:20px;}\n",
              "\n",
              "            .chat-message-left,\n",
              "            .chat-message-right {\n",
              "                display: flex;\n",
              "                flex-shrink: 0\n",
              "            }\n",
              "\n",
              "            .chat-message-left {\n",
              "                margin-right: auto\n",
              "            }\n",
              "\n",
              "            .chat-message-right {\n",
              "                flex-direction: row-reverse;\n",
              "                margin-left: auto\n",
              "            }\n",
              "            \n",
              "            .time-stamp {\n",
              "                margin-left: 10px;\n",
              "                margin-right: 10px;\n",
              "                align-self: flex-end;\n",
              "            }\n",
              "            \n",
              "            /* Make the textarea more responsive to copy/paste */\n",
              "            .jupyter-widgets textarea {\n",
              "                font-family: inherit;\n",
              "                line-height: normal;\n",
              "                resize: none;\n",
              "                padding: 8px;\n",
              "            }\n",
              "        </style>\n",
              "        "
            ],
            "text/plain": [
              "<IPython.core.display.HTML object>"
            ]
          },
          "metadata": {},
          "output_type": "display_data"
        },
        {
          "data": {
            "text/html": [
              "\n",
              "        <script>\n",
              "        \n",
              "        function captureEnter(event) {\n",
              "            if (event.key === 'Enter' && !event.shiftKey) {\n",
              "                event.preventDefault();\n",
              "                document.getElementById('send-button').click();\n",
              "                return false;\n",
              "            }\n",
              "            return true;\n",
              "        }\n",
              "        \n",
              "        setTimeout(function() {\n",
              "            var textareas = document.getElementsByClassName('jupyter-widgets-output-area')[0]\n",
              "                            .getElementsByTagName('textarea');\n",
              "            if (textareas.length > 0) {\n",
              "                var textarea = textareas[textareas.length-1];\n",
              "                textarea.addEventListener('keydown', captureEnter);\n",
              "            }\n",
              "        }, 1000);\n",
              "        \n",
              "        </script>\n",
              "        "
            ],
            "text/plain": [
              "<IPython.core.display.HTML object>"
            ]
          },
          "metadata": {},
          "output_type": "display_data"
        },
        {
          "data": {
            "application/vnd.jupyter.widget-view+json": {
              "model_id": "b8f86863b2554fcc97393180d978ff08",
              "version_major": 2,
              "version_minor": 0
            },
            "text/plain": [
              "HBox(children=(Output(),), layout=Layout(display='inline-flex', flex_flow='column-reverse', max_height='500px'…"
            ]
          },
          "metadata": {},
          "output_type": "display_data"
        },
        {
          "data": {
            "application/vnd.jupyter.widget-view+json": {
              "model_id": "4de5359a0c754b2980aaeae4c20bcbc6",
              "version_major": 2,
              "version_minor": 0
            },
            "text/plain": [
              "Box(children=(HTML(value='Loading...', layout=Layout(display='none')), Textarea(value='', continuous_update=Fa…"
            ]
          },
          "metadata": {},
          "output_type": "display_data"
        },
        {
          "data": {
            "text/html": [
              "\n",
              "        <script>\n",
              "        document.querySelector(\".jupyter-button:last-child\").id = \"send-button\";\n",
              "        </script>\n",
              "        "
            ],
            "text/plain": [
              "<IPython.core.display.HTML object>"
            ]
          },
          "metadata": {},
          "output_type": "display_data"
        }
      ],
      "source": [
        "from baml_agents import ChatMessage, JupyterChatWidget\n",
        "\n",
        "\n",
        "async def callback(chat_history):\n",
        "    msg = ChatMessage(\n",
        "        content=f\"I'm seeing {len(chat_history)} messages\",\n",
        "        role=\"assistant\",\n",
        "    )\n",
        "    return [msg]\n",
        "\n",
        "\n",
        "JupyterChatWidget(callback).display()"
      ]
    },
    {
      "cell_type": "markdown",
      "metadata": {},
      "source": [
        "![Image](https://github.com/user-attachments/assets/df46af62-97e5-42d6-8def-91762a46e432)"
      ]
    },
    {
      "cell_type": "markdown",
      "metadata": {},
      "source": [
        "You can also pre-fill chat:"
      ]
    },
    {
      "cell_type": "code",
      "execution_count": 8,
      "metadata": {},
      "outputs": [
        {
          "data": {
            "text/html": [
              "\n",
              "        <link rel=\"stylesheet\" \n",
              "              href=\"https://cdn.jsdelivr.net/npm/bootstrap@4.5.3/dist/css/bootstrap.min.css\" \n",
              "              integrity=\"sha384-TX8t27EcRE3e/ihU7zmQxVncDAy5uIKz4rEkgIXeMed4M0jlfIDPvg6uqKI2xXr2\" \n",
              "              crossorigin=\"anonymous\">\n",
              "        <style>\n",
              "            body{margin-top:20px;}\n",
              "\n",
              "            .chat-message-left,\n",
              "            .chat-message-right {\n",
              "                display: flex;\n",
              "                flex-shrink: 0\n",
              "            }\n",
              "\n",
              "            .chat-message-left {\n",
              "                margin-right: auto\n",
              "            }\n",
              "\n",
              "            .chat-message-right {\n",
              "                flex-direction: row-reverse;\n",
              "                margin-left: auto\n",
              "            }\n",
              "            \n",
              "            .time-stamp {\n",
              "                margin-left: 10px;\n",
              "                margin-right: 10px;\n",
              "                align-self: flex-end;\n",
              "            }\n",
              "            \n",
              "            /* Make the textarea more responsive to copy/paste */\n",
              "            .jupyter-widgets textarea {\n",
              "                font-family: inherit;\n",
              "                line-height: normal;\n",
              "                resize: none;\n",
              "                padding: 8px;\n",
              "            }\n",
              "        </style>\n",
              "        "
            ],
            "text/plain": [
              "<IPython.core.display.HTML object>"
            ]
          },
          "metadata": {},
          "output_type": "display_data"
        },
        {
          "data": {
            "text/html": [
              "\n",
              "        <script>\n",
              "        \n",
              "        function captureEnter(event) {\n",
              "            if (event.key === 'Enter' && !event.shiftKey) {\n",
              "                event.preventDefault();\n",
              "                document.getElementById('send-button').click();\n",
              "                return false;\n",
              "            }\n",
              "            return true;\n",
              "        }\n",
              "        \n",
              "        setTimeout(function() {\n",
              "            var textareas = document.getElementsByClassName('jupyter-widgets-output-area')[0]\n",
              "                            .getElementsByTagName('textarea');\n",
              "            if (textareas.length > 0) {\n",
              "                var textarea = textareas[textareas.length-1];\n",
              "                textarea.addEventListener('keydown', captureEnter);\n",
              "            }\n",
              "        }, 1000);\n",
              "        \n",
              "        </script>\n",
              "        "
            ],
            "text/plain": [
              "<IPython.core.display.HTML object>"
            ]
          },
          "metadata": {},
          "output_type": "display_data"
        },
        {
          "data": {
            "application/vnd.jupyter.widget-view+json": {
              "model_id": "d5c361bc064a4faaafacb7394509c1c8",
              "version_major": 2,
              "version_minor": 0
            },
            "text/plain": [
              "HBox(children=(Output(outputs=({'output_type': 'display_data', 'data': {'text/plain': '<IPython.core.display.H…"
            ]
          },
          "metadata": {},
          "output_type": "display_data"
        },
        {
          "data": {
            "application/vnd.jupyter.widget-view+json": {
              "model_id": "c33060810dff40839efe15c6605025ec",
              "version_major": 2,
              "version_minor": 0
            },
            "text/plain": [
              "Box(children=(HTML(value='Loading...', layout=Layout(display='none')), Textarea(value='', continuous_update=Fa…"
            ]
          },
          "metadata": {},
          "output_type": "display_data"
        },
        {
          "data": {
            "text/html": [
              "\n",
              "        <script>\n",
              "        document.querySelector(\".jupyter-button:last-child\").id = \"send-button\";\n",
              "        </script>\n",
              "        "
            ],
            "text/plain": [
              "<IPython.core.display.HTML object>"
            ]
          },
          "metadata": {},
          "output_type": "display_data"
        }
      ],
      "source": [
        "chat_history = [\n",
        "    ChatMessage(\n",
        "        content=\"Hey\",\n",
        "        role=\"user\",\n",
        "    ),\n",
        "    ChatMessage(\n",
        "        content=\"Hello\",\n",
        "        role=\"assistant\",\n",
        "    ),\n",
        "]\n",
        "\n",
        "JupyterChatWidget(callback, chat_history=chat_history).display()"
      ]
    },
    {
      "cell_type": "markdown",
      "metadata": {},
      "source": [
        "You can also invoke the callback automatically:"
      ]
    },
    {
      "cell_type": "code",
      "execution_count": 9,
      "metadata": {},
      "outputs": [
        {
          "data": {
            "text/html": [
              "\n",
              "        <link rel=\"stylesheet\" \n",
              "              href=\"https://cdn.jsdelivr.net/npm/bootstrap@4.5.3/dist/css/bootstrap.min.css\" \n",
              "              integrity=\"sha384-TX8t27EcRE3e/ihU7zmQxVncDAy5uIKz4rEkgIXeMed4M0jlfIDPvg6uqKI2xXr2\" \n",
              "              crossorigin=\"anonymous\">\n",
              "        <style>\n",
              "            body{margin-top:20px;}\n",
              "\n",
              "            .chat-message-left,\n",
              "            .chat-message-right {\n",
              "                display: flex;\n",
              "                flex-shrink: 0\n",
              "            }\n",
              "\n",
              "            .chat-message-left {\n",
              "                margin-right: auto\n",
              "            }\n",
              "\n",
              "            .chat-message-right {\n",
              "                flex-direction: row-reverse;\n",
              "                margin-left: auto\n",
              "            }\n",
              "            \n",
              "            .time-stamp {\n",
              "                margin-left: 10px;\n",
              "                margin-right: 10px;\n",
              "                align-self: flex-end;\n",
              "            }\n",
              "            \n",
              "            /* Make the textarea more responsive to copy/paste */\n",
              "            .jupyter-widgets textarea {\n",
              "                font-family: inherit;\n",
              "                line-height: normal;\n",
              "                resize: none;\n",
              "                padding: 8px;\n",
              "            }\n",
              "        </style>\n",
              "        "
            ],
            "text/plain": [
              "<IPython.core.display.HTML object>"
            ]
          },
          "metadata": {},
          "output_type": "display_data"
        },
        {
          "data": {
            "text/html": [
              "\n",
              "        <script>\n",
              "        \n",
              "        function captureEnter(event) {\n",
              "            if (event.key === 'Enter' && !event.shiftKey) {\n",
              "                event.preventDefault();\n",
              "                document.getElementById('send-button').click();\n",
              "                return false;\n",
              "            }\n",
              "            return true;\n",
              "        }\n",
              "        \n",
              "        setTimeout(function() {\n",
              "            var textareas = document.getElementsByClassName('jupyter-widgets-output-area')[0]\n",
              "                            .getElementsByTagName('textarea');\n",
              "            if (textareas.length > 0) {\n",
              "                var textarea = textareas[textareas.length-1];\n",
              "                textarea.addEventListener('keydown', captureEnter);\n",
              "            }\n",
              "        }, 1000);\n",
              "        \n",
              "        </script>\n",
              "        "
            ],
            "text/plain": [
              "<IPython.core.display.HTML object>"
            ]
          },
          "metadata": {},
          "output_type": "display_data"
        },
        {
          "data": {
            "application/vnd.jupyter.widget-view+json": {
              "model_id": "1fa57466315d4f2ba68d13fea4f44105",
              "version_major": 2,
              "version_minor": 0
            },
            "text/plain": [
              "HBox(children=(Output(),), layout=Layout(display='inline-flex', flex_flow='column-reverse', max_height='500px'…"
            ]
          },
          "metadata": {},
          "output_type": "display_data"
        },
        {
          "data": {
            "application/vnd.jupyter.widget-view+json": {
              "model_id": "ba2b34bb151c4f6eb48761c6928a5766",
              "version_major": 2,
              "version_minor": 0
            },
            "text/plain": [
              "Box(children=(HTML(value='Loading...', layout=Layout(display='none')), Textarea(value='', continuous_update=Fa…"
            ]
          },
          "metadata": {},
          "output_type": "display_data"
        },
        {
          "data": {
            "text/html": [
              "\n",
              "        <script>\n",
              "        document.querySelector(\".jupyter-button:last-child\").id = \"send-button\";\n",
              "        </script>\n",
              "        "
            ],
            "text/plain": [
              "<IPython.core.display.HTML object>"
            ]
          },
          "metadata": {},
          "output_type": "display_data"
        },
        {
          "data": {
            "text/html": [
              "\n",
              "        <script>\n",
              "        document.querySelector(\".jupyter-widgets textarea:last-of-type\").focus();\n",
              "        </script>\n",
              "        "
            ],
            "text/plain": [
              "<IPython.core.display.HTML object>"
            ]
          },
          "metadata": {},
          "output_type": "display_data"
        }
      ],
      "source": [
        "chat = JupyterChatWidget(callback)\n",
        "await chat.run(\"It's a beautiful day\")\n",
        "# Callback is being run automatically on startup to respond to the \"It's a beautiful day\" message"
      ]
    }
  ],
  "metadata": {
    "kernelspec": {
      "display_name": ".venv",
      "language": "python",
      "name": "python3"
    },
    "language_info": {
      "codemirror_mode": {
        "name": "ipython",
        "version": 3
      },
      "file_extension": ".py",
      "mimetype": "text/x-python",
      "name": "python",
      "nbconvert_exporter": "python",
      "pygments_lexer": "ipython3",
      "version": "3.13.0"
    }
  },
  "nbformat": 4,
  "nbformat_minor": 2
}
