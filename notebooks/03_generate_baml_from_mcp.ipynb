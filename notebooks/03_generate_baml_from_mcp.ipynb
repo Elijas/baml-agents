{
 "cells": [
  {
   "cell_type": "code",
   "execution_count": 1,
   "metadata": {},
   "outputs": [
    {
     "data": {
      "text/plain": [
       "True"
      ]
     },
     "execution_count": 1,
     "metadata": {},
     "output_type": "execute_result"
    }
   ],
   "source": [
    "import json\n",
    "from pprint import pprint\n",
    "\n",
    "import jupyter_black\n",
    "from dotenv import load_dotenv\n",
    "\n",
    "from baml_agents.utils import BamlGenerator\n",
    "from notebooks._utils import filter_tools_by_name, run_cli_command\n",
    "\n",
    "jupyter_black.load()  # Python linter\n",
    "load_dotenv()"
   ]
  },
  {
   "cell_type": "markdown",
   "metadata": {},
   "source": [
    "# Automatically generate BAML class definitions from MCP servers"
   ]
  },
  {
   "cell_type": "markdown",
   "metadata": {},
   "source": [
    "### Prerequisites\n",
    "\n",
    "We'll use the `mcpt` command-line interface to interact with MCP servers. It functions much like `curl`, allowing us to query the servers easily.\n",
    "\n",
    "- Install it from here: [github.com/f/mcptools](https://github.com/f/mcptools)"
   ]
  },
  {
   "cell_type": "markdown",
   "metadata": {},
   "source": [
    "### Showing around the MCP Server\n",
    "\n",
    "Let's see all available tools on the `uvx mcp-server-calculator` [MCP server](https://github.com/githejie/mcp-server-calculator). Server will be downloaded as a python package by `uvx` and run locally until we get the data we need."
   ]
  },
  {
   "cell_type": "code",
   "execution_count": 2,
   "metadata": {},
   "outputs": [
    {
     "name": "stdout",
     "output_type": "stream",
     "text": [
      "\u001b[1m\u001b[36mcalculate\u001b[0m(\u001b[32mexpression:str\u001b[0m)\n",
      "     \u001b[37mCalculates/evaluates the given expression.\u001b[0m\n",
      "\n"
     ]
    }
   ],
   "source": [
    "# Show all the tools in the server\n",
    "!mcpt tools uvx mcp-server-calculator"
   ]
  },
  {
   "cell_type": "markdown",
   "metadata": {},
   "source": [
    "Run the `calculate` tool:"
   ]
  },
  {
   "cell_type": "code",
   "execution_count": 3,
   "metadata": {},
   "outputs": [
    {
     "name": "stdout",
     "output_type": "stream",
     "text": [
      "\u001b[37m246.8\u001b[0m\n"
     ]
    }
   ],
   "source": [
    "# Use the calculator tool\n",
    "!mcpt call calculate -p '{\"expression\": \"123.4 * 2\"}' uvx mcp-server-calculator"
   ]
  },
  {
   "cell_type": "markdown",
   "metadata": {},
   "source": [
    "### Generating BAML code from MCP Tools Schema"
   ]
  },
  {
   "cell_type": "markdown",
   "metadata": {},
   "source": [
    "Let's get the `calculate` MCP Tool schema from the `uvx mcp-server-calculator` MCP Server"
   ]
  },
  {
   "cell_type": "code",
   "execution_count": 4,
   "metadata": {},
   "outputs": [
    {
     "name": "stdout",
     "output_type": "stream",
     "text": [
      "{'tools': [{'description': 'Calculates/evaluates the given expression.',\n",
      "            'inputSchema': {'properties': {'expression': {'title': 'Expression',\n",
      "                                                          'type': 'string'}},\n",
      "                            'required': ['expression'],\n",
      "                            'title': 'calculateArguments',\n",
      "                            'type': 'object'},\n",
      "            'name': 'calculate'}]}\n"
     ]
    }
   ],
   "source": [
    "mcp_server = \"uvx mcp-server-calculator\"\n",
    "mcp_tools_schema = run_cli_command(f\"mcpt tools --format json {mcp_server}\")\n",
    "parsed_schema = json.loads(mcp_tools_schema)\n",
    "pprint(parsed_schema)"
   ]
  },
  {
   "cell_type": "markdown",
   "metadata": {},
   "source": [
    "Then, generate BAML:"
   ]
  },
  {
   "cell_type": "code",
   "execution_count": 5,
   "metadata": {},
   "outputs": [
    {
     "name": "stdout",
     "output_type": "stream",
     "text": [
      "class Calculatearguments {\n",
      "  expression string\n",
      "}\n",
      "\n",
      "class CalculateTool {\n",
      "  name \"calculate\" @description(#\"Calculates/evaluates the given expression.\"#)\n",
      "  arguments CalculateArguments\n",
      "}\n"
     ]
    }
   ],
   "source": [
    "print(BamlGenerator().from_mcp_tools_schema(parsed_schema))"
   ]
  },
  {
   "cell_type": "markdown",
   "metadata": {},
   "source": [
    "Note: You can fully customize the produced BAML code:"
   ]
  },
  {
   "cell_type": "code",
   "execution_count": 6,
   "metadata": {},
   "outputs": [
    {
     "name": "stdout",
     "output_type": "stream",
     "text": [
      "class Paramsaaacalculateaction {\n",
      "  expression string @alias(\"Expression\")\n",
      "}\n",
      "\n",
      "class CalculateAction {\n",
      "  mcp_tool_id \"calculate\" @alias(\"name\")\n",
      "  params ParamsAAACalculateAction\n",
      "}\n"
     ]
    }
   ],
   "source": [
    "gen = BamlGenerator(\n",
    "    tool_name_field=\"mcp_tool_id\",\n",
    "    tool_args_field=\"params\",\n",
    "    tool_name=lambda name, **_: name,\n",
    "    args_class=lambda name, **_: f\"ParamsAAA{name.capitalize()}Action\",\n",
    "    tool_class=lambda name, **_: f\"{name.capitalize()}Action\",\n",
    "    description=lambda **_: \"\",  # Making it empty will remove it\n",
    "    alias=lambda name, schema, place, **_: (\n",
    "        schema.get(\"title\", name) if place == \"property\" else \"name\"\n",
    "    ),\n",
    "    prop_name=lambda name, **_: name,\n",
    ")\n",
    "print(gen.from_mcp_tools_schema(parsed_schema))"
   ]
  },
  {
   "cell_type": "markdown",
   "metadata": {},
   "source": [
    "Let's invoke the tool:"
   ]
  },
  {
   "cell_type": "code",
   "execution_count": 7,
   "metadata": {},
   "outputs": [
    {
     "data": {
      "text/plain": [
       "CalculateAction(mcp_tool_id='calculate', params=ParamsCalculateAction(expression='2 + 3 + 5'))"
      ]
     },
     "execution_count": 7,
     "metadata": {},
     "output_type": "execute_result"
    }
   ],
   "source": [
    "from baml_client import b\n",
    "from baml_client.types import CalculateAction\n",
    "\n",
    "goal = \"add first three prime numbers\"\n",
    "action: CalculateAction = b.GetCalculateAction(goal)\n",
    "action"
   ]
  },
  {
   "cell_type": "code",
   "execution_count": 8,
   "metadata": {},
   "outputs": [
    {
     "name": "stdout",
     "output_type": "stream",
     "text": [
      "Running cli command:\n",
      "> mcpt call calculate -p '{\"expression\":\"2 + 3 + 5\"}' uvx mcp-server-calculator\n"
     ]
    },
    {
     "data": {
      "text/plain": [
       "'10'"
      ]
     },
     "execution_count": 8,
     "metadata": {},
     "output_type": "execute_result"
    }
   ],
   "source": [
    "params = action.params.model_dump_json()\n",
    "command = f\"mcpt call {action.mcp_tool_id} -p '{params}' {mcp_server}\"\n",
    "print(f\"Running cli command:\\n> {command}\")\n",
    "run_cli_command(command)"
   ]
  },
  {
   "cell_type": "markdown",
   "metadata": {},
   "source": [
    "### Generating BAML code from MCP Tools Schema"
   ]
  },
  {
   "cell_type": "markdown",
   "metadata": {},
   "source": [
    "Step 1: Choose an MCP Server to use (provide its URL or the command to run it)"
   ]
  },
  {
   "cell_type": "code",
   "execution_count": 9,
   "metadata": {},
   "outputs": [],
   "source": [
    "mcp_server = \"uvx arxiv-mcp-server\""
   ]
  },
  {
   "cell_type": "markdown",
   "metadata": {},
   "source": [
    "Step 2: BAML types are automatically generated for all the tools in the server:"
   ]
  },
  {
   "cell_type": "code",
   "execution_count": 10,
   "metadata": {},
   "outputs": [
    {
     "data": {
      "text/plain": [
       "{'tools': [{'description': 'Search for papers on arXiv with advanced filtering',\n",
       "   'inputSchema': {'properties': {'categories': {'items': {'type': 'string'},\n",
       "      'type': 'array'},\n",
       "     'date_from': {'type': 'string'},\n",
       "     'date_to': {'type': 'string'},\n",
       "     'max_results': {'type': 'integer'},\n",
       "     'query': {'type': 'string'}},\n",
       "    'required': ['query'],\n",
       "    'type': 'object'},\n",
       "   'name': 'search_papers'}]}"
      ]
     },
     "execution_count": 10,
     "metadata": {},
     "output_type": "execute_result"
    }
   ],
   "source": [
    "tools_schema = run_cli_command(f\"mcpt tools --format json {mcp_server}\")\n",
    "tools_schema = filter_tools_by_name(tools_schema, \"search_papers\")\n",
    "tools_schema"
   ]
  },
  {
   "cell_type": "code",
   "execution_count": 11,
   "metadata": {},
   "outputs": [
    {
     "name": "stdout",
     "output_type": "stream",
     "text": [
      "class Searchpapersarguments {\n",
      "  query string\n",
      "  categories string?[]\n",
      "  date_from string?\n",
      "  date_to string?\n",
      "  max_results int?\n",
      "}\n",
      "\n",
      "class SearchPapersTool {\n",
      "  name \"search_papers\" @description(#\"Search for papers on arXiv with advanced filtering\"#)\n",
      "  arguments SearchPapersArguments\n",
      "}\n"
     ]
    }
   ],
   "source": [
    "print(BamlGenerator().from_mcp_tools_schema(tools_schema))"
   ]
  },
  {
   "cell_type": "markdown",
   "metadata": {},
   "source": [
    "Step 3: Copy the generated BAML code to baml_src, create a new BAML function and run it"
   ]
  },
  {
   "cell_type": "code",
   "execution_count": 12,
   "metadata": {},
   "outputs": [
    {
     "data": {
      "text/plain": [
       "SearchStoriesTool(name='search_stories', arguments=SearchStoriesArguments(query='how to build a website no coding experience', num_results=10, search_by_date=False))"
      ]
     },
     "execution_count": 12,
     "metadata": {},
     "output_type": "execute_result"
    }
   ],
   "source": [
    "from baml_client import b\n",
    "\n",
    "goal = \"want to build a site but never coded before\"\n",
    "tool = b.GetSearchStoriesTool(goal)\n",
    "tool"
   ]
  },
  {
   "cell_type": "code",
   "execution_count": 13,
   "metadata": {},
   "outputs": [
    {
     "name": "stdout",
     "output_type": "stream",
     "text": [
      "mcpt call search_stories -p '{\"query\":\"how to build a website no coding experience\",\"num_results\":10,\"search_by_date\":false}' uvx arxiv-mcp-server\n"
     ]
    }
   ],
   "source": [
    "command = f\"mcpt call {tool.name} -p '{tool.arguments.model_dump_json()}' {mcp_server}\"\n",
    "print(command)"
   ]
  },
  {
   "cell_type": "code",
   "execution_count": 14,
   "metadata": {},
   "outputs": [
    {
     "name": "stdout",
     "output_type": "stream",
     "text": [
      "Running cli command:\n",
      "> mcpt call search_stories -p '{\"query\":\"how to build a website no coding experience\",\"num_results\":10,\"search_by_date\":false}' uvx arxiv-mcp-server\n",
      "Error: Unknown tool search_stories\n"
     ]
    }
   ],
   "source": [
    "result = run_cli_command(command)\n",
    "print(f\"Running cli command:\\n> {command}\\n{result}\")"
   ]
  },
  {
   "cell_type": "code",
   "execution_count": null,
   "metadata": {},
   "outputs": [],
   "source": []
  }
 ],
 "metadata": {
  "kernelspec": {
   "display_name": ".venv",
   "language": "python",
   "name": "python3"
  },
  "language_info": {
   "codemirror_mode": {
    "name": "ipython",
    "version": 3
   },
   "file_extension": ".py",
   "mimetype": "text/x-python",
   "name": "python",
   "nbconvert_exporter": "python",
   "pygments_lexer": "ipython3",
   "version": "3.13.0"
  }
 },
 "nbformat": 4,
 "nbformat_minor": 2
}
