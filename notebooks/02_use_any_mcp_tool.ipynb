{
 "cells": [
  {
   "cell_type": "code",
   "execution_count": 1,
   "metadata": {},
   "outputs": [],
   "source": [
    "import jupyter_black\n",
    "\n",
    "jupyter_black.load()  # Python linter"
   ]
  },
  {
   "cell_type": "markdown",
   "metadata": {},
   "source": [
    "# Automatically provide the LLM with the calculator tool"
   ]
  },
  {
   "cell_type": "code",
   "execution_count": 2,
   "metadata": {},
   "outputs": [
    {
     "name": "stdout",
     "output_type": "stream",
     "text": [
      "class ToolCall {\n",
      "    @@dynamic\n",
      "}\n",
      "\n",
      "function UseTool(goal: string, output_format_prefix: string) -> ToolCall {\n",
      "    client Default\n",
      "    prompt #\"\n",
      "        Solve: {{ goal }}\n",
      "\n",
      "        {{ ctx.output_format(prefix=output_format_prefix, or_splitter=\" OR \")}}\n",
      "    \"#\n",
      "}\n"
     ]
    }
   ],
   "source": [
    "%cat ../baml_src/02_use_tool.baml"
   ]
  },
  {
   "cell_type": "code",
   "execution_count": 3,
   "metadata": {},
   "outputs": [
    {
     "name": "stdout",
     "output_type": "stream",
     "text": [
      "[system]\n",
      "Solve: Multiply all numbers between 10 and 15\n",
      "\n",
      "What are the next steps?\n",
      "\n",
      "Answer in JSON format with one or multiple of the following intents\n",
      "\n",
      "{\n",
      "  intents: [\n",
      "    {\n",
      "      // Calculates/evaluates the given expression.\n",
      "      intent: \"calculate\",\n",
      "      expression: string,\n",
      "    }\n",
      "  ],\n",
      "}\n"
     ]
    }
   ],
   "source": [
    "from baml_agents import McpServers, view_prompt\n",
    "from pydantic_ai.mcp import MCPServerStdio\n",
    "\n",
    "from baml_client.type_builder import TypeBuilder\n",
    "from baml_client.async_client import b\n",
    "\n",
    "\n",
    "server_with_calculator_tool = MCPServerStdio(\n",
    "    command=\"python\",\n",
    "    args=[\"-m\", \"mcp_server_calculator\"],\n",
    ")\n",
    "\n",
    "async with McpServers([server_with_calculator_tool]) as server:\n",
    "    # Add MCP tools to the BAML structured output schema\n",
    "    tb, tool_runner, p = await server.build_tool_types(\n",
    "        tb := TypeBuilder(),\n",
    "        output_class=tb.ToolCall,\n",
    "        tools=await server.list_tools(),\n",
    "    )\n",
    "\n",
    "    # View prompt\n",
    "    goal = \"Multiply all numbers between 10 and 15\"\n",
    "    request = await b.request.UseTool(goal, p, baml_options={\"tb\": tb})\n",
    "    print(view_prompt(request))\n",
    "\n",
    "    # LLM chooses the tools\n",
    "    result = await b.UseTool(goal, p, baml_options={\"tb\": tb})\n",
    "\n",
    "    # Run the tools\n",
    "    tool_results = await tool_runner.run(result)"
   ]
  },
  {
   "cell_type": "code",
   "execution_count": 4,
   "metadata": {},
   "outputs": [
    {
     "data": {
      "text/plain": [
       "ToolCall(intents=[{'intent': 'calculate', 'expression': '11 * 12 * 13 * 14'}])"
      ]
     },
     "execution_count": 4,
     "metadata": {},
     "output_type": "execute_result"
    }
   ],
   "source": [
    "result"
   ]
  },
  {
   "cell_type": "code",
   "execution_count": 5,
   "metadata": {},
   "outputs": [
    {
     "data": {
      "text/plain": [
       "[CallToolResult(meta=None, content=[TextContent(type='text', text='24024', annotations=None)], isError=False)]"
      ]
     },
     "execution_count": 5,
     "metadata": {},
     "output_type": "execute_result"
    }
   ],
   "source": [
    "tool_results"
   ]
  },
  {
   "cell_type": "markdown",
   "metadata": {},
   "source": [
    "## Prompt Customization example"
   ]
  },
  {
   "cell_type": "code",
   "execution_count": 6,
   "metadata": {},
   "outputs": [
    {
     "name": "stdout",
     "output_type": "stream",
     "text": [
      "[system]\n",
      "Solve: Multiply all numbers between 10 and 15\n",
      "\n",
      "What are the next steps?\n",
      "\n",
      "Answer in JSON format with one of the following tool_ids\n",
      "\n",
      "{\n",
      "  one_chosen_tool: {\n",
      "    // Calculates/evaluates the given expression.\n",
      "    tool_id: \"calculate\",\n",
      "    expression: string,\n",
      "  },\n",
      "}\n"
     ]
    }
   ],
   "source": [
    "from baml_agents import BamlToolPromptConfig\n",
    "\n",
    "\n",
    "prompt_cfg = BamlToolPromptConfig(\n",
    "    id_field=\"tool_id\",\n",
    "    tools_field=\"one_chosen_tool\",\n",
    "    can_select_many=False,  # Removes list relationship between tools\n",
    ")\n",
    "\n",
    "async with McpServers([server_with_calculator_tool]) as server:\n",
    "    # Add MCP tools to the BAML structured output schema\n",
    "    tb, tool_runner, p = await server.build_tool_types(\n",
    "        tb := TypeBuilder(),\n",
    "        output_class=tb.ToolCall,\n",
    "        prompt_cfg=prompt_cfg,\n",
    "    )\n",
    "\n",
    "    # View prompt\n",
    "    goal = \"Multiply all numbers between 10 and 15\"\n",
    "    request = await b.request.UseTool(goal, p, baml_options={\"tb\": tb})\n",
    "    print(view_prompt(request))"
   ]
  }
 ],
 "metadata": {
  "kernelspec": {
   "display_name": ".venv",
   "language": "python",
   "name": "python3"
  },
  "language_info": {
   "codemirror_mode": {
    "name": "ipython",
    "version": 3
   },
   "file_extension": ".py",
   "mimetype": "text/x-python",
   "name": "python",
   "nbconvert_exporter": "python",
   "pygments_lexer": "ipython3",
   "version": "3.13.0"
  }
 },
 "nbformat": 4,
 "nbformat_minor": 2
}
