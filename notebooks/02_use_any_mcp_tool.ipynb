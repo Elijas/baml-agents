{
 "cells": [
  {
   "cell_type": "code",
   "execution_count": 7,
   "metadata": {},
   "outputs": [],
   "source": [
    "import jupyter_black\n",
    "\n",
    "jupyter_black.load()  # Python linter"
   ]
  },
  {
   "cell_type": "markdown",
   "metadata": {},
   "source": [
    "# Automatically provide the LLM with the calculator tool"
   ]
  },
  {
   "cell_type": "code",
   "execution_count": 8,
   "metadata": {},
   "outputs": [
    {
     "name": "stdout",
     "output_type": "stream",
     "text": [
      "class ToolCall {\n",
      "    @@dynamic\n",
      "}\n",
      "\n",
      "function UseTool(goal: string, output_format_prefix: string) -> ToolCall {\n",
      "    client Default\n",
      "    prompt #\"\n",
      "        Solve: {{ goal }}\n",
      "\n",
      "        {{ ctx.output_format(prefix=output_format_prefix, or_splitter=\" OR \")}}\n",
      "    \"#\n",
      "}\n"
     ]
    }
   ],
   "source": [
    "%cat ../baml_src/02_use_tool.baml"
   ]
  },
  {
   "cell_type": "code",
   "execution_count": 10,
   "metadata": {},
   "outputs": [],
   "source": [
    "from baml_agents import McpServers, view_prompt\n",
    "from pydantic_ai.mcp import MCPServerStdio\n",
    "\n",
    "from baml_client.type_builder import TypeBuilder\n",
    "from baml_client.async_client import b\n",
    "\n",
    "server_with_calculator_tool = McpServers(\n",
    "    [\n",
    "        MCPServerStdio(\n",
    "            command=\"python\",\n",
    "            args=[\"-m\", \"mcp-server-calculator\"],\n",
    "        )\n",
    "    ]\n",
    ")"
   ]
  },
  {
   "cell_type": "code",
   "execution_count": null,
   "metadata": {},
   "outputs": [],
   "source": [
    "async with server_with_calculator_tool as server:\n",
    "    # Add MCP tools to the BAML structured output schema\n",
    "    tb, tool_runner, p = await server.build_tool_types(\n",
    "        tb := TypeBuilder(),\n",
    "        output_class=tb.ToolCall,\n",
    "        tools=await server.list_tools(),\n",
    "    )\n",
    "\n",
    "    # View prompt\n",
    "    goal = \"Multiply all numbers between 10 and 15\"\n",
    "    request = await b.request.UseTool(goal, p, baml_options={\"tb\": tb})\n",
    "    print(view_prompt(request))\n",
    "\n",
    "    # LLM chooses the tools\n",
    "    result = await b.UseTool(goal, p, baml_options={\"tb\": tb})\n",
    "\n",
    "    # Run the tools\n",
    "    tool_results = await tool_runner.run(result)"
   ]
  },
  {
   "cell_type": "code",
   "execution_count": 4,
   "metadata": {},
   "outputs": [
    {
     "data": {
      "text/plain": [
       "ToolCall(intents=[{'intent': 'calculate', 'expression': '11 * 12 * 13 * 14'}])"
      ]
     },
     "execution_count": 4,
     "metadata": {},
     "output_type": "execute_result"
    }
   ],
   "source": [
    "result"
   ]
  },
  {
   "cell_type": "code",
   "execution_count": 5,
   "metadata": {},
   "outputs": [
    {
     "data": {
      "text/plain": [
       "[CallToolResult(meta=None, content=[TextContent(type='text', text='24024', annotations=None)], isError=False)]"
      ]
     },
     "execution_count": 5,
     "metadata": {},
     "output_type": "execute_result"
    }
   ],
   "source": [
    "tool_results"
   ]
  }
 ],
 "metadata": {
  "kernelspec": {
   "display_name": ".venv",
   "language": "python",
   "name": "python3"
  },
  "language_info": {
   "codemirror_mode": {
    "name": "ipython",
    "version": 3
   },
   "file_extension": ".py",
   "mimetype": "text/x-python",
   "name": "python",
   "nbconvert_exporter": "python",
   "pygments_lexer": "ipython3",
   "version": "3.13.0"
  }
 },
 "nbformat": 4,
 "nbformat_minor": 2
}
