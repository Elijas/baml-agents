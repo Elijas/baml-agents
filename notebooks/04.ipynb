{
  "cells": [
    {
      "cell_type": "code",
      "execution_count": 1,
      "metadata": {},
      "outputs": [],
      "source": [
        "import stackprinter  # type: ignore\n",
        "import jupyter_black  # type: ignore\n",
        "from dotenv import load_dotenv  # type: ignore\n",
        "import time\n",
        "\n",
        "from baml_agents import init_logging, with_model\n",
        "from baml_client.async_client import b\n",
        "\n",
        "init_logging()\n",
        "stackprinter.set_excepthook()\n",
        "load_dotenv()\n",
        "jupyter_black.load()\n",
        "\n",
        "b = with_model(b, \"gpt-4.1-nano\")"
      ]
    },
    {
      "cell_type": "markdown",
      "metadata": {},
      "source": [
        "# Using BAML in Jupyter notebokos\n",
        "\n",
        "## 1. Streaming outputs\n",
        "\n",
        "BAML offers a great developer experience, and I used some utilities to recreate some of the magic in Jupyter notebooks."
      ]
    },
    {
      "cell_type": "code",
      "execution_count": 2,
      "metadata": {},
      "outputs": [
        {
          "data": {
            "text/html": [
              "<pre id=\"stream-f583ff5e-2a25-4411-b990-03da0b5bd56b\">abcdefghijklmnopqrstuvwxyzabcdefghijklmnopqrstuvwxyzabcdefghijklmnopqrstuvwxyz</pre>"
            ]
          },
          "metadata": {},
          "output_type": "display_data"
        }
      ],
      "source": [
        "from baml_agents import JupyterOutputBox\n",
        "\n",
        "with JupyterOutputBox(clear_after_finish=False) as output_box:\n",
        "    s = \"\"\n",
        "    for c in \"abcdefghijklmnopqrstuvwxyz\" * 3:\n",
        "        s += c\n",
        "        output_box.update(s)\n",
        "        time.sleep(0.008)\n",
        "\n",
        "# The letters are generated and displayed as they are being generated."
      ]
    },
    {
      "cell_type": "code",
      "execution_count": 3,
      "metadata": {},
      "outputs": [
        {
          "data": {
            "text/html": [
              "<pre id=\"stream-a4a1f31d-3dd9-4ed6-8430-c3e31ebe866b\">{\n",
              "    \"genre\": \"Fantasy\",\n",
              "    \"characters\": [\n",
              "        {\n",
              "            \"name\": \"Lina\",\n",
              "            \"age\": 17,\n",
              "            \"occupation\": \"Apprentice Mage\"\n",
              "        },\n",
              "        {\n",
              "            \"name\": \"Eldon\",\n",
              "            \"age\": 45,\n",
              "            \"occupation\": \"Ancient Wizard\"\n",
              "        }\n",
              "    ],\n",
              "    \"story_summary\": \"Lina discovers Eldon's hidden library beneath the old forest, unlocking magic to save her village from a looming darkness, forging her destiny as a true mage.\"\n",
              "}</pre>"
            ]
          },
          "metadata": {},
          "output_type": "display_data"
        }
      ],
      "source": [
        "from baml_agents import JupyterBamlCollector\n",
        "\n",
        "with JupyterOutputBox(clear_after_finish=False) as s:\n",
        "    c = JupyterBamlCollector(b, stream_callback=s.display(formatter=\"json\"))\n",
        "    await c.b.InteractiveBamlJupyter_WriteShortStory()"
      ]
    },
    {
      "cell_type": "markdown",
      "metadata": {},
      "source": [
        "![Image](https://github.com/user-attachments/assets/ca21b62a-48b7-4a16-99fa-20bbe61f68b2)"
      ]
    },
    {
      "cell_type": "markdown",
      "metadata": {},
      "source": [
        "## 2. Inspecting prompts and completions"
      ]
    },
    {
      "cell_type": "code",
      "execution_count": 7,
      "metadata": {},
      "outputs": [
        {
          "data": {
            "text/html": [
              "\n",
              "            <button type=\"button\" onclick=\"toggle_text_EiLuVQPvLl()\">Prompt | messages=1 | 0.05$/1k | 1.50s | gpt-4.1-nano</button>\n",
              "            <div id=\"collapsible_text_EiLuVQPvLl\" style=\"display:none;\">\n",
              "                <p><pre id=\"jsonOutput\">[system]</br>Write a short story about anything  Answer in JSON using this schema:</br>{</br>  genre: string,</br>  // at least three characters</br>  characters: [</br>    {</br>      name: string,</br>      age: int,</br>      occupation: string,</br>    }</br>  ],</br>  // Short story excerpt about anything, 30 words</br>  story_summary: string,</br>}</pre></p>\n",
              "            </div>\n",
              "\n",
              "            <script>\n",
              "            function toggle_text_EiLuVQPvLl() {\n",
              "                var collapsible_text = document.getElementById(\"collapsible_text_EiLuVQPvLl\");\n",
              "                if (collapsible_text.style.display === \"none\") {\n",
              "                    collapsible_text.style.display = \"block\";\n",
              "                } else {\n",
              "                    collapsible_text.style.display = \"none\";\n",
              "                }\n",
              "            }\n",
              "            </script>"
            ],
            "text/plain": [
              "<IPython.core.display.HTML object>"
            ]
          },
          "metadata": {},
          "output_type": "display_data"
        },
        {
          "data": {
            "text/html": [
              "\n",
              "            <button type=\"button\" onclick=\"toggle_text_EPmoikrqyG()\">Completion | 0.05$/1k | 1.50s | gpt-4.1-nano</button>\n",
              "            <div id=\"collapsible_text_EPmoikrqyG\" style=\"display:none;\">\n",
              "                <p><pre id=\"jsonOutput\">{</br>  &quot;genre&quot;: &quot;Fantasy&quot;,</br>  &quot;characters&quot;: [</br>    {</br>      &quot;name&quot;: &quot;Lina&quot;,</br>      &quot;age&quot;: 17,</br>      &quot;occupation&quot;: &quot;Apprentice Mage&quot;</br>    },</br>    {</br>      &quot;name&quot;: &quot;Eldon&quot;,</br>      &quot;age&quot;: 45,</br>      &quot;occupation&quot;: &quot;Ancient Wizard&quot;</br>    }</br>  ],</br>  &quot;story_summary&quot;: &quot;Lina discovers Eldon&#x27;s hidden library beneath the old forest, unlocking magic to save her village from a looming darkness, forging her destiny as a true mage.&quot;</br>}</pre></p>\n",
              "            </div>\n",
              "\n",
              "            <script>\n",
              "            function toggle_text_EPmoikrqyG() {\n",
              "                var collapsible_text = document.getElementById(\"collapsible_text_EPmoikrqyG\");\n",
              "                if (collapsible_text.style.display === \"none\") {\n",
              "                    collapsible_text.style.display = \"block\";\n",
              "                } else {\n",
              "                    collapsible_text.style.display = \"none\";\n",
              "                }\n",
              "            }\n",
              "            </script>"
            ],
            "text/plain": [
              "<IPython.core.display.HTML object>"
            ]
          },
          "metadata": {},
          "output_type": "display_data"
        }
      ],
      "source": [
        "await c.display_calls()"
      ]
    },
    {
      "cell_type": "markdown",
      "metadata": {},
      "source": [
        "![Image](https://github.com/user-attachments/assets/59ed3cf3-84df-45a3-bf18-44dfbc457e4e)"
      ]
    },
    {
      "cell_type": "markdown",
      "metadata": {},
      "source": [
        "You can also group prompts and completions by LLM call and by LLM call session:"
      ]
    },
    {
      "cell_type": "code",
      "execution_count": 10,
      "metadata": {},
      "outputs": [
        {
          "data": {
            "text/html": [
              "\n",
              "            <button type=\"button\" onclick=\"toggle_text_zrWVZYzXBk()\">Story generation session, Cost: 0.13$/1k | 2.63s | gpt-4.1-nano</button>\n",
              "            <div id=\"collapsible_text_zrWVZYzXBk\" style=\"display:none;\">\n",
              "                \n",
              "                        <div style=\"margin-left: 20px;\">\n",
              "                            <button type=\"button\" onclick=\"toggle_text_orzymRHMOx()\">1 | Prompt | messages=1 | 0.06$/1k | 0.99s | gpt-4.1-nano</button>\n",
              "                            <div id=\"collapsible_text_orzymRHMOx\" style=\"display:none;\">\n",
              "                                <p><pre id=\"jsonOutput\">[system]</br>Write a short story about anything  Answer in JSON using this schema:</br>{</br>  genre: string,</br>  // at least three characters</br>  characters: [</br>    {</br>      name: string,</br>      age: int,</br>      occupation: string,</br>    }</br>  ],</br>  // Short story excerpt about anything, 30 words</br>  story_summary: string,</br>}</pre></p>\n",
              "                            </div>\n",
              "                        </div>\n",
              "                        <script>\n",
              "                        function toggle_text_orzymRHMOx() {\n",
              "                            var collapsible_text = document.getElementById(\"collapsible_text_orzymRHMOx\");\n",
              "                            if (collapsible_text.style.display === \"none\") {\n",
              "                                collapsible_text.style.display = \"block\";\n",
              "                            } else {\n",
              "                                collapsible_text.style.display = \"none\";\n",
              "                            }\n",
              "                        }\n",
              "                        </script>\n",
              "                    \n",
              "                        <div style=\"margin-left: 20px;\">\n",
              "                            <button type=\"button\" onclick=\"toggle_text_vWyfXXQXtq()\">1 | Completion</button>\n",
              "                            <div id=\"collapsible_text_vWyfXXQXtq\" style=\"display:none;\">\n",
              "                                <p><pre id=\"jsonOutput\">{</br>  &quot;genre&quot;: &quot;fantasy&quot;,</br>  &quot;characters&quot;: [</br>    {</br>      &quot;name&quot;: &quot;Lina&quot;,</br>      &quot;age&quot;: 17,</br>      &quot;occupation&quot;: &quot;apprentice mage&quot;</br>    },</br>    {</br>      &quot;name&quot;: &quot;Eron&quot;,</br>      &quot;age&quot;: 25,</br>      &quot;occupation&quot;: &quot;knight&quot;</br>    },</br>    {</br>      &quot;name&quot;: &quot;Mira&quot;,</br>      &quot;age&quot;: 30,</br>      &quot;occupation&quot;: &quot;village healer&quot;</br>    }</br>  ],</br>  &quot;story_summary&quot;: &quot;Lina discovers a hidden dragon’s cave, teaming with Eron and Mira to protect it from dark forces, forging a bond and unlocking her true magical potential in the process.&quot;</br>}</pre></p>\n",
              "                            </div>\n",
              "                        </div>\n",
              "                        <script>\n",
              "                        function toggle_text_vWyfXXQXtq() {\n",
              "                            var collapsible_text = document.getElementById(\"collapsible_text_vWyfXXQXtq\");\n",
              "                            if (collapsible_text.style.display === \"none\") {\n",
              "                                collapsible_text.style.display = \"block\";\n",
              "                            } else {\n",
              "                                collapsible_text.style.display = \"none\";\n",
              "                            }\n",
              "                        }\n",
              "                        </script>\n",
              "                    \n",
              "                        <div style=\"margin-left: 20px;\">\n",
              "                            <button type=\"button\" onclick=\"toggle_text_uqFcczdjeu()\">2 | Prompt | messages=1 | 0.06$/1k | 1.64s | gpt-4.1-nano</button>\n",
              "                            <div id=\"collapsible_text_uqFcczdjeu\" style=\"display:none;\">\n",
              "                                <p><pre id=\"jsonOutput\">[system]</br>Write a short story about anything  Answer in JSON using this schema:</br>{</br>  genre: string,</br>  // at least three characters</br>  characters: [</br>    {</br>      name: string,</br>      age: int,</br>      occupation: string,</br>    }</br>  ],</br>  // Short story excerpt about anything, 30 words</br>  story_summary: string,</br>}</pre></p>\n",
              "                            </div>\n",
              "                        </div>\n",
              "                        <script>\n",
              "                        function toggle_text_uqFcczdjeu() {\n",
              "                            var collapsible_text = document.getElementById(\"collapsible_text_uqFcczdjeu\");\n",
              "                            if (collapsible_text.style.display === \"none\") {\n",
              "                                collapsible_text.style.display = \"block\";\n",
              "                            } else {\n",
              "                                collapsible_text.style.display = \"none\";\n",
              "                            }\n",
              "                        }\n",
              "                        </script>\n",
              "                    \n",
              "                        <div style=\"margin-left: 20px;\">\n",
              "                            <button type=\"button\" onclick=\"toggle_text_ltfQjYlCXZ()\">2 | Completion</button>\n",
              "                            <div id=\"collapsible_text_ltfQjYlCXZ\" style=\"display:none;\">\n",
              "                                <p><pre id=\"jsonOutput\">{</br>  &quot;genre&quot;: &quot;Fantasy&quot;,</br>  &quot;characters&quot;: [</br>    {</br>      &quot;name&quot;: &quot;Lila&quot;,</br>      &quot;age&quot;: 17,</br>      &quot;occupation&quot;: &quot;Apprentice Mage&quot;</br>    },</br>    {</br>      &quot;name&quot;: &quot;Finn&quot;,</br>      &quot;age&quot;: 19,</br>      &quot;occupation&quot;: &quot;Forest Scout&quot;</br>    },</br>    {</br>      &quot;name&quot;: &quot;Elder Mara&quot;,</br>      &quot;age&quot;: 65,</br>      &quot;occupation&quot;: &quot;Village Sage&quot;</br>    }</br>  ],</br>  &quot;story_summary&quot;: &quot;Lila and Finn discover a hidden ancient amulet guarded by Elder Mara, unlocking their potential and saving their village from an encroaching darkness, forging a new heroic future together.&quot;</br>}</pre></p>\n",
              "                            </div>\n",
              "                        </div>\n",
              "                        <script>\n",
              "                        function toggle_text_ltfQjYlCXZ() {\n",
              "                            var collapsible_text = document.getElementById(\"collapsible_text_ltfQjYlCXZ\");\n",
              "                            if (collapsible_text.style.display === \"none\") {\n",
              "                                collapsible_text.style.display = \"block\";\n",
              "                            } else {\n",
              "                                collapsible_text.style.display = \"none\";\n",
              "                            }\n",
              "                        }\n",
              "                        </script>\n",
              "                    \n",
              "            </div>\n",
              "\n",
              "            <script>\n",
              "            function toggle_text_zrWVZYzXBk() {\n",
              "                var collapsible_text = document.getElementById(\"collapsible_text_zrWVZYzXBk\");\n",
              "                if (collapsible_text.style.display === \"none\") {\n",
              "                    collapsible_text.style.display = \"block\";\n",
              "                } else {\n",
              "                    collapsible_text.style.display = \"none\";\n",
              "                }\n",
              "            }\n",
              "            </script>"
            ],
            "text/plain": [
              "<IPython.core.display.HTML object>"
            ]
          },
          "metadata": {},
          "output_type": "display_data"
        }
      ],
      "source": [
        "# Generate some calls\n",
        "c = JupyterBamlCollector(b)\n",
        "await c.b.InteractiveBamlJupyter_WriteShortStory()\n",
        "await c.b.InteractiveBamlJupyter_WriteShortStory()\n",
        "\n",
        "# Display the calls as a single session\n",
        "await c.display_session(\"Story generation session\")"
      ]
    },
    {
      "cell_type": "markdown",
      "metadata": {},
      "source": [
        "![Image](https://github.com/user-attachments/assets/7bed8f67-efe9-48c7-918a-5d0853dded95)"
      ]
    },
    {
      "cell_type": "markdown",
      "metadata": {},
      "source": [
        "## 3. Convenience class"
      ]
    },
    {
      "cell_type": "markdown",
      "metadata": {},
      "source": [
        "The `JupyterOutputBox` and `JupyterBamlCollector` are available as a single convenience class:"
      ]
    },
    {
      "cell_type": "code",
      "execution_count": 14,
      "metadata": {},
      "outputs": [
        {
          "data": {
            "text/html": [
              "<pre id=\"stream-e5ae93e1-22bb-4890-a7af-fc543bff6170\">{'genre': 'Fantasy',\n",
              " 'characters': [{'name': 'Luna', 'age': 17, 'occupation': 'Wizard-in-training'},\n",
              "                {'name': 'Thorn', 'age': 25, 'occupation': 'Forest Guardian'},\n",
              "                {'name': 'Eira', 'age': 30, 'occupation': 'Ancient Sorceress'}],\n",
              " 'story_summary': \"Luna seeks Eira's wisdom to unlock her powers, crossing woods guarded by Thorn, who distrusts outsiders, but fate binds them in a quest to save their realm from darkness.\"}</pre>"
            ]
          },
          "metadata": {},
          "output_type": "display_data"
        },
        {
          "data": {
            "application/javascript": "\n            (function(){\n              var el = document.getElementById(\"stream-e5ae93e1-22bb-4890-a7af-fc543bff6170\");\n              if (el) el.remove();\n            })();\n            ",
            "text/plain": [
              "<IPython.core.display.Javascript object>"
            ]
          },
          "metadata": {},
          "output_type": "display_data"
        },
        {
          "data": {
            "text/html": [
              "\n",
              "            <button type=\"button\" onclick=\"toggle_text_mNANoBaQlX()\">Prompt | messages=1 | 0.07$/1k | 1.14s | gpt-4.1-nano</button>\n",
              "            <div id=\"collapsible_text_mNANoBaQlX\" style=\"display:none;\">\n",
              "                <p><pre id=\"jsonOutput\">[system]</br>Write a short story about anything  Answer in JSON using this schema:</br>{</br>  genre: string,</br>  // at least three characters</br>  characters: [</br>    {</br>      name: string,</br>      age: int,</br>      occupation: string,</br>    }</br>  ],</br>  // Short story excerpt about anything, 30 words</br>  story_summary: string,</br>}</pre></p>\n",
              "            </div>\n",
              "\n",
              "            <script>\n",
              "            function toggle_text_mNANoBaQlX() {\n",
              "                var collapsible_text = document.getElementById(\"collapsible_text_mNANoBaQlX\");\n",
              "                if (collapsible_text.style.display === \"none\") {\n",
              "                    collapsible_text.style.display = \"block\";\n",
              "                } else {\n",
              "                    collapsible_text.style.display = \"none\";\n",
              "                }\n",
              "            }\n",
              "            </script>"
            ],
            "text/plain": [
              "<IPython.core.display.HTML object>"
            ]
          },
          "metadata": {},
          "output_type": "display_data"
        },
        {
          "data": {
            "text/html": [
              "\n",
              "            <button type=\"button\" onclick=\"toggle_text_VKyNxWoHbj()\">Completion | 0.07$/1k | 1.14s | gpt-4.1-nano</button>\n",
              "            <div id=\"collapsible_text_VKyNxWoHbj\" style=\"display:none;\">\n",
              "                <p><pre id=\"jsonOutput\">{</br>  &quot;genre&quot;: &quot;Fantasy&quot;,</br>  &quot;characters&quot;: [</br>    {</br>      &quot;name&quot;: &quot;Luna&quot;,</br>      &quot;age&quot;: 17,</br>      &quot;occupation&quot;: &quot;Wizard-in-training&quot;</br>    },</br>    {</br>      &quot;name&quot;: &quot;Thorn&quot;,</br>      &quot;age&quot;: 25,</br>      &quot;occupation&quot;: &quot;Forest Guardian&quot;</br>    },</br>    {</br>      &quot;name&quot;: &quot;Eira&quot;,</br>      &quot;age&quot;: 30,</br>      &quot;occupation&quot;: &quot;Ancient Sorceress&quot;</br>    }</br>  ],</br>  &quot;story_summary&quot;: &quot;Luna seeks Eira&#x27;s wisdom to unlock her powers, crossing woods guarded by Thorn, who distrusts outsiders, but fate binds them in a quest to save their realm from darkness.&quot;</br>}</pre></p>\n",
              "            </div>\n",
              "\n",
              "            <script>\n",
              "            function toggle_text_VKyNxWoHbj() {\n",
              "                var collapsible_text = document.getElementById(\"collapsible_text_VKyNxWoHbj\");\n",
              "                if (collapsible_text.style.display === \"none\") {\n",
              "                    collapsible_text.style.display = \"block\";\n",
              "                } else {\n",
              "                    collapsible_text.style.display = \"none\";\n",
              "                }\n",
              "            }\n",
              "            </script>"
            ],
            "text/plain": [
              "<IPython.core.display.HTML object>"
            ]
          },
          "metadata": {},
          "output_type": "display_data"
        }
      ],
      "source": [
        "from baml_agents import JupyterBamlMonitor\n",
        "\n",
        "with JupyterBamlMonitor(b) as m:\n",
        "    # Output is displayed in real time in the notebook\n",
        "    await m.b.InteractiveBamlJupyter_WriteShortStory()\n",
        "    # Outout is hidden from the notebook\n",
        "\n",
        "# Buttons with prompt and completino are displayed in the notebook\n",
        "await m.display_calls()"
      ]
    },
    {
      "cell_type": "markdown",
      "metadata": {},
      "source": [
        "## 4. Interactive chat"
      ]
    },
    {
      "cell_type": "code",
      "execution_count": null,
      "metadata": {},
      "outputs": [],
      "source": [
        "from baml_agents._jupyter_baml._chat_message import ChatMessage\n",
        "\n",
        "\n",
        "async def callback(chat_history):\n",
        "    msg = ChatMessage(\n",
        "        content=f\"I'm seeing {len(chat_history)} messages\",\n",
        "        role=\"assistant\",\n",
        "    )\n",
        "    return [msg]\n",
        "\n",
        "\n",
        "JupyterChatWidget(callback).display()"
      ]
    }
  ],
  "metadata": {
    "kernelspec": {
      "display_name": ".venv",
      "language": "python",
      "name": "python3"
    },
    "language_info": {
      "codemirror_mode": {
        "name": "ipython",
        "version": 3
      },
      "file_extension": ".py",
      "mimetype": "text/x-python",
      "name": "python",
      "nbconvert_exporter": "python",
      "pygments_lexer": "ipython3",
      "version": "3.13.0"
    }
  },
  "nbformat": 4,
  "nbformat_minor": 2
}
