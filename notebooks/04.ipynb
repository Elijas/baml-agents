{
 "cells": [
  {
   "cell_type": "code",
   "execution_count": 1,
   "metadata": {},
   "outputs": [],
   "source": [
    "import stackprinter  # type: ignore\n",
    "import jupyter_black  # type: ignore\n",
    "from dotenv import load_dotenv  # type: ignore\n",
    "import time\n",
    "import string\n",
    "\n",
    "from baml_agents import init_logging, with_model\n",
    "from baml_client.async_client import b\n",
    "\n",
    "init_logging()\n",
    "stackprinter.set_excepthook()\n",
    "load_dotenv()\n",
    "jupyter_black.load()\n",
    "\n",
    "b = with_model(b, \"gpt-4.1\")"
   ]
  },
  {
   "cell_type": "markdown",
   "metadata": {},
   "source": [
    "# Using BAML in Jupyter notebokos\n",
    "\n",
    "## 1. Streaming outputs\n",
    "\n",
    "BAML offers a great developer experience, and I used some utilities to recreate some of the magic in Jupyter notebooks."
   ]
  },
  {
   "cell_type": "code",
   "execution_count": null,
   "metadata": {},
   "outputs": [],
   "source": [
    "from baml_agents import JupyterOutputBox\n",
    "\n",
    "with JupyterOutputBox() as box:\n",
    "    output = \"\"\n",
    "    for letter in string.ascii_lowercase * 3:\n",
    "        output += letter\n",
    "        box.update(output)\n",
    "        time.sleep(1e-2)\n",
    "\n",
    "# RUnning the above code will show a live-updating output box in Jupyter Notebook.\n",
    "# It prints the letters of the alphabet in a box, one by one, with a small delay between each letter."
   ]
  },
  {
   "cell_type": "markdown",
   "metadata": {},
   "source": [
    "Running it simply, we have to wait for the output to finish before we can see it. Not great:"
   ]
  },
  {
   "cell_type": "code",
   "execution_count": null,
   "metadata": {},
   "outputs": [],
   "source": [
    "await b.Four_WriteShortStory()"
   ]
  },
  {
   "cell_type": "markdown",
   "metadata": {},
   "source": [
    "Now we can see the result as it's being generated:"
   ]
  },
  {
   "cell_type": "code",
   "execution_count": 6,
   "metadata": {},
   "outputs": [
    {
     "data": {
      "text/html": [
       "<pre id=\"stream-af4613b4-1cdd-4c79-b8fc-bb5d7c5c690f\">{\n",
       "    \"genre\": \"science fiction\",\n",
       "    \"characters\": [\n",
       "        {\n",
       "            \"name\": \"Lina\",\n",
       "            \"age\": 28,\n",
       "            \"occupation\": \"starship engineer\"\n",
       "        },\n",
       "        {\n",
       "            \"name\": \"Dax\",\n",
       "            \"age\": 35,\n",
       "            \"occupation\": \"pilot\"\n",
       "        },\n",
       "        {\n",
       "            \"name\": \"Hira\",\n",
       "            \"age\": 42,\n",
       "            \"occupation\": \"botanist\"\n",
       "        }\n",
       "    ],\n",
       "    \"story_summary\": \"Lost in a cosmic storm, Lina repairs the ship while Dax searches for nearby planets and Hira nurtures the last oxygen plant, hope flickering amid starlit uncertainty.\"\n",
       "}</pre>"
      ]
     },
     "metadata": {},
     "output_type": "display_data"
    }
   ],
   "source": [
    "from baml_agents import JupyterBamlCollector\n",
    "\n",
    "\n",
    "with JupyterOutputBox(clear_after_finish=False) as s:\n",
    "    c = JupyterBamlCollector(b, stream_callback=s.display(formatter=\"json\"))\n",
    "\n",
    "    await c.b.Four_WriteShortStory()"
   ]
  }
 ],
 "metadata": {
  "kernelspec": {
   "display_name": ".venv",
   "language": "python",
   "name": "python3"
  },
  "language_info": {
   "codemirror_mode": {
    "name": "ipython",
    "version": 3
   },
   "file_extension": ".py",
   "mimetype": "text/x-python",
   "name": "python",
   "nbconvert_exporter": "python",
   "pygments_lexer": "ipython3",
   "version": "3.13.0"
  }
 },
 "nbformat": 4,
 "nbformat_minor": 2
}
