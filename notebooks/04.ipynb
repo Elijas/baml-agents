{
 "cells": [
  {
   "cell_type": "code",
   "execution_count": 1,
   "metadata": {},
   "outputs": [],
   "source": [
    "import stackprinter  # type: ignore\n",
    "import jupyter_black  # type: ignore\n",
    "from dotenv import load_dotenv  # type: ignore\n",
    "import time\n",
    "import string\n",
    "\n",
    "from baml_agents import init_logging, with_model\n",
    "from baml_client.async_client import b\n",
    "\n",
    "init_logging()\n",
    "stackprinter.set_excepthook()\n",
    "load_dotenv()\n",
    "jupyter_black.load()\n",
    "\n",
    "b = with_model(b, \"gpt-4.1-nano\")"
   ]
  },
  {
   "cell_type": "markdown",
   "metadata": {},
   "source": [
    "# Using BAML in Jupyter notebokos\n",
    "\n",
    "## 1. Streaming outputs\n",
    "\n",
    "BAML offers a great developer experience, and I used some utilities to recreate some of the magic in Jupyter notebooks."
   ]
  },
  {
   "cell_type": "code",
   "execution_count": null,
   "metadata": {},
   "outputs": [],
   "source": [
    "from baml_agents import JupyterOutputBox\n",
    "\n",
    "with JupyterOutputBox() as box:\n",
    "    output = \"\"\n",
    "    for letter in string.ascii_lowercase * 3:\n",
    "        output += letter\n",
    "        box.update(output)\n",
    "        time.sleep(1e-2)\n",
    "\n",
    "# RUnning the above code will show a live-updating output box in Jupyter Notebook.\n",
    "# It prints the letters of the alphabet in a box, one by one, with a small delay between each letter."
   ]
  },
  {
   "cell_type": "markdown",
   "metadata": {},
   "source": [
    "Running it simply, we have to wait for the output to finish before we can see it. Not great:"
   ]
  },
  {
   "cell_type": "code",
   "execution_count": null,
   "metadata": {},
   "outputs": [],
   "source": [
    "await b.Four_WriteShortStory()"
   ]
  },
  {
   "cell_type": "markdown",
   "metadata": {},
   "source": [
    "Now we can see the result as it's being generated:"
   ]
  },
  {
   "cell_type": "code",
   "execution_count": 10,
   "metadata": {},
   "outputs": [
    {
     "data": {
      "text/html": [
       "<pre id=\"stream-8829dd8b-c22d-4858-b768-60df7c1d22c7\">{\n",
       "    \"genre\": \"science fiction\",\n",
       "    \"characters\": [\n",
       "        {\n",
       "            \"name\": \"Lina\",\n",
       "            \"age\": 29,\n",
       "            \"occupation\": \"starship engineer\"\n",
       "        },\n",
       "        {\n",
       "            \"name\": \"Ravi\",\n",
       "            \"age\": 35,\n",
       "            \"occupation\": \"pilot\"\n",
       "        },\n",
       "        {\n",
       "            \"name\": \"Ava\",\n",
       "            \"age\": 17,\n",
       "            \"occupation\": \"student\"\n",
       "        }\n",
       "    ],\n",
       "    \"story_summary\": \"When their ship malfunctions near a rogue planet, Lina, Ravi, and Ava must improvise repairs together. Facing the unknown, they discover unexpected courage and the beginnings of friendship.\"\n",
       "}</pre>"
      ]
     },
     "metadata": {},
     "output_type": "display_data"
    }
   ],
   "source": [
    "from baml_agents import JupyterBamlCollector\n",
    "\n",
    "\n",
    "with JupyterOutputBox(clear_after_finish=False) as s:\n",
    "    c = JupyterBamlCollector(b, stream_callback=s.display(formatter=\"json\"))\n",
    "\n",
    "    await c.b.Four_WriteShortStory()"
   ]
  },
  {
   "cell_type": "markdown",
   "metadata": {},
   "source": [
    "![Image](https://github.com/user-attachments/assets/ca21b62a-48b7-4a16-99fa-20bbe61f68b2)"
   ]
  },
  {
   "cell_type": "markdown",
   "metadata": {},
   "source": [
    "## 2. Collecting calls\n",
    "\n",
    "We can also see all calls made to the BAML API:"
   ]
  },
  {
   "cell_type": "code",
   "execution_count": 16,
   "metadata": {},
   "outputs": [
    {
     "data": {
      "text/html": [
       "\n",
       "            <button type=\"button\" onclick=\"toggle_text_yTgmhketmR()\">Step 1 - Request: (1 message) 1.28$/1k, 2.25s (gpt-4.1)</button>\n",
       "            <div id=\"collapsible_text_yTgmhketmR\" style=\"display:block;\">\n",
       "                <p><pre id=\"jsonOutput\">[system]</br>Write a short story about anything  Answer in JSON using this schema:</br>{</br>  genre: string,</br>  // at least three characters</br>  characters: [</br>    {</br>      name: string,</br>      age: int,</br>      occupation: string,</br>    }</br>  ],</br>  // Short story excerpt about anything, 30 words</br>  story_summary: string,</br>}</pre></p>\n",
       "            </div>\n",
       "\n",
       "            <script>\n",
       "            function toggle_text_yTgmhketmR() {\n",
       "                var collapsible_text = document.getElementById(\"collapsible_text_yTgmhketmR\");\n",
       "                if (collapsible_text.style.display === \"none\") {\n",
       "                    collapsible_text.style.display = \"block\";\n",
       "                } else {\n",
       "                    collapsible_text.style.display = \"none\";\n",
       "                }\n",
       "            }\n",
       "            </script>"
      ],
      "text/plain": [
       "<IPython.core.display.HTML object>"
      ]
     },
     "metadata": {},
     "output_type": "display_data"
    },
    {
     "data": {
      "text/html": [
       "\n",
       "            <button type=\"button\" onclick=\"toggle_text_JhvODIuuCr()\">Step 1 - Completion 1.28$/1k, 2.25s (gpt-4.1)</button>\n",
       "            <div id=\"collapsible_text_JhvODIuuCr\" style=\"display:block;\">\n",
       "                <p><pre id=\"jsonOutput\">{</br>  &quot;genre&quot;: &quot;science fiction&quot;,</br>  &quot;characters&quot;: [</br>    {</br>      &quot;name&quot;: &quot;Lina&quot;,</br>      &quot;age&quot;: 29,</br>      &quot;occupation&quot;: &quot;starship engineer&quot;</br>    },</br>    {</br>      &quot;name&quot;: &quot;Ravi&quot;,</br>      &quot;age&quot;: 35,</br>      &quot;occupation&quot;: &quot;pilot&quot;</br>    },</br>    {</br>      &quot;name&quot;: &quot;Ava&quot;,</br>      &quot;age&quot;: 17,</br>      &quot;occupation&quot;: &quot;student&quot;</br>    }</br>  ],</br>  &quot;story_summary&quot;: &quot;When their ship malfunctions near a rogue planet, Lina, Ravi, and Ava must improvise repairs together. Facing the unknown, they discover unexpected courage and the beginnings of friendship.&quot;</br>}</pre></p>\n",
       "            </div>\n",
       "\n",
       "            <script>\n",
       "            function toggle_text_JhvODIuuCr() {\n",
       "                var collapsible_text = document.getElementById(\"collapsible_text_JhvODIuuCr\");\n",
       "                if (collapsible_text.style.display === \"none\") {\n",
       "                    collapsible_text.style.display = \"block\";\n",
       "                } else {\n",
       "                    collapsible_text.style.display = \"none\";\n",
       "                }\n",
       "            }\n",
       "            </script>"
      ],
      "text/plain": [
       "<IPython.core.display.HTML object>"
      ]
     },
     "metadata": {},
     "output_type": "display_data"
    }
   ],
   "source": [
    "await c.display_calls(prompts=\"show\", completions=\"show\")"
   ]
  }
 ],
 "metadata": {
  "kernelspec": {
   "display_name": ".venv",
   "language": "python",
   "name": "python3"
  },
  "language_info": {
   "codemirror_mode": {
    "name": "ipython",
    "version": 3
   },
   "file_extension": ".py",
   "mimetype": "text/x-python",
   "name": "python",
   "nbconvert_exporter": "python",
   "pygments_lexer": "ipython3",
   "version": "3.13.0"
  }
 },
 "nbformat": 4,
 "nbformat_minor": 2
}
