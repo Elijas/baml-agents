{
 "cells": [
  {
   "cell_type": "code",
   "execution_count": 1,
   "metadata": {},
   "outputs": [],
   "source": [
    "import stackprinter  # type: ignore\n",
    "import jupyter_black  # type: ignore\n",
    "from dotenv import load_dotenv  # type: ignore\n",
    "\n",
    "from baml_agents import init_logging, with_model\n",
    "from baml_client.async_client import b\n",
    "\n",
    "init_logging()\n",
    "stackprinter.set_excepthook()\n",
    "load_dotenv()\n",
    "jupyter_black.load()\n",
    "\n",
    "b = with_model(b, \"gpt-4.1-mini\")"
   ]
  },
  {
   "cell_type": "markdown",
   "metadata": {},
   "source": [
    "# Simple BAML Agent demo"
   ]
  }
 ],
 "metadata": {
  "kernelspec": {
   "display_name": ".venv",
   "language": "python",
   "name": "python3"
  },
  "language_info": {
   "codemirror_mode": {
    "name": "ipython",
    "version": 3
   },
   "file_extension": ".py",
   "mimetype": "text/x-python",
   "name": "python",
   "nbconvert_exporter": "python",
   "pygments_lexer": "ipython3",
   "version": "3.13.0"
  }
 },
 "nbformat": 4,
 "nbformat_minor": 2
}
