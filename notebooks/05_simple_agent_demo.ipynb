{
 "cells": [
  {
   "cell_type": "code",
   "execution_count": 1,
   "metadata": {},
   "outputs": [],
   "source": [
    "import json\n",
    "import stackprinter  # type: ignore\n",
    "import jupyter_black  # type: ignore\n",
    "from dotenv import load_dotenv  # type: ignore\n",
    "from typing import Literal\n",
    "from baml_client.async_client import b\n",
    "\n",
    "from baml_agents import ActionRunner\n",
    "from baml_agents.jupyter import JupyterBamlMonitor\n",
    "from baml_agents import init_logging, with_model, Action, Result\n",
    "from baml_client import types\n",
    "from notebooks._utils import (\n",
    "    celsius_to_fahrenheit,\n",
    "    city_to_number,\n",
    "    city_to_weather_condition,\n",
    ")\n",
    "\n",
    "init_logging(level=\"INFO\")\n",
    "# stackprinter.set_excepthook()\n",
    "load_dotenv()\n",
    "jupyter_black.load()"
   ]
  },
  {
   "cell_type": "code",
   "execution_count": 2,
   "metadata": {},
   "outputs": [],
   "source": [
    "b_low_latency = with_model(b, \"gpt-4.1-nano\")\n",
    "\n",
    "\n",
    "async def summarize(action, result):\n",
    "    return await b_low_latency.SummarizeAction(\n",
    "        action=json.dumps(action.chosen_action, indent=4),\n",
    "        result=result.content if not result.error else result,\n",
    "    )\n",
    "\n",
    "\n",
    "def new_interaction(action, result):\n",
    "    return types.Interaction(\n",
    "        action=str(action),\n",
    "        result=types.Result(content=result.content, error=result.error),\n",
    "    )\n",
    "\n",
    "\n",
    "def is_result_available(action) -> str | None:\n",
    "    if action.chosen_action[\"action_id\"] != Stop.get_action_id():  # type: ignore\n",
    "        return None\n",
    "    return action.chosen_action[\"final_result\"]"
   ]
  },
  {
   "cell_type": "markdown",
   "metadata": {},
   "source": [
    "# Simple BAML Agent demo"
   ]
  },
  {
   "cell_type": "markdown",
   "metadata": {},
   "source": [
    "Let's put it all together:"
   ]
  },
  {
   "cell_type": "code",
   "execution_count": 3,
   "metadata": {},
   "outputs": [
    {
     "data": {
      "text/plain": [
       "Result(content='The weather in New York is 57.2 degrees fahrenheit with foggy conditions.', error=False)"
      ]
     },
     "execution_count": 3,
     "metadata": {},
     "output_type": "execute_result"
    }
   ],
   "source": [
    "class Stop(Action):\n",
    "    \"\"\"You're ready to provide the final answer or are unable to continue (e.g. stuck in a loop).\"\"\"\n",
    "\n",
    "    final_result: str\n",
    "\n",
    "    def run(self) -> Result:\n",
    "        raise NotImplementedError(\"Stop action should not be called directly.\")\n",
    "\n",
    "\n",
    "class GetWeatherInfo(Action):\n",
    "    \"\"\"Get weather information for a given city.\"\"\"\n",
    "\n",
    "    city: str\n",
    "    measurement: Literal[\"celsius\", \"fahrenheit\"] | None = None\n",
    "\n",
    "    def run(self) -> Result:\n",
    "        self.measurement = self.measurement or \"celsius\"\n",
    "        c = city_to_number(self.city, -10, 35)\n",
    "        condition = city_to_weather_condition(self.city)\n",
    "        if self.measurement.lower() == \"fahrenheit\":  # type: ignore\n",
    "            c, u = celsius_to_fahrenheit(c), \"fahrenheit\"\n",
    "        else:\n",
    "            u = \"celsius\"\n",
    "        content = f\"The weather in {self.city} is {round(c, 1)} degrees {u} with {condition.lower()} conditions.\"\n",
    "        return Result(content=content, error=False)\n",
    "\n",
    "\n",
    "GetWeatherInfo(city=\"New York\", measurement=\"fahrenheit\").run()"
   ]
  },
  {
   "cell_type": "code",
   "execution_count": 4,
   "metadata": {},
   "outputs": [
    {
     "name": "stdout",
     "output_type": "stream",
     "text": [
      "Queried the current local date and time.\n",
      "Retrieved current weather information for Los Angeles in Fahrenheit.\n",
      "Retrieved the weather information for New York in Fahrenheit (57.2°F, foggy conditions).\n",
      "Retrieved the current weather in Chicago: 37.4°F with cloudy conditions.\n",
      "Calculated the average of 50.0, 57.2, and 37.4.\n"
     ]
    },
    {
     "data": {
      "text/plain": [
       "'The current date is 2025-05-03. The average temperature between Los Angeles, New York, and Chicago is 48.2°F.'"
      ]
     },
     "execution_count": 4,
     "metadata": {},
     "output_type": "execute_result"
    }
   ],
   "source": [
    "from baml_client.async_client import b\n",
    "from baml_client.type_builder import TypeBuilder\n",
    "\n",
    "b = with_model(b, \"gpt-4.1\")\n",
    "r = ActionRunner(TypeBuilder, b=b, cache=True)\n",
    "r.add_from_mcp_server(server=\"uvx mcp-server-calculator\")\n",
    "r.add_from_mcp_server(server=\"uvx mcp-timeserver\")  # Note: you can also add URLs\n",
    "r.add_action(GetWeatherInfo)\n",
    "r.add_action(Stop)\n",
    "\n",
    "\n",
    "async def execute_task(r, b, task: str) -> str:\n",
    "    interactions = []\n",
    "    while True:\n",
    "        action = await b.GetNextAction(\n",
    "            task, interactions, baml_options={\"tb\": r.tb(\"NextAction\")}\n",
    "        )\n",
    "\n",
    "        if result := is_result_available(action):\n",
    "            return result\n",
    "\n",
    "        result = r.run(action)\n",
    "\n",
    "        interactions.append(new_interaction(action, result))\n",
    "        print(await summarize(action, result))\n",
    "\n",
    "\n",
    "task = \"State the current date along with average temperature between LA, NY and Chicago in Fahrenheit.\"\n",
    "await execute_task(r, b, task)"
   ]
  },
  {
   "cell_type": "markdown",
   "metadata": {},
   "source": [
    "We got the answer but we'd like more transparency on the what are the exact prompts and completions"
   ]
  },
  {
   "cell_type": "markdown",
   "metadata": {},
   "source": [
    "# Inspect prompts and completions"
   ]
  },
  {
   "cell_type": "code",
   "execution_count": 5,
   "metadata": {},
   "outputs": [
    {
     "data": {
      "text/html": [
       "<pre id=\"stream-d7b65667-d72b-4925-a254-b1ac667d927d\">{'chosen_action': {'action_id': 'stop', 'final_result': 'The current date is 2025-05-03. The average temperature between Los Angeles, New York, and Chicago is approximately 48.2 degrees Fahrenheit.'}}</pre>"
      ]
     },
     "metadata": {},
     "output_type": "display_data"
    },
    {
     "name": "stdout",
     "output_type": "stream",
     "text": [
      "Queried the current local date and time.\n",
      "Retrieved current weather information for Los Angeles in Fahrenheit.\n",
      "Retrieved the weather information for New York in Fahrenheit (57.2°F, foggy conditions).\n",
      "Retrieved the current weather in Chicago: 37.4°F with cloudy conditions.\n",
      "Calculated the average of 50.0, 57.2, and 37.4.\n"
     ]
    },
    {
     "data": {
      "application/javascript": "\n            (function(){\n              var el = document.getElementById(\"stream-d7b65667-d72b-4925-a254-b1ac667d927d\");\n              if (el) el.remove();\n            })();\n            ",
      "text/plain": [
       "<IPython.core.display.Javascript object>"
      ]
     },
     "metadata": {},
     "output_type": "display_data"
    }
   ],
   "source": [
    "task = \"State the current date along with average temperature between LA, NY and Chicago in Fahrenheit.\"\n",
    "\n",
    "with JupyterBamlMonitor(b) as m:\n",
    "    result = await execute_task(r, m.b, task)"
   ]
  },
  {
   "cell_type": "code",
   "execution_count": 6,
   "metadata": {},
   "outputs": [
    {
     "data": {
      "text/html": [
       "\n",
       "            <button type=\"button\" onclick=\"toggle_text_ROIXSKszeJ()\">State the current date along with average temperature between LA, NY and Chicago in Fahrenheit. | Cost: 5.33$/1k | 5.97s | gpt-4.1</button>\n",
       "            <div id=\"collapsible_text_ROIXSKszeJ\" style=\"display:none;\">\n",
       "                \n",
       "                        <div style=\"margin-left: 20px;\">\n",
       "                            <button type=\"button\" onclick=\"toggle_text_DFczAJtENO()\">1 | Prompt | messages=1 | 0.55$/1k | 1.57s | gpt-4.1</button>\n",
       "                            <div id=\"collapsible_text_DFczAJtENO\" style=\"display:none;\">\n",
       "                                <p><pre id=\"jsonOutput\">[system]</br>Please select the next best action to achieve the goal.</br></br>&lt;goal&gt;</br>State the current date along with average temperature between LA, NY and Chicago in Fahrenheit.</br>&lt;/goal&gt;</br></br>Answer in JSON format with exactly one next best action:</br>{</br>  chosen_action: {</br>    // Calculates/evaluates the given expression.</br>    action_id: &quot;calculate&quot;,</br>    expression: string,</br>  } OR {</br>    // Get the current time in the configured local timezone</br>    action_id: &quot;get-current-time&quot;,</br>  } OR {</br>    // Get weather information for a given city.</br>    action_id: &quot;get_weather_info&quot;,</br>    city: string,</br>    measurement: &quot;celsius&quot; OR &quot;fahrenheit&quot; OR null,</br>  } OR {</br>    // You&#x27;re ready to provide the final answer or are unable to continue (e.g. stuck in a loop).</br>    action_id: &quot;stop&quot;,</br>    final_result: string,</br>  },</br>}</br></br></pre></p>\n",
       "                            </div>\n",
       "                        </div>\n",
       "                        <script>\n",
       "                        function toggle_text_DFczAJtENO() {\n",
       "                            var collapsible_text = document.getElementById(\"collapsible_text_DFczAJtENO\");\n",
       "                            if (collapsible_text.style.display === \"none\") {\n",
       "                                collapsible_text.style.display = \"block\";\n",
       "                            } else {\n",
       "                                collapsible_text.style.display = \"none\";\n",
       "                            }\n",
       "                        }\n",
       "                        </script>\n",
       "                    \n",
       "                        <div style=\"margin-left: 20px;\">\n",
       "                            <button type=\"button\" onclick=\"toggle_text_lohzBMJcYx()\">1 | Completion | 0.55$/1k | 1.57s | gpt-4.1</button>\n",
       "                            <div id=\"collapsible_text_lohzBMJcYx\" style=\"display:none;\">\n",
       "                                <p><pre id=\"jsonOutput\">{</br>  &quot;chosen_action&quot;: {</br>    &quot;action_id&quot;: &quot;get-current-time&quot;</br>  }</br>}</pre></p>\n",
       "                            </div>\n",
       "                        </div>\n",
       "                        <script>\n",
       "                        function toggle_text_lohzBMJcYx() {\n",
       "                            var collapsible_text = document.getElementById(\"collapsible_text_lohzBMJcYx\");\n",
       "                            if (collapsible_text.style.display === \"none\") {\n",
       "                                collapsible_text.style.display = \"block\";\n",
       "                            } else {\n",
       "                                collapsible_text.style.display = \"none\";\n",
       "                            }\n",
       "                        }\n",
       "                        </script>\n",
       "                    \n",
       "                        <div style=\"margin-left: 20px;\">\n",
       "                            <button type=\"button\" onclick=\"toggle_text_MQDzeYzhhe()\">2 | Prompt | messages=3 | 0.75$/1k | 0.69s | gpt-4.1</button>\n",
       "                            <div id=\"collapsible_text_MQDzeYzhhe\" style=\"display:none;\">\n",
       "                                <p><pre id=\"jsonOutput\">[system]</br>Please select the next best action to achieve the goal.</br></br>&lt;goal&gt;</br>State the current date along with average temperature between LA, NY and Chicago in Fahrenheit.</br>&lt;/goal&gt;</br></br>Answer in JSON format with exactly one next best action:</br>{</br>  chosen_action: {</br>    // Calculates/evaluates the given expression.</br>    action_id: &quot;calculate&quot;,</br>    expression: string,</br>  } OR {</br>    // Get the current time in the configured local timezone</br>    action_id: &quot;get-current-time&quot;,</br>  } OR {</br>    // Get weather information for a given city.</br>    action_id: &quot;get_weather_info&quot;,</br>    city: string,</br>    measurement: &quot;celsius&quot; OR &quot;fahrenheit&quot; OR null,</br>  } OR {</br>    // You&#x27;re ready to provide the final answer or are unable to continue (e.g. stuck in a loop).</br>    action_id: &quot;stop&quot;,</br>    final_result: string,</br>  },</br>}</br></br>[assistant]</br>chosen_action={&#x27;action_id&#x27;: &#x27;get-current-time&#x27;}</br></br>[user]</br>The current time is 2025-05-03 22:48:25</pre></p>\n",
       "                            </div>\n",
       "                        </div>\n",
       "                        <script>\n",
       "                        function toggle_text_MQDzeYzhhe() {\n",
       "                            var collapsible_text = document.getElementById(\"collapsible_text_MQDzeYzhhe\");\n",
       "                            if (collapsible_text.style.display === \"none\") {\n",
       "                                collapsible_text.style.display = \"block\";\n",
       "                            } else {\n",
       "                                collapsible_text.style.display = \"none\";\n",
       "                            }\n",
       "                        }\n",
       "                        </script>\n",
       "                    \n",
       "                        <div style=\"margin-left: 20px;\">\n",
       "                            <button type=\"button\" onclick=\"toggle_text_NAVRhpefir()\">2 | Completion | 0.75$/1k | 0.69s | gpt-4.1</button>\n",
       "                            <div id=\"collapsible_text_NAVRhpefir\" style=\"display:none;\">\n",
       "                                <p><pre id=\"jsonOutput\">{</br>  &quot;chosen_action&quot;: {</br>    &quot;action_id&quot;: &quot;get_weather_info&quot;,</br>    &quot;city&quot;: &quot;Los Angeles&quot;,</br>    &quot;measurement&quot;: &quot;fahrenheit&quot;</br>  }</br>}</pre></p>\n",
       "                            </div>\n",
       "                        </div>\n",
       "                        <script>\n",
       "                        function toggle_text_NAVRhpefir() {\n",
       "                            var collapsible_text = document.getElementById(\"collapsible_text_NAVRhpefir\");\n",
       "                            if (collapsible_text.style.display === \"none\") {\n",
       "                                collapsible_text.style.display = \"block\";\n",
       "                            } else {\n",
       "                                collapsible_text.style.display = \"none\";\n",
       "                            }\n",
       "                        }\n",
       "                        </script>\n",
       "                    \n",
       "                        <div style=\"margin-left: 20px;\">\n",
       "                            <button type=\"button\" onclick=\"toggle_text_DizGhJtxBe()\">3 | Prompt | messages=5 | 0.80$/1k | 0.61s | gpt-4.1</button>\n",
       "                            <div id=\"collapsible_text_DizGhJtxBe\" style=\"display:none;\">\n",
       "                                <p><pre id=\"jsonOutput\">[system]</br>Please select the next best action to achieve the goal.</br></br>&lt;goal&gt;</br>State the current date along with average temperature between LA, NY and Chicago in Fahrenheit.</br>&lt;/goal&gt;</br></br>Answer in JSON format with exactly one next best action:</br>{</br>  chosen_action: {</br>    // Calculates/evaluates the given expression.</br>    action_id: &quot;calculate&quot;,</br>    expression: string,</br>  } OR {</br>    // Get the current time in the configured local timezone</br>    action_id: &quot;get-current-time&quot;,</br>  } OR {</br>    // Get weather information for a given city.</br>    action_id: &quot;get_weather_info&quot;,</br>    city: string,</br>    measurement: &quot;celsius&quot; OR &quot;fahrenheit&quot; OR null,</br>  } OR {</br>    // You&#x27;re ready to provide the final answer or are unable to continue (e.g. stuck in a loop).</br>    action_id: &quot;stop&quot;,</br>    final_result: string,</br>  },</br>}</br></br>[assistant]</br>chosen_action={&#x27;action_id&#x27;: &#x27;get-current-time&#x27;}</br></br>[user]</br>The current time is 2025-05-03 22:48:25</br></br>[assistant]</br>chosen_action={&#x27;action_id&#x27;: &#x27;get_weather_info&#x27;, &#x27;city&#x27;: &#x27;Los Angeles&#x27;, &#x27;measurement&#x27;: &#x27;fahrenheit&#x27;}</br></br>[user]</br>The weather in Los Angeles is 50.0 degrees fahrenheit with windy conditions.</pre></p>\n",
       "                            </div>\n",
       "                        </div>\n",
       "                        <script>\n",
       "                        function toggle_text_DizGhJtxBe() {\n",
       "                            var collapsible_text = document.getElementById(\"collapsible_text_DizGhJtxBe\");\n",
       "                            if (collapsible_text.style.display === \"none\") {\n",
       "                                collapsible_text.style.display = \"block\";\n",
       "                            } else {\n",
       "                                collapsible_text.style.display = \"none\";\n",
       "                            }\n",
       "                        }\n",
       "                        </script>\n",
       "                    \n",
       "                        <div style=\"margin-left: 20px;\">\n",
       "                            <button type=\"button\" onclick=\"toggle_text_ghnbdAEFMK()\">3 | Completion | 0.80$/1k | 0.61s | gpt-4.1</button>\n",
       "                            <div id=\"collapsible_text_ghnbdAEFMK\" style=\"display:none;\">\n",
       "                                <p><pre id=\"jsonOutput\">chosen_action={</br>  &quot;action_id&quot;: &quot;get_weather_info&quot;,</br>  &quot;city&quot;: &quot;New York&quot;,</br>  &quot;measurement&quot;: &quot;fahrenheit&quot;</br>}</pre></p>\n",
       "                            </div>\n",
       "                        </div>\n",
       "                        <script>\n",
       "                        function toggle_text_ghnbdAEFMK() {\n",
       "                            var collapsible_text = document.getElementById(\"collapsible_text_ghnbdAEFMK\");\n",
       "                            if (collapsible_text.style.display === \"none\") {\n",
       "                                collapsible_text.style.display = \"block\";\n",
       "                            } else {\n",
       "                                collapsible_text.style.display = \"none\";\n",
       "                            }\n",
       "                        }\n",
       "                        </script>\n",
       "                    \n",
       "                        <div style=\"margin-left: 20px;\">\n",
       "                            <button type=\"button\" onclick=\"toggle_text_ppFFfUbHxe()\">4 | Prompt | messages=7 | 0.86$/1k | 1.21s | gpt-4.1</button>\n",
       "                            <div id=\"collapsible_text_ppFFfUbHxe\" style=\"display:none;\">\n",
       "                                <p><pre id=\"jsonOutput\">[system]</br>Please select the next best action to achieve the goal.</br></br>&lt;goal&gt;</br>State the current date along with average temperature between LA, NY and Chicago in Fahrenheit.</br>&lt;/goal&gt;</br></br>Answer in JSON format with exactly one next best action:</br>{</br>  chosen_action: {</br>    // Calculates/evaluates the given expression.</br>    action_id: &quot;calculate&quot;,</br>    expression: string,</br>  } OR {</br>    // Get the current time in the configured local timezone</br>    action_id: &quot;get-current-time&quot;,</br>  } OR {</br>    // Get weather information for a given city.</br>    action_id: &quot;get_weather_info&quot;,</br>    city: string,</br>    measurement: &quot;celsius&quot; OR &quot;fahrenheit&quot; OR null,</br>  } OR {</br>    // You&#x27;re ready to provide the final answer or are unable to continue (e.g. stuck in a loop).</br>    action_id: &quot;stop&quot;,</br>    final_result: string,</br>  },</br>}</br></br>[assistant]</br>chosen_action={&#x27;action_id&#x27;: &#x27;get-current-time&#x27;}</br></br>[user]</br>The current time is 2025-05-03 22:48:25</br></br>[assistant]</br>chosen_action={&#x27;action_id&#x27;: &#x27;get_weather_info&#x27;, &#x27;city&#x27;: &#x27;Los Angeles&#x27;, &#x27;measurement&#x27;: &#x27;fahrenheit&#x27;}</br></br>[user]</br>The weather in Los Angeles is 50.0 degrees fahrenheit with windy conditions.</br></br>[assistant]</br>chosen_action={&#x27;action_id&#x27;: &#x27;get_weather_info&#x27;, &#x27;city&#x27;: &#x27;New York&#x27;, &#x27;measurement&#x27;: &#x27;fahrenheit&#x27;}</br></br>[user]</br>The weather in New York is 57.2 degrees fahrenheit with foggy conditions.</pre></p>\n",
       "                            </div>\n",
       "                        </div>\n",
       "                        <script>\n",
       "                        function toggle_text_ppFFfUbHxe() {\n",
       "                            var collapsible_text = document.getElementById(\"collapsible_text_ppFFfUbHxe\");\n",
       "                            if (collapsible_text.style.display === \"none\") {\n",
       "                                collapsible_text.style.display = \"block\";\n",
       "                            } else {\n",
       "                                collapsible_text.style.display = \"none\";\n",
       "                            }\n",
       "                        }\n",
       "                        </script>\n",
       "                    \n",
       "                        <div style=\"margin-left: 20px;\">\n",
       "                            <button type=\"button\" onclick=\"toggle_text_ScddblFlmb()\">4 | Completion | 0.86$/1k | 1.21s | gpt-4.1</button>\n",
       "                            <div id=\"collapsible_text_ScddblFlmb\" style=\"display:none;\">\n",
       "                                <p><pre id=\"jsonOutput\">chosen_action={&#x27;action_id&#x27;: &#x27;get_weather_info&#x27;, &#x27;city&#x27;: &#x27;Chicago&#x27;, &#x27;measurement&#x27;: &#x27;fahrenheit&#x27;}</pre></p>\n",
       "                            </div>\n",
       "                        </div>\n",
       "                        <script>\n",
       "                        function toggle_text_ScddblFlmb() {\n",
       "                            var collapsible_text = document.getElementById(\"collapsible_text_ScddblFlmb\");\n",
       "                            if (collapsible_text.style.display === \"none\") {\n",
       "                                collapsible_text.style.display = \"block\";\n",
       "                            } else {\n",
       "                                collapsible_text.style.display = \"none\";\n",
       "                            }\n",
       "                        }\n",
       "                        </script>\n",
       "                    \n",
       "                        <div style=\"margin-left: 20px;\">\n",
       "                            <button type=\"button\" onclick=\"toggle_text_ZfzKcrbIYt()\">5 | Prompt | messages=9 | 1.07$/1k | 0.85s | gpt-4.1</button>\n",
       "                            <div id=\"collapsible_text_ZfzKcrbIYt\" style=\"display:none;\">\n",
       "                                <p><pre id=\"jsonOutput\">[system]</br>Please select the next best action to achieve the goal.</br></br>&lt;goal&gt;</br>State the current date along with average temperature between LA, NY and Chicago in Fahrenheit.</br>&lt;/goal&gt;</br></br>Answer in JSON format with exactly one next best action:</br>{</br>  chosen_action: {</br>    // Calculates/evaluates the given expression.</br>    action_id: &quot;calculate&quot;,</br>    expression: string,</br>  } OR {</br>    // Get the current time in the configured local timezone</br>    action_id: &quot;get-current-time&quot;,</br>  } OR {</br>    // Get weather information for a given city.</br>    action_id: &quot;get_weather_info&quot;,</br>    city: string,</br>    measurement: &quot;celsius&quot; OR &quot;fahrenheit&quot; OR null,</br>  } OR {</br>    // You&#x27;re ready to provide the final answer or are unable to continue (e.g. stuck in a loop).</br>    action_id: &quot;stop&quot;,</br>    final_result: string,</br>  },</br>}</br></br>[assistant]</br>chosen_action={&#x27;action_id&#x27;: &#x27;get-current-time&#x27;}</br></br>[user]</br>The current time is 2025-05-03 22:48:25</br></br>[assistant]</br>chosen_action={&#x27;action_id&#x27;: &#x27;get_weather_info&#x27;, &#x27;city&#x27;: &#x27;Los Angeles&#x27;, &#x27;measurement&#x27;: &#x27;fahrenheit&#x27;}</br></br>[user]</br>The weather in Los Angeles is 50.0 degrees fahrenheit with windy conditions.</br></br>[assistant]</br>chosen_action={&#x27;action_id&#x27;: &#x27;get_weather_info&#x27;, &#x27;city&#x27;: &#x27;New York&#x27;, &#x27;measurement&#x27;: &#x27;fahrenheit&#x27;}</br></br>[user]</br>The weather in New York is 57.2 degrees fahrenheit with foggy conditions.</br></br>[assistant]</br>chosen_action={&#x27;action_id&#x27;: &#x27;get_weather_info&#x27;, &#x27;city&#x27;: &#x27;Chicago&#x27;, &#x27;measurement&#x27;: &#x27;fahrenheit&#x27;}</br></br>[user]</br>The weather in Chicago is 37.4 degrees fahrenheit with cloudy conditions.</pre></p>\n",
       "                            </div>\n",
       "                        </div>\n",
       "                        <script>\n",
       "                        function toggle_text_ZfzKcrbIYt() {\n",
       "                            var collapsible_text = document.getElementById(\"collapsible_text_ZfzKcrbIYt\");\n",
       "                            if (collapsible_text.style.display === \"none\") {\n",
       "                                collapsible_text.style.display = \"block\";\n",
       "                            } else {\n",
       "                                collapsible_text.style.display = \"none\";\n",
       "                            }\n",
       "                        }\n",
       "                        </script>\n",
       "                    \n",
       "                        <div style=\"margin-left: 20px;\">\n",
       "                            <button type=\"button\" onclick=\"toggle_text_MadaMKnZjp()\">5 | Completion | 1.07$/1k | 0.85s | gpt-4.1</button>\n",
       "                            <div id=\"collapsible_text_MadaMKnZjp\" style=\"display:none;\">\n",
       "                                <p><pre id=\"jsonOutput\">{</br>  &quot;chosen_action&quot;: {</br>    &quot;action_id&quot;: &quot;calculate&quot;,</br>    &quot;expression&quot;: &quot;(50.0 + 57.2 + 37.4)/3&quot;</br>  }</br>}</pre></p>\n",
       "                            </div>\n",
       "                        </div>\n",
       "                        <script>\n",
       "                        function toggle_text_MadaMKnZjp() {\n",
       "                            var collapsible_text = document.getElementById(\"collapsible_text_MadaMKnZjp\");\n",
       "                            if (collapsible_text.style.display === \"none\") {\n",
       "                                collapsible_text.style.display = \"block\";\n",
       "                            } else {\n",
       "                                collapsible_text.style.display = \"none\";\n",
       "                            }\n",
       "                        }\n",
       "                        </script>\n",
       "                    \n",
       "                        <div style=\"margin-left: 20px;\">\n",
       "                            <button type=\"button\" onclick=\"toggle_text_gjEQTySjWZ()\">6 | Prompt | messages=11 | 1.30$/1k | 1.02s | gpt-4.1</button>\n",
       "                            <div id=\"collapsible_text_gjEQTySjWZ\" style=\"display:none;\">\n",
       "                                <p><pre id=\"jsonOutput\">[system]</br>Please select the next best action to achieve the goal.</br></br>&lt;goal&gt;</br>State the current date along with average temperature between LA, NY and Chicago in Fahrenheit.</br>&lt;/goal&gt;</br></br>Answer in JSON format with exactly one next best action:</br>{</br>  chosen_action: {</br>    // Calculates/evaluates the given expression.</br>    action_id: &quot;calculate&quot;,</br>    expression: string,</br>  } OR {</br>    // Get the current time in the configured local timezone</br>    action_id: &quot;get-current-time&quot;,</br>  } OR {</br>    // Get weather information for a given city.</br>    action_id: &quot;get_weather_info&quot;,</br>    city: string,</br>    measurement: &quot;celsius&quot; OR &quot;fahrenheit&quot; OR null,</br>  } OR {</br>    // You&#x27;re ready to provide the final answer or are unable to continue (e.g. stuck in a loop).</br>    action_id: &quot;stop&quot;,</br>    final_result: string,</br>  },</br>}</br></br>[assistant]</br>chosen_action={&#x27;action_id&#x27;: &#x27;get-current-time&#x27;}</br></br>[user]</br>The current time is 2025-05-03 22:48:25</br></br>[assistant]</br>chosen_action={&#x27;action_id&#x27;: &#x27;get_weather_info&#x27;, &#x27;city&#x27;: &#x27;Los Angeles&#x27;, &#x27;measurement&#x27;: &#x27;fahrenheit&#x27;}</br></br>[user]</br>The weather in Los Angeles is 50.0 degrees fahrenheit with windy conditions.</br></br>[assistant]</br>chosen_action={&#x27;action_id&#x27;: &#x27;get_weather_info&#x27;, &#x27;city&#x27;: &#x27;New York&#x27;, &#x27;measurement&#x27;: &#x27;fahrenheit&#x27;}</br></br>[user]</br>The weather in New York is 57.2 degrees fahrenheit with foggy conditions.</br></br>[assistant]</br>chosen_action={&#x27;action_id&#x27;: &#x27;get_weather_info&#x27;, &#x27;city&#x27;: &#x27;Chicago&#x27;, &#x27;measurement&#x27;: &#x27;fahrenheit&#x27;}</br></br>[user]</br>The weather in Chicago is 37.4 degrees fahrenheit with cloudy conditions.</br></br>[assistant]</br>chosen_action={&#x27;action_id&#x27;: &#x27;calculate&#x27;, &#x27;expression&#x27;: &#x27;(50.0 + 57.2 + 37.4)/3&#x27;}</br></br>[user]</br>48.199999999999996</pre></p>\n",
       "                            </div>\n",
       "                        </div>\n",
       "                        <script>\n",
       "                        function toggle_text_gjEQTySjWZ() {\n",
       "                            var collapsible_text = document.getElementById(\"collapsible_text_gjEQTySjWZ\");\n",
       "                            if (collapsible_text.style.display === \"none\") {\n",
       "                                collapsible_text.style.display = \"block\";\n",
       "                            } else {\n",
       "                                collapsible_text.style.display = \"none\";\n",
       "                            }\n",
       "                        }\n",
       "                        </script>\n",
       "                    \n",
       "                        <div style=\"margin-left: 20px;\">\n",
       "                            <button type=\"button\" onclick=\"toggle_text_TliQFYQmNF()\">6 | Completion | 1.30$/1k | 1.02s | gpt-4.1</button>\n",
       "                            <div id=\"collapsible_text_TliQFYQmNF\" style=\"display:none;\">\n",
       "                                <p><pre id=\"jsonOutput\">{</br>  &quot;chosen_action&quot;: {</br>    &quot;action_id&quot;: &quot;stop&quot;,</br>    &quot;final_result&quot;: &quot;The current date is 2025-05-03. The average temperature between Los Angeles, New York, and Chicago is approximately 48.2 degrees Fahrenheit.&quot;</br>  }</br>}</pre></p>\n",
       "                            </div>\n",
       "                        </div>\n",
       "                        <script>\n",
       "                        function toggle_text_TliQFYQmNF() {\n",
       "                            var collapsible_text = document.getElementById(\"collapsible_text_TliQFYQmNF\");\n",
       "                            if (collapsible_text.style.display === \"none\") {\n",
       "                                collapsible_text.style.display = \"block\";\n",
       "                            } else {\n",
       "                                collapsible_text.style.display = \"none\";\n",
       "                            }\n",
       "                        }\n",
       "                        </script>\n",
       "                    \n",
       "            </div>\n",
       "\n",
       "            <script>\n",
       "            function toggle_text_ROIXSKszeJ() {\n",
       "                var collapsible_text = document.getElementById(\"collapsible_text_ROIXSKszeJ\");\n",
       "                if (collapsible_text.style.display === \"none\") {\n",
       "                    collapsible_text.style.display = \"block\";\n",
       "                } else {\n",
       "                    collapsible_text.style.display = \"none\";\n",
       "                }\n",
       "            }\n",
       "            </script>"
      ],
      "text/plain": [
       "<IPython.core.display.HTML object>"
      ]
     },
     "metadata": {},
     "output_type": "display_data"
    }
   ],
   "source": [
    "await m.display_session(task)"
   ]
  },
  {
   "cell_type": "markdown",
   "metadata": {},
   "source": [
    "![Image](https://github.com/user-attachments/assets/ea55c3e7-147d-41aa-99ce-40e4783f7818)"
   ]
  }
 ],
 "metadata": {
  "kernelspec": {
   "display_name": ".venv",
   "language": "python",
   "name": "python3"
  },
  "language_info": {
   "codemirror_mode": {
    "name": "ipython",
    "version": 3
   },
   "file_extension": ".py",
   "mimetype": "text/x-python",
   "name": "python",
   "nbconvert_exporter": "python",
   "pygments_lexer": "ipython3",
   "version": "3.13.0"
  }
 },
 "nbformat": 4,
 "nbformat_minor": 2
}
