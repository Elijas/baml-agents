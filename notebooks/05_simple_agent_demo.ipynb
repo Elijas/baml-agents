{
 "cells": [
  {
   "cell_type": "code",
   "execution_count": 1,
   "metadata": {},
   "outputs": [],
   "source": [
    "import json\n",
    "import stackprinter  # type: ignore\n",
    "import jupyter_black  # type: ignore\n",
    "from dotenv import load_dotenv  # type: ignore\n",
    "from typing import Literal\n",
    "from baml_client.async_client import b\n",
    "\n",
    "from baml_agents import ActionRunner\n",
    "from baml_agents import JupyterBamlMonitor\n",
    "from baml_agents import init_logging, with_model, Action, Result\n",
    "from baml_client import types\n",
    "from notebooks._utils import (\n",
    "    celsius_to_fahrenheit,\n",
    "    city_to_number,\n",
    "    city_to_weather_condition,\n",
    ")\n",
    "\n",
    "init_logging(level=\"INFO\")\n",
    "# stackprinter.set_excepthook()\n",
    "load_dotenv()\n",
    "jupyter_black.load()"
   ]
  },
  {
   "cell_type": "code",
   "execution_count": 2,
   "metadata": {},
   "outputs": [],
   "source": [
    "b_low_latency = with_model(b, \"gpt-4.1-nano\")\n",
    "\n",
    "\n",
    "async def summarize(action, result):\n",
    "    return await b_low_latency.SummarizeAction(\n",
    "        action=json.dumps(action.chosen_action, indent=4),\n",
    "        result=result.content if not result.error else result,\n",
    "    )\n",
    "\n",
    "\n",
    "def new_interaction(action, result):\n",
    "    return types.Interaction(\n",
    "        action=str(action),\n",
    "        result=types.Result(content=result.content, error=result.error),\n",
    "    )\n",
    "\n",
    "\n",
    "def is_result_available(action) -> str | None:\n",
    "    if action.chosen_action[\"action_id\"] != Stop.get_action_id():  # type: ignore\n",
    "        return None\n",
    "    return action.chosen_action[\"final_result\"]"
   ]
  },
  {
   "cell_type": "markdown",
   "metadata": {},
   "source": [
    "# Simple BAML Agent demo"
   ]
  },
  {
   "cell_type": "markdown",
   "metadata": {},
   "source": [
    "Let's put it all together:"
   ]
  },
  {
   "cell_type": "code",
   "execution_count": 3,
   "metadata": {},
   "outputs": [
    {
     "data": {
      "text/plain": [
       "Result(content='The weather in New York is 23.0 degrees fahrenheit with foggy conditions.', error=False)"
      ]
     },
     "execution_count": 3,
     "metadata": {},
     "output_type": "execute_result"
    }
   ],
   "source": [
    "class Stop(Action):\n",
    "    \"\"\"You're ready to provide the final answer or are unable to continue (e.g. stuck in a loop).\"\"\"\n",
    "\n",
    "    final_result: str\n",
    "\n",
    "    def run(self) -> Result:\n",
    "        raise NotImplementedError(\"Stop action should not be called directly.\")\n",
    "\n",
    "\n",
    "class GetWeatherInfo(Action):\n",
    "    \"\"\"Get weather information for a given city.\"\"\"\n",
    "\n",
    "    city: str\n",
    "    measurement: Literal[\"celsius\", \"fahrenheit\"] | None = None\n",
    "\n",
    "    def run(self) -> Result:\n",
    "        self.measurement = self.measurement or \"celsius\"\n",
    "        c = city_to_number(self.city, -10, 35)\n",
    "        condition = city_to_weather_condition(self.city)\n",
    "        if self.measurement.lower() == \"fahrenheit\":  # type: ignore\n",
    "            c, u = celsius_to_fahrenheit(c), \"fahrenheit\"\n",
    "        else:\n",
    "            u = \"celsius\"\n",
    "        content = f\"The weather in {self.city} is {round(c, 1)} degrees {u} with {condition.lower()} conditions.\"\n",
    "        return Result(content=content, error=False)\n",
    "\n",
    "\n",
    "GetWeatherInfo(city=\"New York\", measurement=\"fahrenheit\").run()"
   ]
  },
  {
   "cell_type": "code",
   "execution_count": 4,
   "metadata": {},
   "outputs": [
    {
     "name": "stdout",
     "output_type": "stream",
     "text": [
      "Retrieved the current time (2025-04-23 10:57:03).\n",
      "Retrieved the current weather in Los Angeles at 64.4°F with sunny conditions.\n",
      "Retrieved the weather information for New York: 23.0°F with fog.\n",
      "Searched for the weather in Chicago, reporting 39.2°F with rain.\n",
      "Calculated the average of 64.4, 23.0, and 39.2 (42.2)\n"
     ]
    },
    {
     "data": {
      "text/plain": [
       "'The current date is 2025-04-23. The average temperature between Los Angeles, New York, and Chicago is 42.2°F.'"
      ]
     },
     "execution_count": 4,
     "metadata": {},
     "output_type": "execute_result"
    }
   ],
   "source": [
    "from baml_client.async_client import b\n",
    "from baml_client.type_builder import TypeBuilder\n",
    "\n",
    "b = with_model(b, \"gpt-4.1\")\n",
    "r = ActionRunner(TypeBuilder, b=b, cache=True)\n",
    "r.add_from_mcp_server(server=\"uvx mcp-server-calculator\")\n",
    "r.add_from_mcp_server(server=\"uvx mcp-timeserver\")  # Note: you can also add URLs\n",
    "r.add_action(GetWeatherInfo)\n",
    "r.add_action(Stop)\n",
    "\n",
    "\n",
    "async def execute_task(r, b, task: str) -> str:\n",
    "    interactions = []\n",
    "    while True:\n",
    "        action = await b.GetNextAction(\n",
    "            task, interactions, baml_options={\"tb\": r.tb(\"NextAction\")}\n",
    "        )\n",
    "\n",
    "        if result := is_result_available(action):\n",
    "            return result\n",
    "\n",
    "        result = r.run(action)\n",
    "\n",
    "        interactions.append(new_interaction(action, result))\n",
    "        print(await summarize(action, result))\n",
    "\n",
    "\n",
    "task = \"State the current date along with average temperature between LA, NY and Chicago in Fahrenheit.\"\n",
    "await execute_task(r, b, task)"
   ]
  },
  {
   "cell_type": "markdown",
   "metadata": {},
   "source": [
    "# Inspect prompts and completions"
   ]
  },
  {
   "cell_type": "code",
   "execution_count": 5,
   "metadata": {},
   "outputs": [
    {
     "data": {
      "text/html": [
       "<pre id=\"stream-f5758489-e59c-4d1a-931b-07ee0e9492ec\">{'chosen_action': {'action_id': 'stop', 'final_result': 'The current date is 2025-04-23. The average temperature between Los Angeles, New York, and Chicago is 42.2°F.'}}</pre>"
      ]
     },
     "metadata": {},
     "output_type": "display_data"
    },
    {
     "name": "stdout",
     "output_type": "stream",
     "text": [
      "Retrieved the current time (2025-04-23 10:57:03).\n",
      "Retrieved the current weather in Los Angeles at 64.4°F with sunny conditions.\n",
      "Retrieved the weather information for New York: 23.0°F with fog.\n",
      "Searched for the weather in Chicago, reporting 39.2°F with rain.\n",
      "Calculated the average of 64.4, 23.0, and 39.2 (42.2)\n"
     ]
    },
    {
     "data": {
      "application/javascript": "\n            (function(){\n              var el = document.getElementById(\"stream-f5758489-e59c-4d1a-931b-07ee0e9492ec\");\n              if (el) el.remove();\n            })();\n            ",
      "text/plain": [
       "<IPython.core.display.Javascript object>"
      ]
     },
     "metadata": {},
     "output_type": "display_data"
    },
    {
     "data": {
      "text/html": [
       "<p><pre id=\"jsonOutput\">[system]</br>Please select the next best action to achieve the goal.</br></br>&lt;goal&gt;</br>State the current date along with average temperature between LA, NY and Chicago in Fahrenheit.</br>&lt;/goal&gt;</br></br>Answer in JSON format with exactly one next best action:</br>{</br>  chosen_action: {</br>    // Calculates/evaluates the given expression.</br>    action_id: &quot;calculate&quot;,</br>    expression: string,</br>  } OR {</br>    // Get the current time in the configured local timezone</br>    action_id: &quot;get-current-time&quot;,</br>  } OR {</br>    // Get weather information for a given city.</br>    action_id: &quot;get_weather_info&quot;,</br>    city: string,</br>    measurement: &quot;celsius&quot; OR &quot;fahrenheit&quot; OR null,</br>  } OR {</br>    // You&#x27;re ready to provide the final answer or are unable to continue (e.g. stuck in a loop).</br>    action_id: &quot;stop&quot;,</br>    final_result: string,</br>  },</br>}</br></br></pre></p>"
      ],
      "text/plain": [
       "<IPython.core.display.HTML object>"
      ]
     },
     "metadata": {},
     "output_type": "display_data"
    },
    {
     "data": {
      "text/html": [
       "<p><pre id=\"jsonOutput\">[system]</br>Please select the next best action to achieve the goal.</br></br>&lt;goal&gt;</br>State the current date along with average temperature between LA, NY and Chicago in Fahrenheit.</br>&lt;/goal&gt;</br></br>Answer in JSON format with exactly one next best action:</br>{</br>  chosen_action: {</br>    // Calculates/evaluates the given expression.</br>    action_id: &quot;calculate&quot;,</br>    expression: string,</br>  } OR {</br>    // Get the current time in the configured local timezone</br>    action_id: &quot;get-current-time&quot;,</br>  } OR {</br>    // Get weather information for a given city.</br>    action_id: &quot;get_weather_info&quot;,</br>    city: string,</br>    measurement: &quot;celsius&quot; OR &quot;fahrenheit&quot; OR null,</br>  } OR {</br>    // You&#x27;re ready to provide the final answer or are unable to continue (e.g. stuck in a loop).</br>    action_id: &quot;stop&quot;,</br>    final_result: string,</br>  },</br>}</br></br>[assistant]</br>chosen_action={&#x27;action_id&#x27;: &#x27;get-current-time&#x27;}</br></br>[user]</br>The current time is 2025-04-23 10:57:03</pre></p>"
      ],
      "text/plain": [
       "<IPython.core.display.HTML object>"
      ]
     },
     "metadata": {},
     "output_type": "display_data"
    },
    {
     "data": {
      "text/html": [
       "<p><pre id=\"jsonOutput\">[system]</br>Please select the next best action to achieve the goal.</br></br>&lt;goal&gt;</br>State the current date along with average temperature between LA, NY and Chicago in Fahrenheit.</br>&lt;/goal&gt;</br></br>Answer in JSON format with exactly one next best action:</br>{</br>  chosen_action: {</br>    // Calculates/evaluates the given expression.</br>    action_id: &quot;calculate&quot;,</br>    expression: string,</br>  } OR {</br>    // Get the current time in the configured local timezone</br>    action_id: &quot;get-current-time&quot;,</br>  } OR {</br>    // Get weather information for a given city.</br>    action_id: &quot;get_weather_info&quot;,</br>    city: string,</br>    measurement: &quot;celsius&quot; OR &quot;fahrenheit&quot; OR null,</br>  } OR {</br>    // You&#x27;re ready to provide the final answer or are unable to continue (e.g. stuck in a loop).</br>    action_id: &quot;stop&quot;,</br>    final_result: string,</br>  },</br>}</br></br>[assistant]</br>chosen_action={&#x27;action_id&#x27;: &#x27;get-current-time&#x27;}</br></br>[user]</br>The current time is 2025-04-23 10:57:03</br></br>[assistant]</br>chosen_action={&#x27;action_id&#x27;: &#x27;get_weather_info&#x27;, &#x27;city&#x27;: &#x27;Los Angeles&#x27;, &#x27;measurement&#x27;: &#x27;fahrenheit&#x27;}</br></br>[user]</br>The weather in Los Angeles is 64.4 degrees fahrenheit with sunny conditions.</pre></p>"
      ],
      "text/plain": [
       "<IPython.core.display.HTML object>"
      ]
     },
     "metadata": {},
     "output_type": "display_data"
    },
    {
     "data": {
      "text/html": [
       "<p><pre id=\"jsonOutput\">[system]</br>Please select the next best action to achieve the goal.</br></br>&lt;goal&gt;</br>State the current date along with average temperature between LA, NY and Chicago in Fahrenheit.</br>&lt;/goal&gt;</br></br>Answer in JSON format with exactly one next best action:</br>{</br>  chosen_action: {</br>    // Calculates/evaluates the given expression.</br>    action_id: &quot;calculate&quot;,</br>    expression: string,</br>  } OR {</br>    // Get the current time in the configured local timezone</br>    action_id: &quot;get-current-time&quot;,</br>  } OR {</br>    // Get weather information for a given city.</br>    action_id: &quot;get_weather_info&quot;,</br>    city: string,</br>    measurement: &quot;celsius&quot; OR &quot;fahrenheit&quot; OR null,</br>  } OR {</br>    // You&#x27;re ready to provide the final answer or are unable to continue (e.g. stuck in a loop).</br>    action_id: &quot;stop&quot;,</br>    final_result: string,</br>  },</br>}</br></br>[assistant]</br>chosen_action={&#x27;action_id&#x27;: &#x27;get-current-time&#x27;}</br></br>[user]</br>The current time is 2025-04-23 10:57:03</br></br>[assistant]</br>chosen_action={&#x27;action_id&#x27;: &#x27;get_weather_info&#x27;, &#x27;city&#x27;: &#x27;Los Angeles&#x27;, &#x27;measurement&#x27;: &#x27;fahrenheit&#x27;}</br></br>[user]</br>The weather in Los Angeles is 64.4 degrees fahrenheit with sunny conditions.</br></br>[assistant]</br>chosen_action={&#x27;action_id&#x27;: &#x27;get_weather_info&#x27;, &#x27;city&#x27;: &#x27;New York&#x27;, &#x27;measurement&#x27;: &#x27;fahrenheit&#x27;}</br></br>[user]</br>The weather in New York is 23.0 degrees fahrenheit with foggy conditions.</pre></p>"
      ],
      "text/plain": [
       "<IPython.core.display.HTML object>"
      ]
     },
     "metadata": {},
     "output_type": "display_data"
    },
    {
     "data": {
      "text/html": [
       "<p><pre id=\"jsonOutput\">[system]</br>Please select the next best action to achieve the goal.</br></br>&lt;goal&gt;</br>State the current date along with average temperature between LA, NY and Chicago in Fahrenheit.</br>&lt;/goal&gt;</br></br>Answer in JSON format with exactly one next best action:</br>{</br>  chosen_action: {</br>    // Calculates/evaluates the given expression.</br>    action_id: &quot;calculate&quot;,</br>    expression: string,</br>  } OR {</br>    // Get the current time in the configured local timezone</br>    action_id: &quot;get-current-time&quot;,</br>  } OR {</br>    // Get weather information for a given city.</br>    action_id: &quot;get_weather_info&quot;,</br>    city: string,</br>    measurement: &quot;celsius&quot; OR &quot;fahrenheit&quot; OR null,</br>  } OR {</br>    // You&#x27;re ready to provide the final answer or are unable to continue (e.g. stuck in a loop).</br>    action_id: &quot;stop&quot;,</br>    final_result: string,</br>  },</br>}</br></br>[assistant]</br>chosen_action={&#x27;action_id&#x27;: &#x27;get-current-time&#x27;}</br></br>[user]</br>The current time is 2025-04-23 10:57:03</br></br>[assistant]</br>chosen_action={&#x27;action_id&#x27;: &#x27;get_weather_info&#x27;, &#x27;city&#x27;: &#x27;Los Angeles&#x27;, &#x27;measurement&#x27;: &#x27;fahrenheit&#x27;}</br></br>[user]</br>The weather in Los Angeles is 64.4 degrees fahrenheit with sunny conditions.</br></br>[assistant]</br>chosen_action={&#x27;action_id&#x27;: &#x27;get_weather_info&#x27;, &#x27;city&#x27;: &#x27;New York&#x27;, &#x27;measurement&#x27;: &#x27;fahrenheit&#x27;}</br></br>[user]</br>The weather in New York is 23.0 degrees fahrenheit with foggy conditions.</br></br>[assistant]</br>chosen_action={&#x27;action_id&#x27;: &#x27;get_weather_info&#x27;, &#x27;city&#x27;: &#x27;Chicago&#x27;, &#x27;measurement&#x27;: &#x27;fahrenheit&#x27;}</br></br>[user]</br>The weather in Chicago is 39.2 degrees fahrenheit with rainy conditions.</pre></p>"
      ],
      "text/plain": [
       "<IPython.core.display.HTML object>"
      ]
     },
     "metadata": {},
     "output_type": "display_data"
    },
    {
     "data": {
      "text/html": [
       "<p><pre id=\"jsonOutput\">[system]</br>Please select the next best action to achieve the goal.</br></br>&lt;goal&gt;</br>State the current date along with average temperature between LA, NY and Chicago in Fahrenheit.</br>&lt;/goal&gt;</br></br>Answer in JSON format with exactly one next best action:</br>{</br>  chosen_action: {</br>    // Calculates/evaluates the given expression.</br>    action_id: &quot;calculate&quot;,</br>    expression: string,</br>  } OR {</br>    // Get the current time in the configured local timezone</br>    action_id: &quot;get-current-time&quot;,</br>  } OR {</br>    // Get weather information for a given city.</br>    action_id: &quot;get_weather_info&quot;,</br>    city: string,</br>    measurement: &quot;celsius&quot; OR &quot;fahrenheit&quot; OR null,</br>  } OR {</br>    // You&#x27;re ready to provide the final answer or are unable to continue (e.g. stuck in a loop).</br>    action_id: &quot;stop&quot;,</br>    final_result: string,</br>  },</br>}</br></br>[assistant]</br>chosen_action={&#x27;action_id&#x27;: &#x27;get-current-time&#x27;}</br></br>[user]</br>The current time is 2025-04-23 10:57:03</br></br>[assistant]</br>chosen_action={&#x27;action_id&#x27;: &#x27;get_weather_info&#x27;, &#x27;city&#x27;: &#x27;Los Angeles&#x27;, &#x27;measurement&#x27;: &#x27;fahrenheit&#x27;}</br></br>[user]</br>The weather in Los Angeles is 64.4 degrees fahrenheit with sunny conditions.</br></br>[assistant]</br>chosen_action={&#x27;action_id&#x27;: &#x27;get_weather_info&#x27;, &#x27;city&#x27;: &#x27;New York&#x27;, &#x27;measurement&#x27;: &#x27;fahrenheit&#x27;}</br></br>[user]</br>The weather in New York is 23.0 degrees fahrenheit with foggy conditions.</br></br>[assistant]</br>chosen_action={&#x27;action_id&#x27;: &#x27;get_weather_info&#x27;, &#x27;city&#x27;: &#x27;Chicago&#x27;, &#x27;measurement&#x27;: &#x27;fahrenheit&#x27;}</br></br>[user]</br>The weather in Chicago is 39.2 degrees fahrenheit with rainy conditions.</br></br>[assistant]</br>chosen_action={&#x27;action_id&#x27;: &#x27;calculate&#x27;, &#x27;expression&#x27;: &#x27;(64.4 + 23.0 + 39.2) / 3&#x27;}</br></br>[user]</br>42.2</pre></p>"
      ],
      "text/plain": [
       "<IPython.core.display.HTML object>"
      ]
     },
     "metadata": {},
     "output_type": "display_data"
    }
   ],
   "source": [
    "task = \"State the current date along with average temperature between LA, NY and Chicago in Fahrenheit.\"\n",
    "\n",
    "with JupyterBamlMonitor(b) as m:\n",
    "    result = await execute_task(r, m.b, task)\n",
    "\n",
    "await m.display_calls(prompts=\"always_show\", completions=\"always_hide\")"
   ]
  }
 ],
 "metadata": {
  "kernelspec": {
   "display_name": ".venv",
   "language": "python",
   "name": "python3"
  },
  "language_info": {
   "codemirror_mode": {
    "name": "ipython",
    "version": 3
   },
   "file_extension": ".py",
   "mimetype": "text/x-python",
   "name": "python",
   "nbconvert_exporter": "python",
   "pygments_lexer": "ipython3",
   "version": "3.13.0"
  }
 },
 "nbformat": 4,
 "nbformat_minor": 2
}
