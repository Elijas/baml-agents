{
 "cells": [
  {
   "cell_type": "code",
   "execution_count": 1,
   "metadata": {},
   "outputs": [],
   "source": [
    "import json\n",
    "import stackprinter  # type: ignore\n",
    "import jupyter_black  # type: ignore\n",
    "from dotenv import load_dotenv  # type: ignore\n",
    "from typing import Literal\n",
    "from baml_client.async_client import b\n",
    "\n",
    "from baml_agents import ActionRunner\n",
    "from baml_agents import JupyterBamlMonitor\n",
    "from baml_agents import init_logging, with_model, Action, Result\n",
    "from baml_client import types\n",
    "from notebooks._utils import (\n",
    "    celsius_to_fahrenheit,\n",
    "    city_to_number,\n",
    "    city_to_weather_condition,\n",
    ")\n",
    "\n",
    "init_logging(level=\"INFO\")\n",
    "# stackprinter.set_excepthook()\n",
    "load_dotenv()\n",
    "jupyter_black.load()"
   ]
  },
  {
   "cell_type": "code",
   "execution_count": 2,
   "metadata": {},
   "outputs": [],
   "source": [
    "b_low_latency = with_model(b, \"gpt-4.1-nano\")\n",
    "\n",
    "\n",
    "async def summarize(action, result):\n",
    "    return await b_low_latency.SummarizeAction(\n",
    "        action=json.dumps(action.chosen_action, indent=4),\n",
    "        result=result.content if not result.error else result,\n",
    "    )\n",
    "\n",
    "\n",
    "def new_interaction(action, result):\n",
    "    return types.Interaction(\n",
    "        action=str(action),\n",
    "        result=types.Result(content=result.content, error=result.error),\n",
    "    )\n",
    "\n",
    "\n",
    "def is_result_available(action) -> str | None:\n",
    "    if action.chosen_action[\"action_id\"] != Stop.get_action_id():  # type: ignore\n",
    "        return None\n",
    "    return action.chosen_action[\"final_result\"]"
   ]
  },
  {
   "cell_type": "markdown",
   "metadata": {},
   "source": [
    "# Simple BAML Agent demo"
   ]
  },
  {
   "cell_type": "markdown",
   "metadata": {},
   "source": [
    "Let's put it all together:"
   ]
  },
  {
   "cell_type": "code",
   "execution_count": 3,
   "metadata": {},
   "outputs": [
    {
     "data": {
      "text/plain": [
       "Result(content='The weather in New York is 26.6 degrees fahrenheit with stormy conditions.', error=False)"
      ]
     },
     "execution_count": 3,
     "metadata": {},
     "output_type": "execute_result"
    }
   ],
   "source": [
    "class Stop(Action):\n",
    "    \"\"\"You're ready to provide the final answer or are unable to continue (e.g. stuck in a loop).\"\"\"\n",
    "\n",
    "    final_result: str\n",
    "\n",
    "    def run(self) -> Result:\n",
    "        raise NotImplementedError(\"Stop action should not be called directly.\")\n",
    "\n",
    "\n",
    "class GetWeatherInfo(Action):\n",
    "    \"\"\"Get weather information for a given city.\"\"\"\n",
    "\n",
    "    city: str\n",
    "    measurement: Literal[\"celsius\", \"fahrenheit\"] | None = None\n",
    "\n",
    "    def run(self) -> Result:\n",
    "        self.measurement = self.measurement or \"celsius\"\n",
    "        c = city_to_number(self.city, -10, 35)\n",
    "        condition = city_to_weather_condition(self.city)\n",
    "        if self.measurement.lower() == \"fahrenheit\":  # type: ignore\n",
    "            c, u = celsius_to_fahrenheit(c), \"fahrenheit\"\n",
    "        else:\n",
    "            u = \"celsius\"\n",
    "        content = f\"The weather in {self.city} is {round(c, 1)} degrees {u} with {condition.lower()} conditions.\"\n",
    "        return Result(content=content, error=False)\n",
    "\n",
    "\n",
    "GetWeatherInfo(city=\"New York\", measurement=\"fahrenheit\").run()"
   ]
  },
  {
   "cell_type": "code",
   "execution_count": 4,
   "metadata": {},
   "outputs": [
    {
     "name": "stdout",
     "output_type": "stream",
     "text": [
      "Retrieved the current date and time as of the latest system update.\n",
      "Retrieved the current weather information for Los Angeles in Fahrenheit.\n",
      "Fetched current weather details for New York, showing 26.6°F with stormy conditions.\n",
      "Retrieved the current weather in Chicago: 48.2°F cloudy.\n",
      "Calculated the average of 73.4, 26.6, and 48.2 (result: 49.4).\n"
     ]
    },
    {
     "data": {
      "text/plain": [
       "'The current date is 2025-04-23. The average temperature between Los Angeles, New York, and Chicago is 49.4°F.'"
      ]
     },
     "execution_count": 4,
     "metadata": {},
     "output_type": "execute_result"
    }
   ],
   "source": [
    "from baml_client.async_client import b\n",
    "from baml_client.type_builder import TypeBuilder\n",
    "\n",
    "b = with_model(b, \"gpt-4.1\")\n",
    "r = ActionRunner(TypeBuilder, b=b, cache=True)\n",
    "r.add_from_mcp_server(server=\"uvx mcp-server-calculator\")\n",
    "r.add_from_mcp_server(server=\"uvx mcp-timeserver\")  # Note: you can also add URLs\n",
    "r.add_action(GetWeatherInfo)\n",
    "r.add_action(Stop)\n",
    "\n",
    "\n",
    "async def execute_task(r, b, task: str) -> str:\n",
    "    interactions = []\n",
    "    while True:\n",
    "        action = await b.GetNextAction(\n",
    "            task, interactions, baml_options={\"tb\": r.tb(\"NextAction\")}\n",
    "        )\n",
    "\n",
    "        if result := is_result_available(action):\n",
    "            return result\n",
    "\n",
    "        result = r.run(action)\n",
    "\n",
    "        interactions.append(new_interaction(action, result))\n",
    "        print(await summarize(action, result))\n",
    "\n",
    "\n",
    "task = \"State the current date along with average temperature between LA, NY and Chicago in Fahrenheit.\"\n",
    "await execute_task(r, b, task)"
   ]
  },
  {
   "cell_type": "markdown",
   "metadata": {},
   "source": [
    "We got the answer but we'd like more transparency on the what are the exact prompts and completions"
   ]
  },
  {
   "cell_type": "markdown",
   "metadata": {},
   "source": [
    "# Inspect prompts and completions"
   ]
  },
  {
   "cell_type": "code",
   "execution_count": 5,
   "metadata": {},
   "outputs": [
    {
     "data": {
      "text/html": [
       "<pre id=\"stream-afd998a0-9113-4bf4-a97b-cda46cb9bb35\">{'chosen_action': {'action_id': 'stop', 'final_result': 'The current date is 2025-04-23. The average temperature between Los Angeles, New York, and Chicago is 49.4°F.'}}</pre>"
      ]
     },
     "metadata": {},
     "output_type": "display_data"
    },
    {
     "name": "stdout",
     "output_type": "stream",
     "text": [
      "Retrieved the current date and time as of the latest system update.\n",
      "Retrieved the current weather information for Los Angeles in Fahrenheit.\n",
      "Fetched current weather details for New York, showing 26.6°F with stormy conditions.\n",
      "Retrieved the current weather in Chicago: 48.2°F cloudy.\n",
      "Calculated the average of 73.4, 26.6, and 48.2 (result: 49.4).\n"
     ]
    },
    {
     "data": {
      "application/javascript": "\n            (function(){\n              var el = document.getElementById(\"stream-afd998a0-9113-4bf4-a97b-cda46cb9bb35\");\n              if (el) el.remove();\n            })();\n            ",
      "text/plain": [
       "<IPython.core.display.Javascript object>"
      ]
     },
     "metadata": {},
     "output_type": "display_data"
    }
   ],
   "source": [
    "task = \"State the current date along with average temperature between LA, NY and Chicago in Fahrenheit.\"\n",
    "\n",
    "with JupyterBamlMonitor(b) as m:\n",
    "    result = await execute_task(r, m.b, task)"
   ]
  },
  {
   "cell_type": "code",
   "execution_count": 6,
   "metadata": {},
   "outputs": [
    {
     "data": {
      "text/html": [
       "\n",
       "            <button type=\"button\" onclick=\"toggle_text_MvrCWBdbuR()\">State the current date along with average temperature between LA, NY and Chicago in Fahrenheit. | Cost: 5.32$/1k | 4.00s | gpt-4.1</button>\n",
       "            <div id=\"collapsible_text_MvrCWBdbuR\" style=\"display:none;\">\n",
       "                \n",
       "                        <div style=\"margin-left: 20px;\">\n",
       "                            <button type=\"button\" onclick=\"toggle_text_dJmwKtaTNE()\">1 | Prompt | messages=1 | 0.54$/1k | 0.04s | gpt-4.1</button>\n",
       "                            <div id=\"collapsible_text_dJmwKtaTNE\" style=\"display:none;\">\n",
       "                                <p><pre id=\"jsonOutput\">[system]</br>Please select the next best action to achieve the goal.</br></br>&lt;goal&gt;</br>State the current date along with average temperature between LA, NY and Chicago in Fahrenheit.</br>&lt;/goal&gt;</br></br>Answer in JSON format with exactly one next best action:</br>{</br>  chosen_action: {</br>    // Calculates/evaluates the given expression.</br>    action_id: &quot;calculate&quot;,</br>    expression: string,</br>  } OR {</br>    // Get the current time in the configured local timezone</br>    action_id: &quot;get-current-time&quot;,</br>  } OR {</br>    // Get weather information for a given city.</br>    action_id: &quot;get_weather_info&quot;,</br>    city: string,</br>    measurement: &quot;celsius&quot; OR &quot;fahrenheit&quot; OR null,</br>  } OR {</br>    // You&#x27;re ready to provide the final answer or are unable to continue (e.g. stuck in a loop).</br>    action_id: &quot;stop&quot;,</br>    final_result: string,</br>  },</br>}</br></br></pre></p>\n",
       "                            </div>\n",
       "                        </div>\n",
       "                        <script>\n",
       "                        function toggle_text_dJmwKtaTNE() {\n",
       "                            var collapsible_text = document.getElementById(\"collapsible_text_dJmwKtaTNE\");\n",
       "                            if (collapsible_text.style.display === \"none\") {\n",
       "                                collapsible_text.style.display = \"block\";\n",
       "                            } else {\n",
       "                                collapsible_text.style.display = \"none\";\n",
       "                            }\n",
       "                        }\n",
       "                        </script>\n",
       "                    \n",
       "                        <div style=\"margin-left: 20px;\">\n",
       "                            <button type=\"button\" onclick=\"toggle_text_npqhKuymEP()\">1 | Completion | 0.54$/1k | 0.04s | gpt-4.1</button>\n",
       "                            <div id=\"collapsible_text_npqhKuymEP\" style=\"display:none;\">\n",
       "                                <p><pre id=\"jsonOutput\">{</br>  &quot;chosen_action&quot;: {</br>    &quot;action_id&quot;: &quot;get-current-time&quot;</br>  }</br>}</pre></p>\n",
       "                            </div>\n",
       "                        </div>\n",
       "                        <script>\n",
       "                        function toggle_text_npqhKuymEP() {\n",
       "                            var collapsible_text = document.getElementById(\"collapsible_text_npqhKuymEP\");\n",
       "                            if (collapsible_text.style.display === \"none\") {\n",
       "                                collapsible_text.style.display = \"block\";\n",
       "                            } else {\n",
       "                                collapsible_text.style.display = \"none\";\n",
       "                            }\n",
       "                        }\n",
       "                        </script>\n",
       "                    \n",
       "                        <div style=\"margin-left: 20px;\">\n",
       "                            <button type=\"button\" onclick=\"toggle_text_MOZBHQUazi()\">2 | Prompt | messages=3 | 0.74$/1k | 0.01s | gpt-4.1</button>\n",
       "                            <div id=\"collapsible_text_MOZBHQUazi\" style=\"display:none;\">\n",
       "                                <p><pre id=\"jsonOutput\">[system]</br>Please select the next best action to achieve the goal.</br></br>&lt;goal&gt;</br>State the current date along with average temperature between LA, NY and Chicago in Fahrenheit.</br>&lt;/goal&gt;</br></br>Answer in JSON format with exactly one next best action:</br>{</br>  chosen_action: {</br>    // Calculates/evaluates the given expression.</br>    action_id: &quot;calculate&quot;,</br>    expression: string,</br>  } OR {</br>    // Get the current time in the configured local timezone</br>    action_id: &quot;get-current-time&quot;,</br>  } OR {</br>    // Get weather information for a given city.</br>    action_id: &quot;get_weather_info&quot;,</br>    city: string,</br>    measurement: &quot;celsius&quot; OR &quot;fahrenheit&quot; OR null,</br>  } OR {</br>    // You&#x27;re ready to provide the final answer or are unable to continue (e.g. stuck in a loop).</br>    action_id: &quot;stop&quot;,</br>    final_result: string,</br>  },</br>}</br></br>[assistant]</br>chosen_action={&#x27;action_id&#x27;: &#x27;get-current-time&#x27;}</br></br>[user]</br>The current time is 2025-04-23 10:57:03</pre></p>\n",
       "                            </div>\n",
       "                        </div>\n",
       "                        <script>\n",
       "                        function toggle_text_MOZBHQUazi() {\n",
       "                            var collapsible_text = document.getElementById(\"collapsible_text_MOZBHQUazi\");\n",
       "                            if (collapsible_text.style.display === \"none\") {\n",
       "                                collapsible_text.style.display = \"block\";\n",
       "                            } else {\n",
       "                                collapsible_text.style.display = \"none\";\n",
       "                            }\n",
       "                        }\n",
       "                        </script>\n",
       "                    \n",
       "                        <div style=\"margin-left: 20px;\">\n",
       "                            <button type=\"button\" onclick=\"toggle_text_ScXCdZoCev()\">2 | Completion | 0.74$/1k | 0.01s | gpt-4.1</button>\n",
       "                            <div id=\"collapsible_text_ScXCdZoCev\" style=\"display:none;\">\n",
       "                                <p><pre id=\"jsonOutput\">{</br>  &quot;chosen_action&quot;: {</br>    &quot;action_id&quot;: &quot;get_weather_info&quot;,</br>    &quot;city&quot;: &quot;Los Angeles&quot;,</br>    &quot;measurement&quot;: &quot;fahrenheit&quot;</br>  }</br>}</pre></p>\n",
       "                            </div>\n",
       "                        </div>\n",
       "                        <script>\n",
       "                        function toggle_text_ScXCdZoCev() {\n",
       "                            var collapsible_text = document.getElementById(\"collapsible_text_ScXCdZoCev\");\n",
       "                            if (collapsible_text.style.display === \"none\") {\n",
       "                                collapsible_text.style.display = \"block\";\n",
       "                            } else {\n",
       "                                collapsible_text.style.display = \"none\";\n",
       "                            }\n",
       "                        }\n",
       "                        </script>\n",
       "                    \n",
       "                        <div style=\"margin-left: 20px;\">\n",
       "                            <button type=\"button\" onclick=\"toggle_text_QJKTWhnCbr()\">3 | Prompt | messages=5 | 0.85$/1k | 0.94s | gpt-4.1</button>\n",
       "                            <div id=\"collapsible_text_QJKTWhnCbr\" style=\"display:none;\">\n",
       "                                <p><pre id=\"jsonOutput\">[system]</br>Please select the next best action to achieve the goal.</br></br>&lt;goal&gt;</br>State the current date along with average temperature between LA, NY and Chicago in Fahrenheit.</br>&lt;/goal&gt;</br></br>Answer in JSON format with exactly one next best action:</br>{</br>  chosen_action: {</br>    // Calculates/evaluates the given expression.</br>    action_id: &quot;calculate&quot;,</br>    expression: string,</br>  } OR {</br>    // Get the current time in the configured local timezone</br>    action_id: &quot;get-current-time&quot;,</br>  } OR {</br>    // Get weather information for a given city.</br>    action_id: &quot;get_weather_info&quot;,</br>    city: string,</br>    measurement: &quot;celsius&quot; OR &quot;fahrenheit&quot; OR null,</br>  } OR {</br>    // You&#x27;re ready to provide the final answer or are unable to continue (e.g. stuck in a loop).</br>    action_id: &quot;stop&quot;,</br>    final_result: string,</br>  },</br>}</br></br>[assistant]</br>chosen_action={&#x27;action_id&#x27;: &#x27;get-current-time&#x27;}</br></br>[user]</br>The current time is 2025-04-23 10:57:03</br></br>[assistant]</br>chosen_action={&#x27;action_id&#x27;: &#x27;get_weather_info&#x27;, &#x27;city&#x27;: &#x27;Los Angeles&#x27;, &#x27;measurement&#x27;: &#x27;fahrenheit&#x27;}</br></br>[user]</br>The weather in Los Angeles is 73.4 degrees fahrenheit with windy conditions.</pre></p>\n",
       "                            </div>\n",
       "                        </div>\n",
       "                        <script>\n",
       "                        function toggle_text_QJKTWhnCbr() {\n",
       "                            var collapsible_text = document.getElementById(\"collapsible_text_QJKTWhnCbr\");\n",
       "                            if (collapsible_text.style.display === \"none\") {\n",
       "                                collapsible_text.style.display = \"block\";\n",
       "                            } else {\n",
       "                                collapsible_text.style.display = \"none\";\n",
       "                            }\n",
       "                        }\n",
       "                        </script>\n",
       "                    \n",
       "                        <div style=\"margin-left: 20px;\">\n",
       "                            <button type=\"button\" onclick=\"toggle_text_uDojUwOwYj()\">3 | Completion | 0.85$/1k | 0.94s | gpt-4.1</button>\n",
       "                            <div id=\"collapsible_text_uDojUwOwYj\" style=\"display:none;\">\n",
       "                                <p><pre id=\"jsonOutput\">{</br>  &quot;chosen_action&quot;: {</br>    &quot;action_id&quot;: &quot;get_weather_info&quot;,</br>    &quot;city&quot;: &quot;New York&quot;,</br>    &quot;measurement&quot;: &quot;fahrenheit&quot;</br>  }</br>}</pre></p>\n",
       "                            </div>\n",
       "                        </div>\n",
       "                        <script>\n",
       "                        function toggle_text_uDojUwOwYj() {\n",
       "                            var collapsible_text = document.getElementById(\"collapsible_text_uDojUwOwYj\");\n",
       "                            if (collapsible_text.style.display === \"none\") {\n",
       "                                collapsible_text.style.display = \"block\";\n",
       "                            } else {\n",
       "                                collapsible_text.style.display = \"none\";\n",
       "                            }\n",
       "                        }\n",
       "                        </script>\n",
       "                    \n",
       "                        <div style=\"margin-left: 20px;\">\n",
       "                            <button type=\"button\" onclick=\"toggle_text_NpxkYFCiPc()\">4 | Prompt | messages=7 | 0.86$/1k | 0.84s | gpt-4.1</button>\n",
       "                            <div id=\"collapsible_text_NpxkYFCiPc\" style=\"display:none;\">\n",
       "                                <p><pre id=\"jsonOutput\">[system]</br>Please select the next best action to achieve the goal.</br></br>&lt;goal&gt;</br>State the current date along with average temperature between LA, NY and Chicago in Fahrenheit.</br>&lt;/goal&gt;</br></br>Answer in JSON format with exactly one next best action:</br>{</br>  chosen_action: {</br>    // Calculates/evaluates the given expression.</br>    action_id: &quot;calculate&quot;,</br>    expression: string,</br>  } OR {</br>    // Get the current time in the configured local timezone</br>    action_id: &quot;get-current-time&quot;,</br>  } OR {</br>    // Get weather information for a given city.</br>    action_id: &quot;get_weather_info&quot;,</br>    city: string,</br>    measurement: &quot;celsius&quot; OR &quot;fahrenheit&quot; OR null,</br>  } OR {</br>    // You&#x27;re ready to provide the final answer or are unable to continue (e.g. stuck in a loop).</br>    action_id: &quot;stop&quot;,</br>    final_result: string,</br>  },</br>}</br></br>[assistant]</br>chosen_action={&#x27;action_id&#x27;: &#x27;get-current-time&#x27;}</br></br>[user]</br>The current time is 2025-04-23 10:57:03</br></br>[assistant]</br>chosen_action={&#x27;action_id&#x27;: &#x27;get_weather_info&#x27;, &#x27;city&#x27;: &#x27;Los Angeles&#x27;, &#x27;measurement&#x27;: &#x27;fahrenheit&#x27;}</br></br>[user]</br>The weather in Los Angeles is 73.4 degrees fahrenheit with windy conditions.</br></br>[assistant]</br>chosen_action={&#x27;action_id&#x27;: &#x27;get_weather_info&#x27;, &#x27;city&#x27;: &#x27;New York&#x27;, &#x27;measurement&#x27;: &#x27;fahrenheit&#x27;}</br></br>[user]</br>The weather in New York is 26.6 degrees fahrenheit with stormy conditions.</pre></p>\n",
       "                            </div>\n",
       "                        </div>\n",
       "                        <script>\n",
       "                        function toggle_text_NpxkYFCiPc() {\n",
       "                            var collapsible_text = document.getElementById(\"collapsible_text_NpxkYFCiPc\");\n",
       "                            if (collapsible_text.style.display === \"none\") {\n",
       "                                collapsible_text.style.display = \"block\";\n",
       "                            } else {\n",
       "                                collapsible_text.style.display = \"none\";\n",
       "                            }\n",
       "                        }\n",
       "                        </script>\n",
       "                    \n",
       "                        <div style=\"margin-left: 20px;\">\n",
       "                            <button type=\"button\" onclick=\"toggle_text_ZutrHgNhMS()\">4 | Completion | 0.86$/1k | 0.84s | gpt-4.1</button>\n",
       "                            <div id=\"collapsible_text_ZutrHgNhMS\" style=\"display:none;\">\n",
       "                                <p><pre id=\"jsonOutput\">chosen_action={&#x27;action_id&#x27;: &#x27;get_weather_info&#x27;, &#x27;city&#x27;: &#x27;Chicago&#x27;, &#x27;measurement&#x27;: &#x27;fahrenheit&#x27;}</pre></p>\n",
       "                            </div>\n",
       "                        </div>\n",
       "                        <script>\n",
       "                        function toggle_text_ZutrHgNhMS() {\n",
       "                            var collapsible_text = document.getElementById(\"collapsible_text_ZutrHgNhMS\");\n",
       "                            if (collapsible_text.style.display === \"none\") {\n",
       "                                collapsible_text.style.display = \"block\";\n",
       "                            } else {\n",
       "                                collapsible_text.style.display = \"none\";\n",
       "                            }\n",
       "                        }\n",
       "                        </script>\n",
       "                    \n",
       "                        <div style=\"margin-left: 20px;\">\n",
       "                            <button type=\"button\" onclick=\"toggle_text_ZwphSCRbsP()\">5 | Prompt | messages=9 | 1.04$/1k | 0.79s | gpt-4.1</button>\n",
       "                            <div id=\"collapsible_text_ZwphSCRbsP\" style=\"display:none;\">\n",
       "                                <p><pre id=\"jsonOutput\">[system]</br>Please select the next best action to achieve the goal.</br></br>&lt;goal&gt;</br>State the current date along with average temperature between LA, NY and Chicago in Fahrenheit.</br>&lt;/goal&gt;</br></br>Answer in JSON format with exactly one next best action:</br>{</br>  chosen_action: {</br>    // Calculates/evaluates the given expression.</br>    action_id: &quot;calculate&quot;,</br>    expression: string,</br>  } OR {</br>    // Get the current time in the configured local timezone</br>    action_id: &quot;get-current-time&quot;,</br>  } OR {</br>    // Get weather information for a given city.</br>    action_id: &quot;get_weather_info&quot;,</br>    city: string,</br>    measurement: &quot;celsius&quot; OR &quot;fahrenheit&quot; OR null,</br>  } OR {</br>    // You&#x27;re ready to provide the final answer or are unable to continue (e.g. stuck in a loop).</br>    action_id: &quot;stop&quot;,</br>    final_result: string,</br>  },</br>}</br></br>[assistant]</br>chosen_action={&#x27;action_id&#x27;: &#x27;get-current-time&#x27;}</br></br>[user]</br>The current time is 2025-04-23 10:57:03</br></br>[assistant]</br>chosen_action={&#x27;action_id&#x27;: &#x27;get_weather_info&#x27;, &#x27;city&#x27;: &#x27;Los Angeles&#x27;, &#x27;measurement&#x27;: &#x27;fahrenheit&#x27;}</br></br>[user]</br>The weather in Los Angeles is 73.4 degrees fahrenheit with windy conditions.</br></br>[assistant]</br>chosen_action={&#x27;action_id&#x27;: &#x27;get_weather_info&#x27;, &#x27;city&#x27;: &#x27;New York&#x27;, &#x27;measurement&#x27;: &#x27;fahrenheit&#x27;}</br></br>[user]</br>The weather in New York is 26.6 degrees fahrenheit with stormy conditions.</br></br>[assistant]</br>chosen_action={&#x27;action_id&#x27;: &#x27;get_weather_info&#x27;, &#x27;city&#x27;: &#x27;Chicago&#x27;, &#x27;measurement&#x27;: &#x27;fahrenheit&#x27;}</br></br>[user]</br>The weather in Chicago is 48.2 degrees fahrenheit with cloudy conditions.</pre></p>\n",
       "                            </div>\n",
       "                        </div>\n",
       "                        <script>\n",
       "                        function toggle_text_ZwphSCRbsP() {\n",
       "                            var collapsible_text = document.getElementById(\"collapsible_text_ZwphSCRbsP\");\n",
       "                            if (collapsible_text.style.display === \"none\") {\n",
       "                                collapsible_text.style.display = \"block\";\n",
       "                            } else {\n",
       "                                collapsible_text.style.display = \"none\";\n",
       "                            }\n",
       "                        }\n",
       "                        </script>\n",
       "                    \n",
       "                        <div style=\"margin-left: 20px;\">\n",
       "                            <button type=\"button\" onclick=\"toggle_text_GayfcMJZDX()\">5 | Completion | 1.04$/1k | 0.79s | gpt-4.1</button>\n",
       "                            <div id=\"collapsible_text_GayfcMJZDX\" style=\"display:none;\">\n",
       "                                <p><pre id=\"jsonOutput\">chosen_action={</br>  &quot;action_id&quot;: &quot;calculate&quot;,</br>  &quot;expression&quot;: &quot;(73.4 + 26.6 + 48.2) / 3&quot;</br>}</pre></p>\n",
       "                            </div>\n",
       "                        </div>\n",
       "                        <script>\n",
       "                        function toggle_text_GayfcMJZDX() {\n",
       "                            var collapsible_text = document.getElementById(\"collapsible_text_GayfcMJZDX\");\n",
       "                            if (collapsible_text.style.display === \"none\") {\n",
       "                                collapsible_text.style.display = \"block\";\n",
       "                            } else {\n",
       "                                collapsible_text.style.display = \"none\";\n",
       "                            }\n",
       "                        }\n",
       "                        </script>\n",
       "                    \n",
       "                        <div style=\"margin-left: 20px;\">\n",
       "                            <button type=\"button\" onclick=\"toggle_text_RGMWSSdSJV()\">6 | Prompt | messages=11 | 1.28$/1k | 1.38s | gpt-4.1</button>\n",
       "                            <div id=\"collapsible_text_RGMWSSdSJV\" style=\"display:none;\">\n",
       "                                <p><pre id=\"jsonOutput\">[system]</br>Please select the next best action to achieve the goal.</br></br>&lt;goal&gt;</br>State the current date along with average temperature between LA, NY and Chicago in Fahrenheit.</br>&lt;/goal&gt;</br></br>Answer in JSON format with exactly one next best action:</br>{</br>  chosen_action: {</br>    // Calculates/evaluates the given expression.</br>    action_id: &quot;calculate&quot;,</br>    expression: string,</br>  } OR {</br>    // Get the current time in the configured local timezone</br>    action_id: &quot;get-current-time&quot;,</br>  } OR {</br>    // Get weather information for a given city.</br>    action_id: &quot;get_weather_info&quot;,</br>    city: string,</br>    measurement: &quot;celsius&quot; OR &quot;fahrenheit&quot; OR null,</br>  } OR {</br>    // You&#x27;re ready to provide the final answer or are unable to continue (e.g. stuck in a loop).</br>    action_id: &quot;stop&quot;,</br>    final_result: string,</br>  },</br>}</br></br>[assistant]</br>chosen_action={&#x27;action_id&#x27;: &#x27;get-current-time&#x27;}</br></br>[user]</br>The current time is 2025-04-23 10:57:03</br></br>[assistant]</br>chosen_action={&#x27;action_id&#x27;: &#x27;get_weather_info&#x27;, &#x27;city&#x27;: &#x27;Los Angeles&#x27;, &#x27;measurement&#x27;: &#x27;fahrenheit&#x27;}</br></br>[user]</br>The weather in Los Angeles is 73.4 degrees fahrenheit with windy conditions.</br></br>[assistant]</br>chosen_action={&#x27;action_id&#x27;: &#x27;get_weather_info&#x27;, &#x27;city&#x27;: &#x27;New York&#x27;, &#x27;measurement&#x27;: &#x27;fahrenheit&#x27;}</br></br>[user]</br>The weather in New York is 26.6 degrees fahrenheit with stormy conditions.</br></br>[assistant]</br>chosen_action={&#x27;action_id&#x27;: &#x27;get_weather_info&#x27;, &#x27;city&#x27;: &#x27;Chicago&#x27;, &#x27;measurement&#x27;: &#x27;fahrenheit&#x27;}</br></br>[user]</br>The weather in Chicago is 48.2 degrees fahrenheit with cloudy conditions.</br></br>[assistant]</br>chosen_action={&#x27;action_id&#x27;: &#x27;calculate&#x27;, &#x27;expression&#x27;: &#x27;(73.4 + 26.6 + 48.2) / 3&#x27;}</br></br>[user]</br>49.4</pre></p>\n",
       "                            </div>\n",
       "                        </div>\n",
       "                        <script>\n",
       "                        function toggle_text_RGMWSSdSJV() {\n",
       "                            var collapsible_text = document.getElementById(\"collapsible_text_RGMWSSdSJV\");\n",
       "                            if (collapsible_text.style.display === \"none\") {\n",
       "                                collapsible_text.style.display = \"block\";\n",
       "                            } else {\n",
       "                                collapsible_text.style.display = \"none\";\n",
       "                            }\n",
       "                        }\n",
       "                        </script>\n",
       "                    \n",
       "                        <div style=\"margin-left: 20px;\">\n",
       "                            <button type=\"button\" onclick=\"toggle_text_yVuapkyIVz()\">6 | Completion | 1.28$/1k | 1.38s | gpt-4.1</button>\n",
       "                            <div id=\"collapsible_text_yVuapkyIVz\" style=\"display:none;\">\n",
       "                                <p><pre id=\"jsonOutput\">{</br>  &quot;chosen_action&quot;: {</br>    &quot;action_id&quot;: &quot;stop&quot;,</br>    &quot;final_result&quot;: &quot;The current date is 2025-04-23. The average temperature between Los Angeles, New York, and Chicago is 49.4°F.&quot;</br>  }</br>}</pre></p>\n",
       "                            </div>\n",
       "                        </div>\n",
       "                        <script>\n",
       "                        function toggle_text_yVuapkyIVz() {\n",
       "                            var collapsible_text = document.getElementById(\"collapsible_text_yVuapkyIVz\");\n",
       "                            if (collapsible_text.style.display === \"none\") {\n",
       "                                collapsible_text.style.display = \"block\";\n",
       "                            } else {\n",
       "                                collapsible_text.style.display = \"none\";\n",
       "                            }\n",
       "                        }\n",
       "                        </script>\n",
       "                    \n",
       "            </div>\n",
       "\n",
       "            <script>\n",
       "            function toggle_text_MvrCWBdbuR() {\n",
       "                var collapsible_text = document.getElementById(\"collapsible_text_MvrCWBdbuR\");\n",
       "                if (collapsible_text.style.display === \"none\") {\n",
       "                    collapsible_text.style.display = \"block\";\n",
       "                } else {\n",
       "                    collapsible_text.style.display = \"none\";\n",
       "                }\n",
       "            }\n",
       "            </script>"
      ],
      "text/plain": [
       "<IPython.core.display.HTML object>"
      ]
     },
     "metadata": {},
     "output_type": "display_data"
    }
   ],
   "source": [
    "await m.display_session(task)"
   ]
  },
  {
   "cell_type": "markdown",
   "metadata": {},
   "source": [
    "![Image](https://github.com/user-attachments/assets/ea55c3e7-147d-41aa-99ce-40e4783f7818)"
   ]
  }
 ],
 "metadata": {
  "kernelspec": {
   "display_name": ".venv",
   "language": "python",
   "name": "python3"
  },
  "language_info": {
   "codemirror_mode": {
    "name": "ipython",
    "version": 3
   },
   "file_extension": ".py",
   "mimetype": "text/x-python",
   "name": "python",
   "nbconvert_exporter": "python",
   "pygments_lexer": "ipython3",
   "version": "3.13.0"
  }
 },
 "nbformat": 4,
 "nbformat_minor": 2
}

