{
 "cells": [
  {
   "cell_type": "code",
   "execution_count": 1,
   "metadata": {},
   "outputs": [],
   "source": [
    "from dotenv import load_dotenv  # type: ignore\n",
    "import jupyter_black\n",
    "load_dotenv()\n",
    "jupyter_black.load()"
   ]
  },
  {
   "cell_type": "code",
   "execution_count": 2,
   "metadata": {},
   "outputs": [],
   "source": [
    "import os\n",
    "from baml_agents import with_hooks\n",
    "from baml_client.sync_client import b as sb\n",
    "from baml_client.async_client import b as ab\n",
    "from openai import AsyncOpenAI\n",
    "\n",
    "client = AsyncOpenAI(base_url=os.getenv(\"OPENAI_API_BASE\"))"
   ]
  },
  {
   "cell_type": "code",
   "execution_count": 3,
   "metadata": {},
   "outputs": [],
   "source": [
    "input_text = \"i'm john from chicago\"\n",
    "expected_name = \"Chicago\"\n",
    "\n",
    "b = with_hooks(sb, [])\n",
    "actual = b.TestBamlHooks_ExtractCity(input_text)\n",
    "assert actual.name == expected_name, f\"Expected {expected_name}, got {actual.name}\"\n",
    "\n",
    "b = with_hooks(ab, [])\n",
    "actual = await b.TestBamlHooks_ExtractCity(input_text)\n",
    "assert actual.name == expected_name, f\"Expected {expected_name}, got {actual.name}\"\n",
    "\n",
    "b = with_hooks(sb, [])\n",
    "request = b.request.TestBamlHooks_ExtractCity(input_text)\n",
    "response = await client.chat.completions.create(**request.body.json())\n",
    "actual = b.parse.TestBamlHooks_ExtractCity(response.choices[0].message.content)\n",
    "assert actual.name == expected_name, f\"Expected {expected_name}, got {actual.name}\"\n",
    "\n",
    "b = with_hooks(ab, [])\n",
    "request = await b.request.TestBamlHooks_ExtractCity(input_text)\n",
    "response = await client.chat.completions.create(**request.body.json())\n",
    "actual = b.parse.TestBamlHooks_ExtractCity(response.choices[0].message.content)\n",
    "assert actual.name == expected_name, f\"Expected {expected_name}, got {actual.name}\""
   ]
  },
  {
   "cell_type": "code",
   "execution_count": 4,
   "metadata": {},
   "outputs": [],
   "source": [
    "import pytest\n",
    "\n",
    "b = with_hooks(sb, [])\n",
    "with pytest.raises(AttributeError):\n",
    "    b = b.with_options()"
   ]
  },
  {
   "cell_type": "code",
   "execution_count": 8,
   "metadata": {},
   "outputs": [
    {
     "name": "stdout",
     "output_type": "stream",
     "text": [
      "WithOptions1\n",
      "WithOptions2\n",
      "BaseBamlHookSync\n",
      "BaseBamlHookSync\n",
      "BaseBamlHookSync\n",
      "BaseBamlHookSync\n"
     ]
    }
   ],
   "source": [
    "from baml_py import ClientRegistry\n",
    "from baml_agents import with_hooks, WithOptions\n",
    "from baml_agents._baml_client_proxy._hooks._base_hook import BaseBamlHookSync\n",
    "from baml_client.sync_client import b\n",
    "\n",
    "cr = ClientRegistry()\n",
    "cr.add_llm_client(\"MyClient\", \"openai\", options={\"model\": \"first\"})\n",
    "cr.set_primary(\"MyClient\")\n",
    "\n",
    "\n",
    "class WithOptions1(WithOptions):\n",
    "    pass\n",
    "\n",
    "\n",
    "# Replaces b.with_options(client_registry=cr)\n",
    "b = with_hooks(\n",
    "    b, [BaseBamlHookSync(), WithOptions1(client_registry=cr), BaseBamlHookSync()]\n",
    ")\n",
    "\n",
    "cr = ClientRegistry()\n",
    "cr.add_llm_client(\"MyClient\", \"openai\", options={\"model\": \"second\"})\n",
    "cr.set_primary(\"MyClient\")\n",
    "\n",
    "\n",
    "class WithOptions2(WithOptions):\n",
    "    pass\n",
    "\n",
    "\n",
    "# Replaces b.with_options(client_registry=cr)\n",
    "b = with_hooks(\n",
    "    b, [BaseBamlHookSync(), WithOptions2(client_registry=cr), BaseBamlHookSync()]\n",
    ")\n",
    "\n",
    "request = b.request.TestBamlHooks_ExtractEntities(\"my name is john and im from NY\")\n",
    "assert request.body.json()[\"model\"] == \"second\""
   ]
  }
 ],
 "metadata": {
  "kernelspec": {
   "display_name": ".venv",
   "language": "python",
   "name": "python3"
  },
  "language_info": {
   "codemirror_mode": {
    "name": "ipython",
    "version": 3
   },
   "file_extension": ".py",
   "mimetype": "text/x-python",
   "name": "python",
   "nbconvert_exporter": "python",
   "pygments_lexer": "ipython3",
   "version": "3.13.0"
  }
 },
 "nbformat": 4,
 "nbformat_minor": 2
}
