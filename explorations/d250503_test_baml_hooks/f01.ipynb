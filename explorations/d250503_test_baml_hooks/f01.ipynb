{
 "cells": [
  {
   "cell_type": "code",
   "execution_count": 1,
   "metadata": {},
   "outputs": [],
   "source": [
    "from dotenv import load_dotenv  # type: ignore\n",
    "_ = load_dotenv()"
   ]
  },
  {
   "cell_type": "code",
   "execution_count": 2,
   "metadata": {},
   "outputs": [],
   "source": [
    "from baml_agents._baml_hooks._with_hooks import with_hooks\n",
    "from baml_client.sync_client import b as sb\n",
    "from baml_client.async_client import b as ab\n",
    "from openai import AsyncOpenAI\n",
    "client = AsyncOpenAI()"
   ]
  },
  {
   "cell_type": "code",
   "execution_count": 3,
   "metadata": {},
   "outputs": [],
   "source": [
    "# expected_name = \"New York\"\n",
    "\n",
    "# b = with_hooks(sb, [])\n",
    "# actual = b.TestBamlHooks_ExtractCity(\"john from NY\")\n",
    "# assert actual.name == expected_name\n",
    "\n",
    "# b = with_hooks(ab, [])\n",
    "# actual = await b.TestBamlHooks_ExtractCity(\"john from NY\")\n",
    "# assert actual.name == expected_name\n",
    "\n",
    "# b = with_hooks(sb, [])\n",
    "# request = b.request.TestBamlHooks_ExtractCity(\"john from NY\")\n",
    "# response = await client.chat.completions.create(**request.body.json())\n",
    "# actual = b.parse.TestBamlHooks_ExtractCity(response.choices[0].message.content)\n",
    "# assert actual.name == expected_name\n",
    "\n",
    "# b = with_hooks(ab, [])\n",
    "# request = await b.request.TestBamlHooks_ExtractCity(\"john from NY\")\n",
    "# response = await client.chat.completions.create(**request.body.json())\n",
    "# actual = b.parse.TestBamlHooks_ExtractCity(response.choices[0].message.content)\n",
    "# assert actual.name == expected_name"
   ]
  },
  {
   "cell_type": "code",
   "execution_count": 8,
   "metadata": {},
   "outputs": [
    {
     "name": "stdout",
     "output_type": "stream",
     "text": [
      "default_baml_options={}\n",
      "baml_function_name='TestBamlHooks_ExtractCity' baml_function_return_type=<class 'str'> baml_function_async=True baml_function_options={} hook_state={}\n"
     ]
    },
    {
     "data": {
      "text/plain": [
       "BamlMutableResult(baml_function_return_value=TestBamlHooks_City(type='city', name='Los Angeles'))"
      ]
     },
     "execution_count": 8,
     "metadata": {},
     "output_type": "execute_result"
    }
   ],
   "source": [
    "from baml_agents import BamlMutableParams, OnBeforeCallHook, OnBeforeCallHookContext\n",
    "from baml_client.type_builder import TypeBuilder\n",
    "\n",
    "\n",
    "class ModifyArgs(OnBeforeCallHook):\n",
    "    def on_before_call_sync(\n",
    "        self,\n",
    "        context: OnBeforeCallHookContext,\n",
    "        mutable_args: BamlMutableParams,\n",
    "    ) -> None:\n",
    "        print(context)\n",
    "        mutable_args.params['text'] = mutable_args.params['text'].replace(\"NY\", \"LA\")\n",
    "    \n",
    "\n",
    "b = ab.with_options()\n",
    "b = with_hooks(b, [ModifyArgs])\n",
    "actual = await b.TestBamlHooks_ExtractCity(\"my name is john and im from NY\", baml_options={})\n",
    "actual"
   ]
  }
 ],
 "metadata": {
  "kernelspec": {
   "display_name": ".venv",
   "language": "python",
   "name": "python3"
  },
  "language_info": {
   "codemirror_mode": {
    "name": "ipython",
    "version": 3
   },
   "file_extension": ".py",
   "mimetype": "text/x-python",
   "name": "python",
   "nbconvert_exporter": "python",
   "pygments_lexer": "ipython3",
   "version": "3.13.0"
  }
 },
 "nbformat": 4,
 "nbformat_minor": 2
}
