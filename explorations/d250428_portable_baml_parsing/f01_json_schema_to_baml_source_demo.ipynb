{
 "cells": [
  {
   "cell_type": "code",
   "execution_count": 1,
   "metadata": {},
   "outputs": [],
   "source": [
    "json_schema = \"\"\"\n",
    "{\n",
    "  \"title\": \"Person\",\n",
    "  \"type\": \"object\",\n",
    "  \"properties\": {\n",
    "    \"first\": {\n",
    "      \"type\": \"string\",\n",
    "      \"description\": \"The person's first name.\"\n",
    "    },\n",
    "    \"last\": {\n",
    "      \"type\": \"string\",\n",
    "      \"description\": \"The person's last name.\"\n",
    "    },\n",
    "    \"age\": {\n",
    "      \"description\": \"Age in years which must be equal to or greater than zero.\",\n",
    "      \"type\": \"integer\"\n",
    "    }\n",
    "  },\n",
    "  \"required\": [\"first\", \"last\"]\n",
    "}\n",
    "\"\"\""
   ]
  },
  {
   "cell_type": "markdown",
   "metadata": {},
   "source": []
  },
  {
   "cell_type": "code",
   "execution_count": 2,
   "metadata": {},
   "outputs": [
    {
     "name": "stdout",
     "output_type": "stream",
     "text": [
      "class Person {\n",
      "  firstName string @description(#\"The person's first name.\"#)\n",
      "  lastName string @description(#\"The person's last name.\"#)\n",
      "  age int? @description(#\"Age in years which must be equal to or greater than zero.\"#)\n",
      "}\n",
      "\n"
     ]
    }
   ],
   "source": [
    "from baml_agents._agent_tools._json_schema_to_baml_source._json_to_model import (\n",
    "    JsonSchemaToBamlModelConverter,\n",
    ")\n",
    "from baml_agents._agent_tools._json_schema_to_baml_source._model_to_baml_source import (\n",
    "    BamlModelToBamlSourceConverter,\n",
    ")\n",
    "\n",
    "baml_models = JsonSchemaToBamlModelConverter(json_schema, \"Person\").convert()\n",
    "baml_source = BamlModelToBamlSourceConverter(baml_models).generate()\n",
    "print(baml_source)"
   ]
  }
 ],
 "metadata": {
  "kernelspec": {
   "display_name": ".venv",
   "language": "python",
   "name": "python3"
  },
  "language_info": {
   "codemirror_mode": {
    "name": "ipython",
    "version": 3
   },
   "file_extension": ".py",
   "mimetype": "text/x-python",
   "name": "python",
   "nbconvert_exporter": "python",
   "pygments_lexer": "ipython3",
   "version": "3.13.0"
  }
 },
 "nbformat": 4,
 "nbformat_minor": 2
}
