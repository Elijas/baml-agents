{
 "cells": [
  {
   "cell_type": "code",
   "execution_count": 1,
   "metadata": {},
   "outputs": [
    {
     "name": "stdout",
     "output_type": "stream",
     "text": [
      "return_type='Person'\n"
     ]
    }
   ],
   "source": [
    "import baml_py\n",
    "import jupyter_black\n",
    "from unittest.mock import Mock\n",
    "from pprint import pprint\n",
    "\n",
    "import explorations.d250428_portable_baml_parsing.f02_portable_baml_parser_types as types\n",
    "from baml_agents._agent_tools._json_schema_to_baml_source._json_to_model import (\n",
    "    JsonSchemaToBamlModelConverter,\n",
    ")\n",
    "from baml_agents._agent_tools._json_schema_to_baml_source._model_to_baml_source import (\n",
    "    BamlModelToBamlSourceConverter,\n",
    ")\n",
    "\n",
    "jupyter_black.load()\n",
    "\n",
    "return_type = types.Person.__name__\n",
    "print(f\"{return_type=}\")"
   ]
  },
  {
   "cell_type": "code",
   "execution_count": 2,
   "metadata": {},
   "outputs": [
    {
     "name": "stdout",
     "output_type": "stream",
     "text": [
      "{'properties': {'age': {'anyOf': [{'type': 'integer'}, {'type': 'null'}],\n",
      "                        'default': None,\n",
      "                        'description': 'Age in years which must be equal to or '\n",
      "                                       'greater than zero.',\n",
      "                        'title': 'Age'},\n",
      "                'first': {'description': \"The person's first name.\",\n",
      "                          'title': 'First',\n",
      "                          'type': 'string'},\n",
      "                'last': {'description': \"The person's last name.\",\n",
      "                         'title': 'Last',\n",
      "                         'type': 'string'}},\n",
      " 'required': ['first', 'last'],\n",
      " 'title': 'Person',\n",
      " 'type': 'object'}\n"
     ]
    }
   ],
   "source": [
    "json_schema = types.Person.model_json_schema()\n",
    "pprint(json_schema)"
   ]
  },
  {
   "cell_type": "code",
   "execution_count": 3,
   "metadata": {},
   "outputs": [
    {
     "name": "stdout",
     "output_type": "stream",
     "text": [
      "class Person {\n",
      "  first string @description(#\"The person's first name.\"#)\n",
      "  last string @description(#\"The person's last name.\"#)\n",
      "  age int? @description(#\"Age in years which must be equal to or greater than zero.\"#)\n",
      "}\n",
      "\n",
      "function Virtual() -> Person {\n",
      "  client \"openai/gpt-4o\"\n",
      "  prompt #\"\"#\n",
      "}\n"
     ]
    }
   ],
   "source": [
    "baml_models = JsonSchemaToBamlModelConverter(json_schema, return_type).convert()\n",
    "baml_source = BamlModelToBamlSourceConverter(baml_models).generate()\n",
    "\n",
    "full_baml_source = f\"\"\"\\\n",
    "{baml_source}\n",
    "function Virtual() -> {return_type} {{\n",
    "  client \"openai/gpt-4o\"\n",
    "  prompt #\"\"#\n",
    "}}\"\"\"\n",
    "print(full_baml_source)"
   ]
  },
  {
   "cell_type": "code",
   "execution_count": 4,
   "metadata": {},
   "outputs": [],
   "source": [
    "baml_runtime = baml_py.BamlRuntime.from_files(\n",
    "    root_path=\"baml_src\", files={\"virtual.baml\": full_baml_source}, env_vars={}\n",
    ")\n",
    "baml_ctx = baml_py.BamlCtxManager(baml_runtime).get()"
   ]
  },
  {
   "cell_type": "code",
   "execution_count": 5,
   "metadata": {},
   "outputs": [
    {
     "name": "stdout",
     "output_type": "stream",
     "text": [
      "person.first='John'\n",
      "person.last='Doe Johnson'\n",
      "person.age=25\n"
     ]
    }
   ],
   "source": [
    "llm_response = \"\"\"\\\n",
    "Here is your answer\n",
    "{\n",
    "  first: \"John\",\n",
    "  \"last\": Doe Johnson,\n",
    "  age: \"25\"\n",
    "}\n",
    "Let me know if you need anything else\n",
    "\"\"\"\n",
    "\n",
    "person = baml_runtime.parse_llm_response(\n",
    "    \"Virtual\",\n",
    "    llm_response,\n",
    "    types,  # enum_module\n",
    "    types,  # cls_module\n",
    "    types,  # partial_cls_module\n",
    "    False,  # allow_partials\n",
    "    baml_ctx.deep_clone(),  # ctx\n",
    "    None,  # tb\n",
    "    None,  # cr\n",
    ")\n",
    "print(f\"{person.first=}\\n{person.last=}\\n{person.age=}\")"
   ]
  }
 ],
 "metadata": {
  "kernelspec": {
   "display_name": ".venv",
   "language": "python",
   "name": "python3"
  },
  "language_info": {
   "codemirror_mode": {
    "name": "ipython",
    "version": 3
   },
   "file_extension": ".py",
   "mimetype": "text/x-python",
   "name": "python",
   "nbconvert_exporter": "python",
   "pygments_lexer": "ipython3",
   "version": "3.13.0"
  }
 },
 "nbformat": 4,
 "nbformat_minor": 2
}
