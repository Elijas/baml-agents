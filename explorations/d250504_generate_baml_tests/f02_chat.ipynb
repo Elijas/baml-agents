{
 "cells": [
  {
   "cell_type": "code",
   "execution_count": 1,
   "metadata": {},
   "outputs": [],
   "source": [
    "import jupyter_black\n",
    "import dotenv\n",
    "\n",
    "dotenv.load_dotenv()\n",
    "jupyter_black.load()"
   ]
  },
  {
   "cell_type": "code",
   "execution_count": 2,
   "metadata": {},
   "outputs": [],
   "source": [
    "from typing import Any\n",
    "from baml_agents._baml_client_proxy._hooks._on_before_call_hook import (\n",
    "    OnBeforeCallHookContext,\n",
    "    OnBeforeCallHookSync,\n",
    ")\n",
    "from baml_client.sync_client import b\n",
    "from baml_client import types\n",
    "from baml_agents import with_hooks\n",
    "from f01_chat import get_args_block_str\n",
    "\n",
    "\n",
    "class BamlTestGeneratorHook(OnBeforeCallHookSync):\n",
    "    def __init__(self):\n",
    "        self.counter = 0\n",
    "        self.baml_test_source_code = \"\"\n",
    "\n",
    "    def on_before_call(self, params: dict[str, Any], ctx: OnBeforeCallHookContext):\n",
    "        self.counter += 1\n",
    "        test_name = f\"llm_call_{self.counter}\"\n",
    "        args_block_str = get_args_block_str(params)\n",
    "        self.baml_test_source_code += f\"\"\"\\\n",
    "test {test_name} {{\n",
    "  functions [{ctx.baml_function_name}]\n",
    "  args {{\n",
    "{args_block_str}\n",
    "  }}\n",
    "}}\\n\\n\"\"\""
   ]
  },
  {
   "cell_type": "code",
   "execution_count": 3,
   "metadata": {},
   "outputs": [
    {
     "name": "stdout",
     "output_type": "stream",
     "text": [
      "test llm_call_1 {\n",
      "  functions [ChatWithLLM]\n",
      "  args {\n",
      "    messages [\n",
      "      {\n",
      "        role \"user\"\n",
      "        content \"What's the weather like?\"\n",
      "      }\n",
      "    ]\n",
      "  }\n",
      "}\n",
      "\n",
      "test llm_call_2 {\n",
      "  functions [ChatWithLLM]\n",
      "  args {\n",
      "    messages [\n",
      "      {\n",
      "        role \"user\"\n",
      "        content \"What's the weather like?\"\n",
      "      },\n",
      "      {\n",
      "        role \"assistant\"\n",
      "        content \"It's sunny.\"\n",
      "      },\n",
      "      {\n",
      "        role \"user\"\n",
      "        content \"Do you like sunny weather?\"\n",
      "      }\n",
      "    ]\n",
      "  }\n",
      "}\n",
      "\n",
      "\n"
     ]
    }
   ],
   "source": [
    "test_hook = BamlTestGeneratorHook()\n",
    "b = with_hooks(b, [test_hook])\n",
    "\n",
    "b.ChatWithLLM(\n",
    "    messages=[\n",
    "        types.LLMChatMessage(role=\"user\", content=\"What's the weather like?\"),\n",
    "    ]\n",
    ")\n",
    "b.ChatWithLLM(\n",
    "    messages=[\n",
    "        types.LLMChatMessage(role=\"user\", content=\"What's the weather like?\"),\n",
    "        types.LLMChatMessage(role=\"assistant\", content=\"It's sunny.\"),\n",
    "        types.LLMChatMessage(role=\"user\", content=\"Do you like sunny weather?\"),\n",
    "    ]\n",
    ")\n",
    "\n",
    "print(test_hook.baml_test_source_code)"
   ]
  }
 ],
 "metadata": {
  "kernelspec": {
   "display_name": ".venv",
   "language": "python",
   "name": "python3"
  },
  "language_info": {
   "codemirror_mode": {
    "name": "ipython",
    "version": 3
   },
   "file_extension": ".py",
   "mimetype": "text/x-python",
   "name": "python",
   "nbconvert_exporter": "python",
   "pygments_lexer": "ipython3",
   "version": "3.13.0"
  }
 },
 "nbformat": 4,
 "nbformat_minor": 2
}
